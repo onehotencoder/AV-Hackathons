{
 "cells": [
  {
   "cell_type": "code",
   "execution_count": 40,
   "metadata": {
    "collapsed": true
   },
   "outputs": [],
   "source": [
    "from time import time\n",
    "import matplotlib\n",
    "import pandas as pd\n",
    "import numpy as np\n",
    "import re\n",
    "import datetime\n",
    "from time import time\n",
    "from nltk.corpus import stopwords\n",
    "from sklearn.preprocessing import LabelEncoder\n",
    "from nltk.stem.snowball import SnowballStemmer\n",
    "from sklearn.feature_extraction.text import CountVectorizer, TfidfVectorizer\n",
    "import xgboost as xgb\n",
    "import matplotlib.pyplot as plt\n",
    "import seaborn as sns\n",
    "from IPython.display import display\n",
    "\n",
    "%matplotlib inline\n",
    "matplotlib.style.use('ggplot')"
   ]
  },
  {
   "cell_type": "code",
   "execution_count": 41,
   "metadata": {
    "collapsed": true
   },
   "outputs": [],
   "source": [
    "train = pd.read_csv('train.csv')\n",
    "test = pd.read_csv('test.csv')\n",
    "campaign_data = pd.read_csv('campaign_data.csv')\n",
    "# o_test = test.copy()"
   ]
  },
  {
   "cell_type": "code",
   "execution_count": 42,
   "metadata": {},
   "outputs": [
    {
     "data": {
      "text/html": [
       "<div>\n",
       "<style scoped>\n",
       "    .dataframe tbody tr th:only-of-type {\n",
       "        vertical-align: middle;\n",
       "    }\n",
       "\n",
       "    .dataframe tbody tr th {\n",
       "        vertical-align: top;\n",
       "    }\n",
       "\n",
       "    .dataframe thead th {\n",
       "        text-align: right;\n",
       "    }\n",
       "</style>\n",
       "<table border=\"1\" class=\"dataframe\">\n",
       "  <thead>\n",
       "    <tr style=\"text-align: right;\">\n",
       "      <th></th>\n",
       "      <th>id</th>\n",
       "      <th>user_id</th>\n",
       "      <th>campaign_id</th>\n",
       "      <th>send_date</th>\n",
       "      <th>is_open</th>\n",
       "      <th>is_click</th>\n",
       "    </tr>\n",
       "  </thead>\n",
       "  <tbody>\n",
       "    <tr>\n",
       "      <th>0</th>\n",
       "      <td>42_14051</td>\n",
       "      <td>14051</td>\n",
       "      <td>42</td>\n",
       "      <td>01-09-2017 19:55</td>\n",
       "      <td>0</td>\n",
       "      <td>0</td>\n",
       "    </tr>\n",
       "    <tr>\n",
       "      <th>1</th>\n",
       "      <td>52_134438</td>\n",
       "      <td>134438</td>\n",
       "      <td>52</td>\n",
       "      <td>02-11-2017 12:53</td>\n",
       "      <td>0</td>\n",
       "      <td>0</td>\n",
       "    </tr>\n",
       "    <tr>\n",
       "      <th>2</th>\n",
       "      <td>33_181789</td>\n",
       "      <td>181789</td>\n",
       "      <td>33</td>\n",
       "      <td>24-07-2017 15:15</td>\n",
       "      <td>0</td>\n",
       "      <td>0</td>\n",
       "    </tr>\n",
       "    <tr>\n",
       "      <th>3</th>\n",
       "      <td>44_231448</td>\n",
       "      <td>231448</td>\n",
       "      <td>44</td>\n",
       "      <td>05-09-2017 11:36</td>\n",
       "      <td>0</td>\n",
       "      <td>0</td>\n",
       "    </tr>\n",
       "    <tr>\n",
       "      <th>4</th>\n",
       "      <td>29_185580</td>\n",
       "      <td>185580</td>\n",
       "      <td>29</td>\n",
       "      <td>01-07-2017 18:01</td>\n",
       "      <td>0</td>\n",
       "      <td>0</td>\n",
       "    </tr>\n",
       "  </tbody>\n",
       "</table>\n",
       "</div>"
      ],
      "text/plain": [
       "          id  user_id  campaign_id         send_date  is_open  is_click\n",
       "0   42_14051    14051           42  01-09-2017 19:55        0         0\n",
       "1  52_134438   134438           52  02-11-2017 12:53        0         0\n",
       "2  33_181789   181789           33  24-07-2017 15:15        0         0\n",
       "3  44_231448   231448           44  05-09-2017 11:36        0         0\n",
       "4  29_185580   185580           29  01-07-2017 18:01        0         0"
      ]
     },
     "execution_count": 42,
     "metadata": {},
     "output_type": "execute_result"
    }
   ],
   "source": [
    "train.head()"
   ]
  },
  {
   "cell_type": "code",
   "execution_count": 43,
   "metadata": {},
   "outputs": [
    {
     "data": {
      "text/html": [
       "<div>\n",
       "<style scoped>\n",
       "    .dataframe tbody tr th:only-of-type {\n",
       "        vertical-align: middle;\n",
       "    }\n",
       "\n",
       "    .dataframe tbody tr th {\n",
       "        vertical-align: top;\n",
       "    }\n",
       "\n",
       "    .dataframe thead th {\n",
       "        text-align: right;\n",
       "    }\n",
       "</style>\n",
       "<table border=\"1\" class=\"dataframe\">\n",
       "  <thead>\n",
       "    <tr style=\"text-align: right;\">\n",
       "      <th></th>\n",
       "      <th>id</th>\n",
       "      <th>campaign_id</th>\n",
       "      <th>user_id</th>\n",
       "      <th>send_date</th>\n",
       "    </tr>\n",
       "  </thead>\n",
       "  <tbody>\n",
       "    <tr>\n",
       "      <th>0</th>\n",
       "      <td>63_122715</td>\n",
       "      <td>63</td>\n",
       "      <td>122715</td>\n",
       "      <td>01-02-2018 22:35</td>\n",
       "    </tr>\n",
       "    <tr>\n",
       "      <th>1</th>\n",
       "      <td>56_76206</td>\n",
       "      <td>56</td>\n",
       "      <td>76206</td>\n",
       "      <td>02-01-2018 08:15</td>\n",
       "    </tr>\n",
       "    <tr>\n",
       "      <th>2</th>\n",
       "      <td>57_96189</td>\n",
       "      <td>57</td>\n",
       "      <td>96189</td>\n",
       "      <td>05-01-2018 18:25</td>\n",
       "    </tr>\n",
       "    <tr>\n",
       "      <th>3</th>\n",
       "      <td>56_166917</td>\n",
       "      <td>56</td>\n",
       "      <td>166917</td>\n",
       "      <td>02-01-2018 08:15</td>\n",
       "    </tr>\n",
       "    <tr>\n",
       "      <th>4</th>\n",
       "      <td>56_172838</td>\n",
       "      <td>56</td>\n",
       "      <td>172838</td>\n",
       "      <td>02-01-2018 08:12</td>\n",
       "    </tr>\n",
       "  </tbody>\n",
       "</table>\n",
       "</div>"
      ],
      "text/plain": [
       "          id  campaign_id  user_id         send_date\n",
       "0  63_122715           63   122715  01-02-2018 22:35\n",
       "1   56_76206           56    76206  02-01-2018 08:15\n",
       "2   57_96189           57    96189  05-01-2018 18:25\n",
       "3  56_166917           56   166917  02-01-2018 08:15\n",
       "4  56_172838           56   172838  02-01-2018 08:12"
      ]
     },
     "execution_count": 43,
     "metadata": {},
     "output_type": "execute_result"
    }
   ],
   "source": [
    "test.head()"
   ]
  },
  {
   "cell_type": "code",
   "execution_count": 44,
   "metadata": {},
   "outputs": [],
   "source": [
    "tmp = train.groupby(['user_id']). \\\n",
    "    agg({'is_click' : [np.mean]}).reset_index()\n",
    "tmp.columns = ['user_id', 'mean_clicks_user_id']\n",
    "train = pd.merge(train, tmp, how='left', on=['user_id']) \n",
    "test = pd.merge(test, tmp, how='left', on=['user_id']) "
   ]
  },
  {
   "cell_type": "code",
   "execution_count": 45,
   "metadata": {
    "collapsed": true
   },
   "outputs": [],
   "source": [
    "tmp = train.groupby(['campaign_id']). \\\n",
    "    agg({'is_click' : [np.mean]}).reset_index()\n",
    "tmp.columns = ['campaign_id', 'mean_clicks_campaign_id']\n",
    "train = pd.merge(train, tmp, how='left', on=['campaign_id']) \n",
    "test = pd.merge(test, tmp, how='left', on=['campaign_id']) "
   ]
  },
  {
   "cell_type": "code",
   "execution_count": 46,
   "metadata": {},
   "outputs": [
    {
     "data": {
      "text/html": [
       "<div>\n",
       "<style scoped>\n",
       "    .dataframe tbody tr th:only-of-type {\n",
       "        vertical-align: middle;\n",
       "    }\n",
       "\n",
       "    .dataframe tbody tr th {\n",
       "        vertical-align: top;\n",
       "    }\n",
       "\n",
       "    .dataframe thead th {\n",
       "        text-align: right;\n",
       "    }\n",
       "</style>\n",
       "<table border=\"1\" class=\"dataframe\">\n",
       "  <thead>\n",
       "    <tr style=\"text-align: right;\">\n",
       "      <th></th>\n",
       "      <th>campaign_id</th>\n",
       "      <th>communication_type</th>\n",
       "      <th>total_links</th>\n",
       "      <th>no_of_internal_links</th>\n",
       "      <th>no_of_images</th>\n",
       "      <th>no_of_sections</th>\n",
       "      <th>email_body</th>\n",
       "      <th>subject</th>\n",
       "      <th>email_url</th>\n",
       "    </tr>\n",
       "  </thead>\n",
       "  <tbody>\n",
       "    <tr>\n",
       "      <th>0</th>\n",
       "      <td>29</td>\n",
       "      <td>Newsletter</td>\n",
       "      <td>67</td>\n",
       "      <td>61</td>\n",
       "      <td>12</td>\n",
       "      <td>3</td>\n",
       "      <td>Dear AVians,\\r\\n \\r\\nWe are shaping up a super...</td>\n",
       "      <td>Sneak Peek: A look at the emerging data scienc...</td>\n",
       "      <td>http://r.newsletters.analyticsvidhya.com/7um44...</td>\n",
       "    </tr>\n",
       "    <tr>\n",
       "      <th>1</th>\n",
       "      <td>30</td>\n",
       "      <td>Upcoming Events</td>\n",
       "      <td>18</td>\n",
       "      <td>14</td>\n",
       "      <td>7</td>\n",
       "      <td>1</td>\n",
       "      <td>Dear AVians,\\r\\n \\r\\nAre your eager to know wh...</td>\n",
       "      <td>[July] Data Science Expert Meetups &amp; Competiti...</td>\n",
       "      <td>http://r.newsletters.analyticsvidhya.com/7up0e...</td>\n",
       "    </tr>\n",
       "    <tr>\n",
       "      <th>2</th>\n",
       "      <td>31</td>\n",
       "      <td>Conference</td>\n",
       "      <td>15</td>\n",
       "      <td>13</td>\n",
       "      <td>5</td>\n",
       "      <td>1</td>\n",
       "      <td>Early Bird Pricing Till August 07  Save upto ...</td>\n",
       "      <td>Last chance to convince your boss before the E...</td>\n",
       "      <td>http://r.newsletters.analyticsvidhya.com/7usym...</td>\n",
       "    </tr>\n",
       "    <tr>\n",
       "      <th>3</th>\n",
       "      <td>32</td>\n",
       "      <td>Conference</td>\n",
       "      <td>24</td>\n",
       "      <td>19</td>\n",
       "      <td>7</td>\n",
       "      <td>1</td>\n",
       "      <td>\\r\\n \\r\\nHi ?\\r\\n \\r\\nBefore I dive into why y...</td>\n",
       "      <td>A.I. &amp; Machine Learning: 5 reasons why you sho...</td>\n",
       "      <td>http://r.newsletters.analyticsvidhya.com/7uthl...</td>\n",
       "    </tr>\n",
       "    <tr>\n",
       "      <th>4</th>\n",
       "      <td>33</td>\n",
       "      <td>Others</td>\n",
       "      <td>7</td>\n",
       "      <td>3</td>\n",
       "      <td>1</td>\n",
       "      <td>1</td>\n",
       "      <td>Fireside Chat with DJ Patil - the master is he...</td>\n",
       "      <td>[Delhi NCR] Fireside Chat with DJ Patil, Forme...</td>\n",
       "      <td>http://r.newsletters.analyticsvidhya.com/7uvlg...</td>\n",
       "    </tr>\n",
       "  </tbody>\n",
       "</table>\n",
       "</div>"
      ],
      "text/plain": [
       "   campaign_id communication_type  total_links  no_of_internal_links  \\\n",
       "0           29         Newsletter           67                    61   \n",
       "1           30    Upcoming Events           18                    14   \n",
       "2           31         Conference           15                    13   \n",
       "3           32         Conference           24                    19   \n",
       "4           33             Others            7                     3   \n",
       "\n",
       "   no_of_images  no_of_sections  \\\n",
       "0            12               3   \n",
       "1             7               1   \n",
       "2             5               1   \n",
       "3             7               1   \n",
       "4             1               1   \n",
       "\n",
       "                                          email_body  \\\n",
       "0  Dear AVians,\\r\\n \\r\\nWe are shaping up a super...   \n",
       "1  Dear AVians,\\r\\n \\r\\nAre your eager to know wh...   \n",
       "2  Early Bird Pricing Till August 07  Save upto ...   \n",
       "3  \\r\\n \\r\\nHi ?\\r\\n \\r\\nBefore I dive into why y...   \n",
       "4  Fireside Chat with DJ Patil - the master is he...   \n",
       "\n",
       "                                             subject  \\\n",
       "0  Sneak Peek: A look at the emerging data scienc...   \n",
       "1  [July] Data Science Expert Meetups & Competiti...   \n",
       "2  Last chance to convince your boss before the E...   \n",
       "3  A.I. & Machine Learning: 5 reasons why you sho...   \n",
       "4  [Delhi NCR] Fireside Chat with DJ Patil, Forme...   \n",
       "\n",
       "                                           email_url  \n",
       "0  http://r.newsletters.analyticsvidhya.com/7um44...  \n",
       "1  http://r.newsletters.analyticsvidhya.com/7up0e...  \n",
       "2  http://r.newsletters.analyticsvidhya.com/7usym...  \n",
       "3  http://r.newsletters.analyticsvidhya.com/7uthl...  \n",
       "4  http://r.newsletters.analyticsvidhya.com/7uvlg...  "
      ]
     },
     "execution_count": 46,
     "metadata": {},
     "output_type": "execute_result"
    }
   ],
   "source": [
    "campaign_data.head()"
   ]
  },
  {
   "cell_type": "code",
   "execution_count": 47,
   "metadata": {
    "collapsed": true
   },
   "outputs": [],
   "source": [
    "campaign_data.drop(['email_url'], axis=1, inplace=True)"
   ]
  },
  {
   "cell_type": "code",
   "execution_count": 48,
   "metadata": {
    "collapsed": true
   },
   "outputs": [],
   "source": [
    "def avg_word(sentence):\n",
    "  words = sentence.split()\n",
    "  return (sum(len(word) for word in words)/len(words))"
   ]
  },
  {
   "cell_type": "code",
   "execution_count": 49,
   "metadata": {
    "collapsed": true
   },
   "outputs": [],
   "source": [
    "from nltk.corpus import stopwords\n",
    "stop = stopwords.words('english')"
   ]
  },
  {
   "cell_type": "code",
   "execution_count": 50,
   "metadata": {
    "collapsed": true
   },
   "outputs": [],
   "source": [
    "# all text columns\n",
    "text_cols = ['email_body', 'subject']\n",
    "for col in text_cols:\n",
    "    campaign_data[col+'_char'] = campaign_data[col].str.len()\n",
    "    campaign_data[col+'_word'] = campaign_data[col].str.split().str.len()\n",
    "    campaign_data[col+'avg_word'] = campaign_data[col].apply(lambda x: avg_word(x))\n",
    "    campaign_data[col+'stopwords'] = campaign_data[col].apply(lambda x: len([x for x in x.split() if x in stop]))\n",
    "    campaign_data[col+'numerics'] = campaign_data[col].apply(lambda x: len([x for x in x.split() if x.isdigit()]))\n",
    "    campaign_data[col+'upper'] = campaign_data[col].apply(lambda x: len([x for x in x.split() if x.isupper()]))"
   ]
  },
  {
   "cell_type": "code",
   "execution_count": 51,
   "metadata": {
    "collapsed": true
   },
   "outputs": [],
   "source": [
    "cat_cols = ['communication_type']"
   ]
  },
  {
   "cell_type": "code",
   "execution_count": 52,
   "metadata": {
    "collapsed": true
   },
   "outputs": [],
   "source": [
    "from sklearn.preprocessing import LabelEncoder\n",
    "for col in cat_cols:\n",
    "    le = LabelEncoder()\n",
    "    le.fit(list(campaign_data[col]))\n",
    "    campaign_data[col] = le.transform(list(campaign_data[col]))"
   ]
  },
  {
   "cell_type": "code",
   "execution_count": 53,
   "metadata": {},
   "outputs": [
    {
     "data": {
      "text/html": [
       "<div>\n",
       "<style scoped>\n",
       "    .dataframe tbody tr th:only-of-type {\n",
       "        vertical-align: middle;\n",
       "    }\n",
       "\n",
       "    .dataframe tbody tr th {\n",
       "        vertical-align: top;\n",
       "    }\n",
       "\n",
       "    .dataframe thead th {\n",
       "        text-align: right;\n",
       "    }\n",
       "</style>\n",
       "<table border=\"1\" class=\"dataframe\">\n",
       "  <thead>\n",
       "    <tr style=\"text-align: right;\">\n",
       "      <th></th>\n",
       "      <th>campaign_id</th>\n",
       "      <th>communication_type</th>\n",
       "      <th>total_links</th>\n",
       "      <th>no_of_internal_links</th>\n",
       "      <th>no_of_images</th>\n",
       "      <th>no_of_sections</th>\n",
       "      <th>email_body</th>\n",
       "      <th>subject</th>\n",
       "      <th>email_body_char</th>\n",
       "      <th>email_body_word</th>\n",
       "      <th>email_bodyavg_word</th>\n",
       "      <th>email_bodystopwords</th>\n",
       "      <th>email_bodynumerics</th>\n",
       "      <th>email_bodyupper</th>\n",
       "      <th>subject_char</th>\n",
       "      <th>subject_word</th>\n",
       "      <th>subjectavg_word</th>\n",
       "      <th>subjectstopwords</th>\n",
       "      <th>subjectnumerics</th>\n",
       "      <th>subjectupper</th>\n",
       "    </tr>\n",
       "  </thead>\n",
       "  <tbody>\n",
       "    <tr>\n",
       "      <th>0</th>\n",
       "      <td>29</td>\n",
       "      <td>3</td>\n",
       "      <td>67</td>\n",
       "      <td>61</td>\n",
       "      <td>12</td>\n",
       "      <td>3</td>\n",
       "      <td>Dear AVians,\\r\\n \\r\\nWe are shaping up a super...</td>\n",
       "      <td>Sneak Peek: A look at the emerging data scienc...</td>\n",
       "      <td>1498</td>\n",
       "      <td>243</td>\n",
       "      <td>5.037037</td>\n",
       "      <td>81</td>\n",
       "      <td>1</td>\n",
       "      <td>4</td>\n",
       "      <td>55</td>\n",
       "      <td>11</td>\n",
       "      <td>4.090909</td>\n",
       "      <td>2</td>\n",
       "      <td>0</td>\n",
       "      <td>1</td>\n",
       "    </tr>\n",
       "    <tr>\n",
       "      <th>1</th>\n",
       "      <td>30</td>\n",
       "      <td>5</td>\n",
       "      <td>18</td>\n",
       "      <td>14</td>\n",
       "      <td>7</td>\n",
       "      <td>1</td>\n",
       "      <td>Dear AVians,\\r\\n \\r\\nAre your eager to know wh...</td>\n",
       "      <td>[July] Data Science Expert Meetups &amp; Competiti...</td>\n",
       "      <td>204</td>\n",
       "      <td>34</td>\n",
       "      <td>4.794118</td>\n",
       "      <td>12</td>\n",
       "      <td>0</td>\n",
       "      <td>0</td>\n",
       "      <td>65</td>\n",
       "      <td>10</td>\n",
       "      <td>5.600000</td>\n",
       "      <td>1</td>\n",
       "      <td>0</td>\n",
       "      <td>0</td>\n",
       "    </tr>\n",
       "    <tr>\n",
       "      <th>2</th>\n",
       "      <td>31</td>\n",
       "      <td>0</td>\n",
       "      <td>15</td>\n",
       "      <td>13</td>\n",
       "      <td>5</td>\n",
       "      <td>1</td>\n",
       "      <td>Early Bird Pricing Till August 07  Save upto ...</td>\n",
       "      <td>Last chance to convince your boss before the E...</td>\n",
       "      <td>1085</td>\n",
       "      <td>183</td>\n",
       "      <td>4.726776</td>\n",
       "      <td>55</td>\n",
       "      <td>4</td>\n",
       "      <td>4</td>\n",
       "      <td>65</td>\n",
       "      <td>12</td>\n",
       "      <td>4.500000</td>\n",
       "      <td>4</td>\n",
       "      <td>0</td>\n",
       "      <td>0</td>\n",
       "    </tr>\n",
       "    <tr>\n",
       "      <th>3</th>\n",
       "      <td>32</td>\n",
       "      <td>0</td>\n",
       "      <td>24</td>\n",
       "      <td>19</td>\n",
       "      <td>7</td>\n",
       "      <td>1</td>\n",
       "      <td>\\r\\n \\r\\nHi ?\\r\\n \\r\\nBefore I dive into why y...</td>\n",
       "      <td>A.I. &amp; Machine Learning: 5 reasons why you sho...</td>\n",
       "      <td>533</td>\n",
       "      <td>90</td>\n",
       "      <td>4.777778</td>\n",
       "      <td>32</td>\n",
       "      <td>2</td>\n",
       "      <td>1</td>\n",
       "      <td>77</td>\n",
       "      <td>13</td>\n",
       "      <td>5.000000</td>\n",
       "      <td>3</td>\n",
       "      <td>2</td>\n",
       "      <td>1</td>\n",
       "    </tr>\n",
       "    <tr>\n",
       "      <th>4</th>\n",
       "      <td>33</td>\n",
       "      <td>4</td>\n",
       "      <td>7</td>\n",
       "      <td>3</td>\n",
       "      <td>1</td>\n",
       "      <td>1</td>\n",
       "      <td>Fireside Chat with DJ Patil - the master is he...</td>\n",
       "      <td>[Delhi NCR] Fireside Chat with DJ Patil, Forme...</td>\n",
       "      <td>739</td>\n",
       "      <td>118</td>\n",
       "      <td>4.983051</td>\n",
       "      <td>37</td>\n",
       "      <td>0</td>\n",
       "      <td>5</td>\n",
       "      <td>71</td>\n",
       "      <td>12</td>\n",
       "      <td>5.000000</td>\n",
       "      <td>1</td>\n",
       "      <td>0</td>\n",
       "      <td>3</td>\n",
       "    </tr>\n",
       "  </tbody>\n",
       "</table>\n",
       "</div>"
      ],
      "text/plain": [
       "   campaign_id  communication_type  total_links  no_of_internal_links  \\\n",
       "0           29                   3           67                    61   \n",
       "1           30                   5           18                    14   \n",
       "2           31                   0           15                    13   \n",
       "3           32                   0           24                    19   \n",
       "4           33                   4            7                     3   \n",
       "\n",
       "   no_of_images  no_of_sections  \\\n",
       "0            12               3   \n",
       "1             7               1   \n",
       "2             5               1   \n",
       "3             7               1   \n",
       "4             1               1   \n",
       "\n",
       "                                          email_body  \\\n",
       "0  Dear AVians,\\r\\n \\r\\nWe are shaping up a super...   \n",
       "1  Dear AVians,\\r\\n \\r\\nAre your eager to know wh...   \n",
       "2  Early Bird Pricing Till August 07  Save upto ...   \n",
       "3  \\r\\n \\r\\nHi ?\\r\\n \\r\\nBefore I dive into why y...   \n",
       "4  Fireside Chat with DJ Patil - the master is he...   \n",
       "\n",
       "                                             subject  email_body_char  \\\n",
       "0  Sneak Peek: A look at the emerging data scienc...             1498   \n",
       "1  [July] Data Science Expert Meetups & Competiti...              204   \n",
       "2  Last chance to convince your boss before the E...             1085   \n",
       "3  A.I. & Machine Learning: 5 reasons why you sho...              533   \n",
       "4  [Delhi NCR] Fireside Chat with DJ Patil, Forme...              739   \n",
       "\n",
       "   email_body_word  email_bodyavg_word  email_bodystopwords  \\\n",
       "0              243            5.037037                   81   \n",
       "1               34            4.794118                   12   \n",
       "2              183            4.726776                   55   \n",
       "3               90            4.777778                   32   \n",
       "4              118            4.983051                   37   \n",
       "\n",
       "   email_bodynumerics  email_bodyupper  subject_char  subject_word  \\\n",
       "0                   1                4            55            11   \n",
       "1                   0                0            65            10   \n",
       "2                   4                4            65            12   \n",
       "3                   2                1            77            13   \n",
       "4                   0                5            71            12   \n",
       "\n",
       "   subjectavg_word  subjectstopwords  subjectnumerics  subjectupper  \n",
       "0         4.090909                 2                0             1  \n",
       "1         5.600000                 1                0             0  \n",
       "2         4.500000                 4                0             0  \n",
       "3         5.000000                 3                2             1  \n",
       "4         5.000000                 1                0             3  "
      ]
     },
     "execution_count": 53,
     "metadata": {},
     "output_type": "execute_result"
    }
   ],
   "source": [
    "campaign_data.head()"
   ]
  },
  {
   "cell_type": "code",
   "execution_count": 54,
   "metadata": {
    "collapsed": true
   },
   "outputs": [],
   "source": [
    "campaign_data['external_links'] = campaign_data['total_links'] - campaign_data['no_of_internal_links']\n",
    "campaign_data['link_image_ratio'] = campaign_data['total_links'] / campaign_data['no_of_images']\n",
    "# campaign_data['links_per_section'] = campaign_data['total_links'] / campaign_data['no_of_sections']\n",
    "# campaign_data['images_per_section'] = campaign_data['no_of_images'] / campaign_data['no_of_sections']"
   ]
  },
  {
   "cell_type": "code",
   "execution_count": 55,
   "metadata": {
    "collapsed": true
   },
   "outputs": [],
   "source": [
    "# creating a Series from campaign_data and test for text columns\n",
    "body = pd.Series(campaign_data['email_body'].tolist()).astype(str)\n",
    "sub = pd.Series(campaign_data['subject'].tolist()).astype(str)"
   ]
  },
  {
   "cell_type": "code",
   "execution_count": 56,
   "metadata": {
    "collapsed": true
   },
   "outputs": [],
   "source": [
    "# this function cleans punctuations, digits and irregular tabs. Then converts the sentences to lower\n",
    "def sentence_clean(word):\n",
    "    p1 = re.sub(pattern='(\\W+)|(\\d+)|(\\s+)',repl=' ',string=word)\n",
    "    p1 = p1.lower()\n",
    "    return p1"
   ]
  },
  {
   "cell_type": "code",
   "execution_count": 57,
   "metadata": {
    "collapsed": true
   },
   "outputs": [],
   "source": [
    "# instantiate snowballstemmer\n",
    "stemmer = SnowballStemmer(language='english')\n",
    "\n",
    "# clean sentences\n",
    "body = body.map(sentence_clean)\n",
    "# split words\n",
    "body = [[x for x in x.split()] for x in body]\n",
    "# apply stemming\n",
    "body = [[stemmer.stem(x) for x in x] for x in body]\n",
    "# ignore words with less than Three characters\n",
    "body = [[x for x in x if len(x) > 2] for x in body]\n",
    "# join the words with space separation\n",
    "body = [' '.join(x) for x in body]"
   ]
  },
  {
   "cell_type": "code",
   "execution_count": 58,
   "metadata": {
    "collapsed": true
   },
   "outputs": [],
   "source": [
    "# apply the above steps for name \n",
    "sub = sub.map(sentence_clean)\n",
    "sub = [[x for x in x.split() ] for x in sub]\n",
    "sub = [[stemmer.stem(x) for x in x] for x in sub]\n",
    "sub = [[x for x in x if len(x) > 2] for x in sub]\n",
    "sub = [' '.join(x) for x in sub]"
   ]
  },
  {
   "cell_type": "code",
   "execution_count": 59,
   "metadata": {
    "collapsed": true
   },
   "outputs": [],
   "source": [
    "# instantiate TfidfVectorizer for each of name, desc and keywords\n",
    "tfidf_body = TfidfVectorizer(max_features=5, ngram_range=(1,3), stop_words='english')\n",
    "tfidf_sub = TfidfVectorizer(max_features=3, ngram_range=(1,3), stop_words='english')"
   ]
  },
  {
   "cell_type": "code",
   "execution_count": 60,
   "metadata": {
    "collapsed": true
   },
   "outputs": [],
   "source": [
    "# fit_transform to each of the above dataframes\n",
    "body = tfidf_body.fit_transform(body).todense()\n",
    "sub = tfidf_sub.fit_transform(sub).todense()"
   ]
  },
  {
   "cell_type": "code",
   "execution_count": 61,
   "metadata": {
    "collapsed": true
   },
   "outputs": [],
   "source": [
    "# convert to dataframes\n",
    "body = pd.DataFrame(body)\n",
    "sub = pd.DataFrame(sub)\n",
    "# rename variables\n",
    "body.rename(columns= lambda x: 'variable_desc_'+ str(x), inplace=True)\n",
    "sub.rename(columns= lambda x: 'variable_name_'+ str(x), inplace=True)"
   ]
  },
  {
   "cell_type": "code",
   "execution_count": 62,
   "metadata": {
    "collapsed": true
   },
   "outputs": [],
   "source": [
    "def top_tfidf_feats(row, features, top_n=25):\n",
    "    ''' Get top n tfidf values in row and return them with their corresponding feature names.'''\n",
    "    topn_ids = np.argsort(row)[::-1][:top_n]\n",
    "    top_feats = [(features[i], row[i]) for i in topn_ids]\n",
    "    df = pd.DataFrame(top_feats)\n",
    "    df.columns = ['feature', 'tfidf']\n",
    "    return df"
   ]
  },
  {
   "cell_type": "code",
   "execution_count": 63,
   "metadata": {},
   "outputs": [
    {
     "data": {
      "text/html": [
       "<div>\n",
       "<style scoped>\n",
       "    .dataframe tbody tr th:only-of-type {\n",
       "        vertical-align: middle;\n",
       "    }\n",
       "\n",
       "    .dataframe tbody tr th {\n",
       "        vertical-align: top;\n",
       "    }\n",
       "\n",
       "    .dataframe thead th {\n",
       "        text-align: right;\n",
       "    }\n",
       "</style>\n",
       "<table border=\"1\" class=\"dataframe\">\n",
       "  <thead>\n",
       "    <tr style=\"text-align: right;\">\n",
       "      <th></th>\n",
       "      <th>feature</th>\n",
       "      <th>tfidf</th>\n",
       "    </tr>\n",
       "  </thead>\n",
       "  <tbody>\n",
       "    <tr>\n",
       "      <th>0</th>\n",
       "      <td>hackathon</td>\n",
       "      <td>1.569095</td>\n",
       "    </tr>\n",
       "    <tr>\n",
       "      <th>1</th>\n",
       "      <td>learn</td>\n",
       "      <td>1.414944</td>\n",
       "    </tr>\n",
       "    <tr>\n",
       "      <th>2</th>\n",
       "      <td>scienc</td>\n",
       "      <td>1.256720</td>\n",
       "    </tr>\n",
       "    <tr>\n",
       "      <th>3</th>\n",
       "      <td>data scienc</td>\n",
       "      <td>1.256720</td>\n",
       "    </tr>\n",
       "    <tr>\n",
       "      <th>4</th>\n",
       "      <td>data</td>\n",
       "      <td>1.163629</td>\n",
       "    </tr>\n",
       "  </tbody>\n",
       "</table>\n",
       "</div>"
      ],
      "text/plain": [
       "       feature     tfidf\n",
       "0    hackathon  1.569095\n",
       "1        learn  1.414944\n",
       "2       scienc  1.256720\n",
       "3  data scienc  1.256720\n",
       "4         data  1.163629"
      ]
     },
     "execution_count": 63,
     "metadata": {},
     "output_type": "execute_result"
    }
   ],
   "source": [
    "# top Ten words in desc\n",
    "top_tfidf_feats(tfidf_body.idf_, tfidf_body.get_feature_names(), 10)"
   ]
  },
  {
   "cell_type": "code",
   "execution_count": 64,
   "metadata": {},
   "outputs": [],
   "source": [
    "# concat all the above Three dataframes and delete them once combined\n",
    "combine = pd.concat([body, sub],axis=1)\n",
    "del sub, body"
   ]
  },
  {
   "cell_type": "code",
   "execution_count": 65,
   "metadata": {},
   "outputs": [
    {
     "data": {
      "text/plain": [
       "(52, 8)"
      ]
     },
     "execution_count": 65,
     "metadata": {},
     "output_type": "execute_result"
    }
   ],
   "source": [
    "# check the shape the combined dataframe\n",
    "combine.shape"
   ]
  },
  {
   "cell_type": "code",
   "execution_count": 66,
   "metadata": {
    "collapsed": true
   },
   "outputs": [],
   "source": [
    "campaign_data = pd.concat([campaign_data, combine],axis=1)\n",
    "del combine"
   ]
  },
  {
   "cell_type": "code",
   "execution_count": 67,
   "metadata": {
    "collapsed": true
   },
   "outputs": [],
   "source": [
    "train = pd.merge(train, campaign_data, how='left', on=['campaign_id']) \n",
    "test = pd.merge(test, campaign_data, how='left', on=['campaign_id']) \n",
    "del campaign_data"
   ]
  },
  {
   "cell_type": "code",
   "execution_count": 68,
   "metadata": {
    "collapsed": true
   },
   "outputs": [],
   "source": [
    "train.drop(['is_open'], axis=1, inplace=True)"
   ]
  },
  {
   "cell_type": "code",
   "execution_count": 69,
   "metadata": {
    "collapsed": true
   },
   "outputs": [],
   "source": [
    "def lookup(s):\n",
    "    \"\"\"\n",
    "    This is an extremely fast approach to datetime parsing.\n",
    "    For large data, the same dates are often repeated. Rather than\n",
    "    re-parse these, we store all unique dates, parse them, and\n",
    "    use a lookup to convert all dates.\n",
    "    \"\"\"\n",
    "    dates = {date:pd.to_datetime(date) for date in s.unique()}\n",
    "    return s.map(dates)"
   ]
  },
  {
   "cell_type": "code",
   "execution_count": 70,
   "metadata": {
    "collapsed": true
   },
   "outputs": [],
   "source": [
    "train['send_date'] = lookup(train['send_date'])\n",
    "test['send_date'] = lookup(test['send_date'])"
   ]
  },
  {
   "cell_type": "code",
   "execution_count": 71,
   "metadata": {
    "collapsed": true
   },
   "outputs": [],
   "source": [
    "# date extraction\n",
    "train['Year'] = train.send_date.dt.year\n",
    "train['Month'] = train.send_date.dt.month\n",
    "train['Day'] = train.send_date.dt.day\n",
    "train['DayOfWeek'] = train.send_date.dt.dayofweek\n",
    "train['WeekOfYear'] = train.send_date.dt.weekofyear\n",
    "train['hour'] = train.send_date.dt.hour"
   ]
  },
  {
   "cell_type": "code",
   "execution_count": 72,
   "metadata": {
    "collapsed": true
   },
   "outputs": [],
   "source": [
    "# date extraction\n",
    "test['Year'] = test.send_date.dt.year\n",
    "test['Month'] = test.send_date.dt.month\n",
    "test['Day'] = test.send_date.dt.day\n",
    "test['DayOfWeek'] = test.send_date.dt.dayofweek\n",
    "test['WeekOfYear'] = test.send_date.dt.weekofyear\n",
    "test['hour'] = test.send_date.dt.hour"
   ]
  },
  {
   "cell_type": "code",
   "execution_count": 73,
   "metadata": {},
   "outputs": [
    {
     "data": {
      "text/html": [
       "<div>\n",
       "<style scoped>\n",
       "    .dataframe tbody tr th:only-of-type {\n",
       "        vertical-align: middle;\n",
       "    }\n",
       "\n",
       "    .dataframe tbody tr th {\n",
       "        vertical-align: top;\n",
       "    }\n",
       "\n",
       "    .dataframe thead th {\n",
       "        text-align: right;\n",
       "    }\n",
       "</style>\n",
       "<table border=\"1\" class=\"dataframe\">\n",
       "  <thead>\n",
       "    <tr style=\"text-align: right;\">\n",
       "      <th></th>\n",
       "      <th>id</th>\n",
       "      <th>user_id</th>\n",
       "      <th>campaign_id</th>\n",
       "      <th>send_date</th>\n",
       "      <th>is_click</th>\n",
       "      <th>mean_clicks_user_id</th>\n",
       "      <th>mean_clicks_campaign_id</th>\n",
       "      <th>communication_type</th>\n",
       "      <th>total_links</th>\n",
       "      <th>no_of_internal_links</th>\n",
       "      <th>...</th>\n",
       "      <th>variable_desc_4</th>\n",
       "      <th>variable_name_0</th>\n",
       "      <th>variable_name_1</th>\n",
       "      <th>variable_name_2</th>\n",
       "      <th>Year</th>\n",
       "      <th>Month</th>\n",
       "      <th>Day</th>\n",
       "      <th>DayOfWeek</th>\n",
       "      <th>WeekOfYear</th>\n",
       "      <th>hour</th>\n",
       "    </tr>\n",
       "  </thead>\n",
       "  <tbody>\n",
       "    <tr>\n",
       "      <th>0</th>\n",
       "      <td>42_14051</td>\n",
       "      <td>14051</td>\n",
       "      <td>42</td>\n",
       "      <td>2017-01-09 19:55:00</td>\n",
       "      <td>0</td>\n",
       "      <td>0.0</td>\n",
       "      <td>0.012824</td>\n",
       "      <td>3</td>\n",
       "      <td>88</td>\n",
       "      <td>79</td>\n",
       "      <td>...</td>\n",
       "      <td>0.243698</td>\n",
       "      <td>0.000000</td>\n",
       "      <td>0.000000</td>\n",
       "      <td>1.000000</td>\n",
       "      <td>2017</td>\n",
       "      <td>1</td>\n",
       "      <td>9</td>\n",
       "      <td>0</td>\n",
       "      <td>2</td>\n",
       "      <td>19</td>\n",
       "    </tr>\n",
       "    <tr>\n",
       "      <th>1</th>\n",
       "      <td>52_134438</td>\n",
       "      <td>134438</td>\n",
       "      <td>52</td>\n",
       "      <td>2017-02-11 12:53:00</td>\n",
       "      <td>0</td>\n",
       "      <td>0.0</td>\n",
       "      <td>0.014192</td>\n",
       "      <td>3</td>\n",
       "      <td>67</td>\n",
       "      <td>62</td>\n",
       "      <td>...</td>\n",
       "      <td>0.278071</td>\n",
       "      <td>0.000000</td>\n",
       "      <td>0.000000</td>\n",
       "      <td>1.000000</td>\n",
       "      <td>2017</td>\n",
       "      <td>2</td>\n",
       "      <td>11</td>\n",
       "      <td>5</td>\n",
       "      <td>6</td>\n",
       "      <td>12</td>\n",
       "    </tr>\n",
       "    <tr>\n",
       "      <th>2</th>\n",
       "      <td>33_181789</td>\n",
       "      <td>181789</td>\n",
       "      <td>33</td>\n",
       "      <td>2017-07-24 15:15:00</td>\n",
       "      <td>0</td>\n",
       "      <td>0.0</td>\n",
       "      <td>0.011449</td>\n",
       "      <td>4</td>\n",
       "      <td>7</td>\n",
       "      <td>3</td>\n",
       "      <td>...</td>\n",
       "      <td>0.429167</td>\n",
       "      <td>1.000000</td>\n",
       "      <td>0.000000</td>\n",
       "      <td>0.000000</td>\n",
       "      <td>2017</td>\n",
       "      <td>7</td>\n",
       "      <td>24</td>\n",
       "      <td>0</td>\n",
       "      <td>30</td>\n",
       "      <td>15</td>\n",
       "    </tr>\n",
       "    <tr>\n",
       "      <th>3</th>\n",
       "      <td>44_231448</td>\n",
       "      <td>231448</td>\n",
       "      <td>44</td>\n",
       "      <td>2017-05-09 11:36:00</td>\n",
       "      <td>0</td>\n",
       "      <td>0.0</td>\n",
       "      <td>0.011697</td>\n",
       "      <td>5</td>\n",
       "      <td>60</td>\n",
       "      <td>56</td>\n",
       "      <td>...</td>\n",
       "      <td>0.000000</td>\n",
       "      <td>0.518573</td>\n",
       "      <td>0.679827</td>\n",
       "      <td>0.518573</td>\n",
       "      <td>2017</td>\n",
       "      <td>5</td>\n",
       "      <td>9</td>\n",
       "      <td>1</td>\n",
       "      <td>19</td>\n",
       "      <td>11</td>\n",
       "    </tr>\n",
       "    <tr>\n",
       "      <th>4</th>\n",
       "      <td>29_185580</td>\n",
       "      <td>185580</td>\n",
       "      <td>29</td>\n",
       "      <td>2017-01-07 18:01:00</td>\n",
       "      <td>0</td>\n",
       "      <td>0.0</td>\n",
       "      <td>0.016549</td>\n",
       "      <td>3</td>\n",
       "      <td>67</td>\n",
       "      <td>61</td>\n",
       "      <td>...</td>\n",
       "      <td>0.583553</td>\n",
       "      <td>0.606494</td>\n",
       "      <td>0.795088</td>\n",
       "      <td>0.000000</td>\n",
       "      <td>2017</td>\n",
       "      <td>1</td>\n",
       "      <td>7</td>\n",
       "      <td>5</td>\n",
       "      <td>1</td>\n",
       "      <td>18</td>\n",
       "    </tr>\n",
       "  </tbody>\n",
       "</table>\n",
       "<p>5 rows × 42 columns</p>\n",
       "</div>"
      ],
      "text/plain": [
       "          id  user_id  campaign_id           send_date  is_click  \\\n",
       "0   42_14051    14051           42 2017-01-09 19:55:00         0   \n",
       "1  52_134438   134438           52 2017-02-11 12:53:00         0   \n",
       "2  33_181789   181789           33 2017-07-24 15:15:00         0   \n",
       "3  44_231448   231448           44 2017-05-09 11:36:00         0   \n",
       "4  29_185580   185580           29 2017-01-07 18:01:00         0   \n",
       "\n",
       "   mean_clicks_user_id  mean_clicks_campaign_id  communication_type  \\\n",
       "0                  0.0                 0.012824                   3   \n",
       "1                  0.0                 0.014192                   3   \n",
       "2                  0.0                 0.011449                   4   \n",
       "3                  0.0                 0.011697                   5   \n",
       "4                  0.0                 0.016549                   3   \n",
       "\n",
       "   total_links  no_of_internal_links  ...   variable_desc_4  variable_name_0  \\\n",
       "0           88                    79  ...          0.243698         0.000000   \n",
       "1           67                    62  ...          0.278071         0.000000   \n",
       "2            7                     3  ...          0.429167         1.000000   \n",
       "3           60                    56  ...          0.000000         0.518573   \n",
       "4           67                    61  ...          0.583553         0.606494   \n",
       "\n",
       "  variable_name_1 variable_name_2  Year  Month  Day  DayOfWeek  WeekOfYear  \\\n",
       "0        0.000000        1.000000  2017      1    9          0           2   \n",
       "1        0.000000        1.000000  2017      2   11          5           6   \n",
       "2        0.000000        0.000000  2017      7   24          0          30   \n",
       "3        0.679827        0.518573  2017      5    9          1          19   \n",
       "4        0.795088        0.000000  2017      1    7          5           1   \n",
       "\n",
       "   hour  \n",
       "0    19  \n",
       "1    12  \n",
       "2    15  \n",
       "3    11  \n",
       "4    18  \n",
       "\n",
       "[5 rows x 42 columns]"
      ]
     },
     "execution_count": 73,
     "metadata": {},
     "output_type": "execute_result"
    }
   ],
   "source": [
    "train.head()"
   ]
  },
  {
   "cell_type": "code",
   "execution_count": 74,
   "metadata": {
    "collapsed": true
   },
   "outputs": [],
   "source": [
    "tmp = train.groupby(['Month']). \\\n",
    "    agg({'is_click' : [np.mean]}).reset_index()\n",
    "tmp.columns = ['Month', 'mean_clicks_Month']\n",
    "train = pd.merge(train, tmp, how='left', on=['Month']) \n",
    "test = pd.merge(test, tmp, how='left', on=['Month']) "
   ]
  },
  {
   "cell_type": "code",
   "execution_count": 75,
   "metadata": {
    "collapsed": true
   },
   "outputs": [],
   "source": [
    "tmp = train.groupby(['Day']). \\\n",
    "    agg({'is_click' : [np.mean]}).reset_index()\n",
    "tmp.columns = ['Day', 'mean_clicks_Day']\n",
    "train = pd.merge(train, tmp, how='left', on=['Day']) \n",
    "test = pd.merge(test, tmp, how='left', on=['Day']) "
   ]
  },
  {
   "cell_type": "code",
   "execution_count": 76,
   "metadata": {
    "collapsed": true
   },
   "outputs": [],
   "source": [
    "tmp = train.groupby(['DayOfWeek']). \\\n",
    "    agg({'is_click' : [np.mean]}).reset_index()\n",
    "tmp.columns = ['DayOfWeek', 'mean_clicks_DayOfWeek']\n",
    "train = pd.merge(train, tmp, how='left', on=['DayOfWeek']) \n",
    "test = pd.merge(test, tmp, how='left', on=['DayOfWeek']) "
   ]
  },
  {
   "cell_type": "code",
   "execution_count": 77,
   "metadata": {
    "collapsed": true
   },
   "outputs": [],
   "source": [
    "tmp = train.groupby(['hour']). \\\n",
    "    agg({'is_click' : [np.mean]}).reset_index()\n",
    "tmp.columns = ['hour', 'mean_clicks_hour']\n",
    "train = pd.merge(train, tmp, how='left', on=['hour']) \n",
    "test = pd.merge(test, tmp, how='left', on=['hour']) "
   ]
  },
  {
   "cell_type": "code",
   "execution_count": 78,
   "metadata": {},
   "outputs": [],
   "source": [
    "tmp = train.groupby(['WeekOfYear']). \\\n",
    "    agg({'is_click' : [np.mean]}).reset_index()\n",
    "tmp.columns = ['WeekOfYear', 'mean_clicks_WeekOfYear']\n",
    "train = pd.merge(train, tmp, how='left', on=['WeekOfYear']) \n",
    "test = pd.merge(test, tmp, how='left', on=['WeekOfYear']) "
   ]
  },
  {
   "cell_type": "code",
   "execution_count": null,
   "metadata": {
    "collapsed": true
   },
   "outputs": [],
   "source": []
  },
  {
   "cell_type": "code",
   "execution_count": null,
   "metadata": {
    "collapsed": true
   },
   "outputs": [],
   "source": []
  },
  {
   "cell_type": "code",
   "execution_count": null,
   "metadata": {
    "collapsed": true
   },
   "outputs": [],
   "source": []
  },
  {
   "cell_type": "code",
   "execution_count": 79,
   "metadata": {},
   "outputs": [
    {
     "data": {
      "text/plain": [
       "0    1010409\n",
       "1      12782\n",
       "Name: is_click, dtype: int64"
      ]
     },
     "execution_count": 79,
     "metadata": {},
     "output_type": "execute_result"
    }
   ],
   "source": [
    "train.is_click.value_counts()"
   ]
  },
  {
   "cell_type": "code",
   "execution_count": 80,
   "metadata": {},
   "outputs": [
    {
     "data": {
      "text/html": [
       "<div>\n",
       "<style scoped>\n",
       "    .dataframe tbody tr th:only-of-type {\n",
       "        vertical-align: middle;\n",
       "    }\n",
       "\n",
       "    .dataframe tbody tr th {\n",
       "        vertical-align: top;\n",
       "    }\n",
       "\n",
       "    .dataframe thead th {\n",
       "        text-align: right;\n",
       "    }\n",
       "</style>\n",
       "<table border=\"1\" class=\"dataframe\">\n",
       "  <thead>\n",
       "    <tr style=\"text-align: right;\">\n",
       "      <th></th>\n",
       "      <th>id</th>\n",
       "      <th>user_id</th>\n",
       "      <th>campaign_id</th>\n",
       "      <th>send_date</th>\n",
       "      <th>is_click</th>\n",
       "      <th>mean_clicks_user_id</th>\n",
       "      <th>mean_clicks_campaign_id</th>\n",
       "      <th>communication_type</th>\n",
       "      <th>total_links</th>\n",
       "      <th>no_of_internal_links</th>\n",
       "      <th>...</th>\n",
       "      <th>Month</th>\n",
       "      <th>Day</th>\n",
       "      <th>DayOfWeek</th>\n",
       "      <th>WeekOfYear</th>\n",
       "      <th>hour</th>\n",
       "      <th>mean_clicks_Month</th>\n",
       "      <th>mean_clicks_Day</th>\n",
       "      <th>mean_clicks_DayOfWeek</th>\n",
       "      <th>mean_clicks_hour</th>\n",
       "      <th>mean_clicks_WeekOfYear</th>\n",
       "    </tr>\n",
       "  </thead>\n",
       "  <tbody>\n",
       "    <tr>\n",
       "      <th>0</th>\n",
       "      <td>42_14051</td>\n",
       "      <td>14051</td>\n",
       "      <td>42</td>\n",
       "      <td>2017-01-09 19:55:00</td>\n",
       "      <td>0</td>\n",
       "      <td>0.0</td>\n",
       "      <td>0.012824</td>\n",
       "      <td>3</td>\n",
       "      <td>88</td>\n",
       "      <td>79</td>\n",
       "      <td>...</td>\n",
       "      <td>1</td>\n",
       "      <td>9</td>\n",
       "      <td>0</td>\n",
       "      <td>2</td>\n",
       "      <td>19</td>\n",
       "      <td>0.011480</td>\n",
       "      <td>0.014944</td>\n",
       "      <td>0.012131</td>\n",
       "      <td>0.011266</td>\n",
       "      <td>0.011444</td>\n",
       "    </tr>\n",
       "    <tr>\n",
       "      <th>1</th>\n",
       "      <td>52_134438</td>\n",
       "      <td>134438</td>\n",
       "      <td>52</td>\n",
       "      <td>2017-02-11 12:53:00</td>\n",
       "      <td>0</td>\n",
       "      <td>0.0</td>\n",
       "      <td>0.014192</td>\n",
       "      <td>3</td>\n",
       "      <td>67</td>\n",
       "      <td>62</td>\n",
       "      <td>...</td>\n",
       "      <td>2</td>\n",
       "      <td>11</td>\n",
       "      <td>5</td>\n",
       "      <td>6</td>\n",
       "      <td>12</td>\n",
       "      <td>0.014621</td>\n",
       "      <td>0.012101</td>\n",
       "      <td>0.014739</td>\n",
       "      <td>0.012553</td>\n",
       "      <td>0.014621</td>\n",
       "    </tr>\n",
       "    <tr>\n",
       "      <th>2</th>\n",
       "      <td>33_181789</td>\n",
       "      <td>181789</td>\n",
       "      <td>33</td>\n",
       "      <td>2017-07-24 15:15:00</td>\n",
       "      <td>0</td>\n",
       "      <td>0.0</td>\n",
       "      <td>0.011449</td>\n",
       "      <td>4</td>\n",
       "      <td>7</td>\n",
       "      <td>3</td>\n",
       "      <td>...</td>\n",
       "      <td>7</td>\n",
       "      <td>24</td>\n",
       "      <td>0</td>\n",
       "      <td>30</td>\n",
       "      <td>15</td>\n",
       "      <td>0.011739</td>\n",
       "      <td>0.011668</td>\n",
       "      <td>0.012131</td>\n",
       "      <td>0.013872</td>\n",
       "      <td>0.014076</td>\n",
       "    </tr>\n",
       "    <tr>\n",
       "      <th>3</th>\n",
       "      <td>44_231448</td>\n",
       "      <td>231448</td>\n",
       "      <td>44</td>\n",
       "      <td>2017-05-09 11:36:00</td>\n",
       "      <td>0</td>\n",
       "      <td>0.0</td>\n",
       "      <td>0.011697</td>\n",
       "      <td>5</td>\n",
       "      <td>60</td>\n",
       "      <td>56</td>\n",
       "      <td>...</td>\n",
       "      <td>5</td>\n",
       "      <td>9</td>\n",
       "      <td>1</td>\n",
       "      <td>19</td>\n",
       "      <td>11</td>\n",
       "      <td>0.011993</td>\n",
       "      <td>0.014944</td>\n",
       "      <td>0.014836</td>\n",
       "      <td>0.011697</td>\n",
       "      <td>0.011064</td>\n",
       "    </tr>\n",
       "    <tr>\n",
       "      <th>4</th>\n",
       "      <td>29_185580</td>\n",
       "      <td>185580</td>\n",
       "      <td>29</td>\n",
       "      <td>2017-01-07 18:01:00</td>\n",
       "      <td>0</td>\n",
       "      <td>0.0</td>\n",
       "      <td>0.016549</td>\n",
       "      <td>3</td>\n",
       "      <td>67</td>\n",
       "      <td>61</td>\n",
       "      <td>...</td>\n",
       "      <td>1</td>\n",
       "      <td>7</td>\n",
       "      <td>5</td>\n",
       "      <td>1</td>\n",
       "      <td>18</td>\n",
       "      <td>0.011480</td>\n",
       "      <td>0.014573</td>\n",
       "      <td>0.014739</td>\n",
       "      <td>0.020470</td>\n",
       "      <td>0.011536</td>\n",
       "    </tr>\n",
       "  </tbody>\n",
       "</table>\n",
       "<p>5 rows × 47 columns</p>\n",
       "</div>"
      ],
      "text/plain": [
       "          id  user_id  campaign_id           send_date  is_click  \\\n",
       "0   42_14051    14051           42 2017-01-09 19:55:00         0   \n",
       "1  52_134438   134438           52 2017-02-11 12:53:00         0   \n",
       "2  33_181789   181789           33 2017-07-24 15:15:00         0   \n",
       "3  44_231448   231448           44 2017-05-09 11:36:00         0   \n",
       "4  29_185580   185580           29 2017-01-07 18:01:00         0   \n",
       "\n",
       "   mean_clicks_user_id  mean_clicks_campaign_id  communication_type  \\\n",
       "0                  0.0                 0.012824                   3   \n",
       "1                  0.0                 0.014192                   3   \n",
       "2                  0.0                 0.011449                   4   \n",
       "3                  0.0                 0.011697                   5   \n",
       "4                  0.0                 0.016549                   3   \n",
       "\n",
       "   total_links  no_of_internal_links           ...            Month  Day  \\\n",
       "0           88                    79           ...                1    9   \n",
       "1           67                    62           ...                2   11   \n",
       "2            7                     3           ...                7   24   \n",
       "3           60                    56           ...                5    9   \n",
       "4           67                    61           ...                1    7   \n",
       "\n",
       "  DayOfWeek WeekOfYear  hour  mean_clicks_Month  mean_clicks_Day  \\\n",
       "0         0          2    19           0.011480         0.014944   \n",
       "1         5          6    12           0.014621         0.012101   \n",
       "2         0         30    15           0.011739         0.011668   \n",
       "3         1         19    11           0.011993         0.014944   \n",
       "4         5          1    18           0.011480         0.014573   \n",
       "\n",
       "   mean_clicks_DayOfWeek  mean_clicks_hour  mean_clicks_WeekOfYear  \n",
       "0               0.012131          0.011266                0.011444  \n",
       "1               0.014739          0.012553                0.014621  \n",
       "2               0.012131          0.013872                0.014076  \n",
       "3               0.014836          0.011697                0.011064  \n",
       "4               0.014739          0.020470                0.011536  \n",
       "\n",
       "[5 rows x 47 columns]"
      ]
     },
     "execution_count": 80,
     "metadata": {},
     "output_type": "execute_result"
    }
   ],
   "source": [
    "train.head()"
   ]
  },
  {
   "cell_type": "code",
   "execution_count": null,
   "metadata": {
    "collapsed": true
   },
   "outputs": [],
   "source": []
  },
  {
   "cell_type": "code",
   "execution_count": 81,
   "metadata": {
    "collapsed": true
   },
   "outputs": [],
   "source": [
    "# from sklearn.utils import resample\n",
    "# # Separate majority and minority classes\n",
    "# train_majority = train[train.is_click==0]\n",
    "# train_minority = train[train.is_click==1]\n",
    " \n",
    "# # Downsample majority class\n",
    "# train_majority_downsampled = resample(train_majority, \n",
    "#                                  replace=False,    # sample without replacement\n",
    "#                                  n_samples=12782,     # to match minority class\n",
    "#                                  random_state=123) # reproducible results\n",
    " \n",
    "# # Combine minority class with downsampled majority class\n",
    "# train_downsampled = pd.concat([train_majority_downsampled, train_minority])\n",
    " \n",
    "# # Display new class counts\n",
    "# train_downsampled.is_click.value_counts()"
   ]
  },
  {
   "cell_type": "code",
   "execution_count": 82,
   "metadata": {},
   "outputs": [],
   "source": [
    "target = train['is_click']\n",
    "train.drop(['send_date', 'email_body', 'is_click', 'subject', 'id', 'user_id', 'campaign_id'], axis=1, inplace=True)\n",
    "test_ids = test['id']\n",
    "test.drop(['send_date', 'email_body', 'subject', 'id', 'user_id', 'campaign_id'], axis=1, inplace=True)"
   ]
  },
  {
   "cell_type": "code",
   "execution_count": 83,
   "metadata": {},
   "outputs": [
    {
     "data": {
      "text/plain": [
       "Index(['mean_clicks_user_id', 'mean_clicks_campaign_id', 'communication_type',\n",
       "       'total_links', 'no_of_internal_links', 'no_of_images', 'no_of_sections',\n",
       "       'email_body_char', 'email_body_word', 'email_bodyavg_word',\n",
       "       'email_bodystopwords', 'email_bodynumerics', 'email_bodyupper',\n",
       "       'subject_char', 'subject_word', 'subjectavg_word', 'subjectstopwords',\n",
       "       'subjectnumerics', 'subjectupper', 'external_links', 'link_image_ratio',\n",
       "       'variable_desc_0', 'variable_desc_1', 'variable_desc_2',\n",
       "       'variable_desc_3', 'variable_desc_4', 'variable_name_0',\n",
       "       'variable_name_1', 'variable_name_2', 'Year', 'Month', 'Day',\n",
       "       'DayOfWeek', 'WeekOfYear', 'hour', 'mean_clicks_Month',\n",
       "       'mean_clicks_Day', 'mean_clicks_DayOfWeek', 'mean_clicks_hour',\n",
       "       'mean_clicks_WeekOfYear'],\n",
       "      dtype='object')"
      ]
     },
     "execution_count": 83,
     "metadata": {},
     "output_type": "execute_result"
    }
   ],
   "source": [
    "train.columns"
   ]
  },
  {
   "cell_type": "code",
   "execution_count": 84,
   "metadata": {},
   "outputs": [
    {
     "data": {
      "text/plain": [
       "Index(['mean_clicks_user_id', 'mean_clicks_campaign_id', 'communication_type',\n",
       "       'total_links', 'no_of_internal_links', 'no_of_images', 'no_of_sections',\n",
       "       'email_body_char', 'email_body_word', 'email_bodyavg_word',\n",
       "       'email_bodystopwords', 'email_bodynumerics', 'email_bodyupper',\n",
       "       'subject_char', 'subject_word', 'subjectavg_word', 'subjectstopwords',\n",
       "       'subjectnumerics', 'subjectupper', 'external_links', 'link_image_ratio',\n",
       "       'variable_desc_0', 'variable_desc_1', 'variable_desc_2',\n",
       "       'variable_desc_3', 'variable_desc_4', 'variable_name_0',\n",
       "       'variable_name_1', 'variable_name_2', 'Year', 'Month', 'Day',\n",
       "       'DayOfWeek', 'WeekOfYear', 'hour', 'mean_clicks_Month',\n",
       "       'mean_clicks_Day', 'mean_clicks_DayOfWeek', 'mean_clicks_hour',\n",
       "       'mean_clicks_WeekOfYear'],\n",
       "      dtype='object')"
      ]
     },
     "execution_count": 84,
     "metadata": {},
     "output_type": "execute_result"
    }
   ],
   "source": [
    "test.columns"
   ]
  },
  {
   "cell_type": "code",
   "execution_count": 85,
   "metadata": {},
   "outputs": [
    {
     "data": {
      "text/html": [
       "<div>\n",
       "<style scoped>\n",
       "    .dataframe tbody tr th:only-of-type {\n",
       "        vertical-align: middle;\n",
       "    }\n",
       "\n",
       "    .dataframe tbody tr th {\n",
       "        vertical-align: top;\n",
       "    }\n",
       "\n",
       "    .dataframe thead th {\n",
       "        text-align: right;\n",
       "    }\n",
       "</style>\n",
       "<table border=\"1\" class=\"dataframe\">\n",
       "  <thead>\n",
       "    <tr style=\"text-align: right;\">\n",
       "      <th></th>\n",
       "      <th>mean_clicks_user_id</th>\n",
       "      <th>mean_clicks_campaign_id</th>\n",
       "      <th>communication_type</th>\n",
       "      <th>total_links</th>\n",
       "      <th>no_of_internal_links</th>\n",
       "      <th>no_of_images</th>\n",
       "      <th>no_of_sections</th>\n",
       "      <th>email_body_char</th>\n",
       "      <th>email_body_word</th>\n",
       "      <th>email_bodyavg_word</th>\n",
       "      <th>...</th>\n",
       "      <th>Month</th>\n",
       "      <th>Day</th>\n",
       "      <th>DayOfWeek</th>\n",
       "      <th>WeekOfYear</th>\n",
       "      <th>hour</th>\n",
       "      <th>mean_clicks_Month</th>\n",
       "      <th>mean_clicks_Day</th>\n",
       "      <th>mean_clicks_DayOfWeek</th>\n",
       "      <th>mean_clicks_hour</th>\n",
       "      <th>mean_clicks_WeekOfYear</th>\n",
       "    </tr>\n",
       "  </thead>\n",
       "  <tbody>\n",
       "    <tr>\n",
       "      <th>0</th>\n",
       "      <td>0.0</td>\n",
       "      <td>0.012824</td>\n",
       "      <td>3</td>\n",
       "      <td>88</td>\n",
       "      <td>79</td>\n",
       "      <td>13</td>\n",
       "      <td>4</td>\n",
       "      <td>1382</td>\n",
       "      <td>238</td>\n",
       "      <td>4.680672</td>\n",
       "      <td>...</td>\n",
       "      <td>1</td>\n",
       "      <td>9</td>\n",
       "      <td>0</td>\n",
       "      <td>2</td>\n",
       "      <td>19</td>\n",
       "      <td>0.011480</td>\n",
       "      <td>0.014944</td>\n",
       "      <td>0.012131</td>\n",
       "      <td>0.011266</td>\n",
       "      <td>0.011444</td>\n",
       "    </tr>\n",
       "    <tr>\n",
       "      <th>1</th>\n",
       "      <td>0.0</td>\n",
       "      <td>0.014192</td>\n",
       "      <td>3</td>\n",
       "      <td>67</td>\n",
       "      <td>62</td>\n",
       "      <td>10</td>\n",
       "      <td>4</td>\n",
       "      <td>971</td>\n",
       "      <td>166</td>\n",
       "      <td>4.710843</td>\n",
       "      <td>...</td>\n",
       "      <td>2</td>\n",
       "      <td>11</td>\n",
       "      <td>5</td>\n",
       "      <td>6</td>\n",
       "      <td>12</td>\n",
       "      <td>0.014621</td>\n",
       "      <td>0.012101</td>\n",
       "      <td>0.014739</td>\n",
       "      <td>0.012553</td>\n",
       "      <td>0.014621</td>\n",
       "    </tr>\n",
       "    <tr>\n",
       "      <th>2</th>\n",
       "      <td>0.0</td>\n",
       "      <td>0.011449</td>\n",
       "      <td>4</td>\n",
       "      <td>7</td>\n",
       "      <td>3</td>\n",
       "      <td>1</td>\n",
       "      <td>1</td>\n",
       "      <td>739</td>\n",
       "      <td>118</td>\n",
       "      <td>4.983051</td>\n",
       "      <td>...</td>\n",
       "      <td>7</td>\n",
       "      <td>24</td>\n",
       "      <td>0</td>\n",
       "      <td>30</td>\n",
       "      <td>15</td>\n",
       "      <td>0.011739</td>\n",
       "      <td>0.011668</td>\n",
       "      <td>0.012131</td>\n",
       "      <td>0.013872</td>\n",
       "      <td>0.014076</td>\n",
       "    </tr>\n",
       "    <tr>\n",
       "      <th>3</th>\n",
       "      <td>0.0</td>\n",
       "      <td>0.011697</td>\n",
       "      <td>5</td>\n",
       "      <td>60</td>\n",
       "      <td>56</td>\n",
       "      <td>19</td>\n",
       "      <td>6</td>\n",
       "      <td>273</td>\n",
       "      <td>43</td>\n",
       "      <td>5.162791</td>\n",
       "      <td>...</td>\n",
       "      <td>5</td>\n",
       "      <td>9</td>\n",
       "      <td>1</td>\n",
       "      <td>19</td>\n",
       "      <td>11</td>\n",
       "      <td>0.011993</td>\n",
       "      <td>0.014944</td>\n",
       "      <td>0.014836</td>\n",
       "      <td>0.011697</td>\n",
       "      <td>0.011064</td>\n",
       "    </tr>\n",
       "    <tr>\n",
       "      <th>4</th>\n",
       "      <td>0.0</td>\n",
       "      <td>0.016549</td>\n",
       "      <td>3</td>\n",
       "      <td>67</td>\n",
       "      <td>61</td>\n",
       "      <td>12</td>\n",
       "      <td>3</td>\n",
       "      <td>1498</td>\n",
       "      <td>243</td>\n",
       "      <td>5.037037</td>\n",
       "      <td>...</td>\n",
       "      <td>1</td>\n",
       "      <td>7</td>\n",
       "      <td>5</td>\n",
       "      <td>1</td>\n",
       "      <td>18</td>\n",
       "      <td>0.011480</td>\n",
       "      <td>0.014573</td>\n",
       "      <td>0.014739</td>\n",
       "      <td>0.020470</td>\n",
       "      <td>0.011536</td>\n",
       "    </tr>\n",
       "  </tbody>\n",
       "</table>\n",
       "<p>5 rows × 40 columns</p>\n",
       "</div>"
      ],
      "text/plain": [
       "   mean_clicks_user_id  mean_clicks_campaign_id  communication_type  \\\n",
       "0                  0.0                 0.012824                   3   \n",
       "1                  0.0                 0.014192                   3   \n",
       "2                  0.0                 0.011449                   4   \n",
       "3                  0.0                 0.011697                   5   \n",
       "4                  0.0                 0.016549                   3   \n",
       "\n",
       "   total_links  no_of_internal_links  no_of_images  no_of_sections  \\\n",
       "0           88                    79            13               4   \n",
       "1           67                    62            10               4   \n",
       "2            7                     3             1               1   \n",
       "3           60                    56            19               6   \n",
       "4           67                    61            12               3   \n",
       "\n",
       "   email_body_char  email_body_word  email_bodyavg_word  \\\n",
       "0             1382              238            4.680672   \n",
       "1              971              166            4.710843   \n",
       "2              739              118            4.983051   \n",
       "3              273               43            5.162791   \n",
       "4             1498              243            5.037037   \n",
       "\n",
       "            ...            Month  Day  DayOfWeek  WeekOfYear  hour  \\\n",
       "0           ...                1    9          0           2    19   \n",
       "1           ...                2   11          5           6    12   \n",
       "2           ...                7   24          0          30    15   \n",
       "3           ...                5    9          1          19    11   \n",
       "4           ...                1    7          5           1    18   \n",
       "\n",
       "   mean_clicks_Month  mean_clicks_Day  mean_clicks_DayOfWeek  \\\n",
       "0           0.011480         0.014944               0.012131   \n",
       "1           0.014621         0.012101               0.014739   \n",
       "2           0.011739         0.011668               0.012131   \n",
       "3           0.011993         0.014944               0.014836   \n",
       "4           0.011480         0.014573               0.014739   \n",
       "\n",
       "   mean_clicks_hour  mean_clicks_WeekOfYear  \n",
       "0          0.011266                0.011444  \n",
       "1          0.012553                0.014621  \n",
       "2          0.013872                0.014076  \n",
       "3          0.011697                0.011064  \n",
       "4          0.020470                0.011536  \n",
       "\n",
       "[5 rows x 40 columns]"
      ]
     },
     "execution_count": 85,
     "metadata": {},
     "output_type": "execute_result"
    }
   ],
   "source": [
    "train.head()"
   ]
  },
  {
   "cell_type": "code",
   "execution_count": 86,
   "metadata": {},
   "outputs": [],
   "source": [
    "test = test.reindex(columns=train.columns)"
   ]
  },
  {
   "cell_type": "code",
   "execution_count": 87,
   "metadata": {},
   "outputs": [
    {
     "data": {
      "text/plain": [
       "(773858, 40)"
      ]
     },
     "execution_count": 87,
     "metadata": {},
     "output_type": "execute_result"
    }
   ],
   "source": [
    "test.shape"
   ]
  },
  {
   "cell_type": "code",
   "execution_count": 88,
   "metadata": {},
   "outputs": [
    {
     "data": {
      "text/plain": [
       "(773858,)"
      ]
     },
     "execution_count": 88,
     "metadata": {},
     "output_type": "execute_result"
    }
   ],
   "source": [
    "test_ids.shape"
   ]
  },
  {
   "cell_type": "code",
   "execution_count": 89,
   "metadata": {
    "collapsed": true
   },
   "outputs": [],
   "source": [
    "categorical_features_indices = np.where(train.dtypes != np.float)[0]"
   ]
  },
  {
   "cell_type": "code",
   "execution_count": 90,
   "metadata": {
    "collapsed": true
   },
   "outputs": [],
   "source": [
    "# from imblearn.combine import SMOTETomek\n",
    "\n",
    "# smt = SMOTETomek(ratio='auto')\n",
    "# train_smote, target_smote = smt.fit_sample(train, target)"
   ]
  },
  {
   "cell_type": "code",
   "execution_count": 91,
   "metadata": {
    "collapsed": true
   },
   "outputs": [],
   "source": [
    "train.fillna(0, inplace=True)\n",
    "test.fillna(0, inplace=True)"
   ]
  },
  {
   "cell_type": "code",
   "execution_count": 92,
   "metadata": {},
   "outputs": [
    {
     "name": "stdout",
     "output_type": "stream",
     "text": [
      "Training set has 869712 samples.\n",
      "Testing set has 153479 samples.\n"
     ]
    }
   ],
   "source": [
    "from sklearn.model_selection import train_test_split\n",
    "\n",
    "# Split the 'features' and 'target' data into training and testing sets\n",
    "X_train, X_test, y_train, y_test = train_test_split(train, \n",
    "                                                    target, \n",
    "                                                    test_size = 0.15, \n",
    "                                                    random_state = 77, \n",
    "                                                    stratify = target)\n",
    "\n",
    "# Show the results of the split\n",
    "print(\"Training set has {} samples.\".format(X_train.shape[0]))\n",
    "print(\"Testing set has {} samples.\".format(X_test.shape[0]))"
   ]
  },
  {
   "cell_type": "code",
   "execution_count": 93,
   "metadata": {
    "collapsed": true
   },
   "outputs": [],
   "source": [
    "from xgboost import XGBClassifier\n",
    "from sklearn.ensemble import GradientBoostingClassifier\n",
    "from lightgbm import LGBMClassifier\n",
    "from sklearn.neural_network import MLPClassifier\n",
    "from sklearn.ensemble import RandomForestClassifier, AdaBoostClassifier, ExtraTreesClassifier\n",
    "from sklearn.neighbors import KNeighborsClassifier\n",
    "from sklearn.naive_bayes import GaussianNB\n",
    "from sklearn.tree import DecisionTreeClassifier\n",
    "from sklearn.svm import SVC\n",
    "from sklearn.neighbors import KNeighborsClassifier\n",
    "from sklearn.linear_model import LogisticRegression"
   ]
  },
  {
   "cell_type": "code",
   "execution_count": 94,
   "metadata": {
    "collapsed": true
   },
   "outputs": [],
   "source": [
    "from sklearn.model_selection import GridSearchCV\n",
    "from sklearn.metrics import make_scorer , roc_auc_score, accuracy_score, confusion_matrix\n",
    "\n",
    "def kFoldCV(clf, parameters, X_train, y_train, X_test, y_test, test): \n",
    "    scorer = make_scorer(roc_auc_score)\n",
    "    grid_obj = GridSearchCV(clf, parameters, scoring=scorer, verbose=10, cv=2, n_jobs=-1)\n",
    "    grid_fit = grid_obj.fit(X_train, y_train)\n",
    "    best_clf = grid_fit.best_estimator_\n",
    "    predictions = (clf.fit(X_train, y_train)).predict_proba(X_test)\n",
    "    best_predictions = best_clf.predict_proba(X_test)\n",
    "    best_predictions = [p[1] for p in best_predictions]\n",
    "    print('best model: ', best_clf)\n",
    "    print(\"Final roc_auc_score on the testing data: {:.4f}\".format(roc_auc_score(y_test, best_predictions)))\n",
    "    preds = best_clf.predict_proba(test)[:,1]\n",
    "    return preds"
   ]
  },
  {
   "cell_type": "code",
   "execution_count": 95,
   "metadata": {
    "collapsed": true
   },
   "outputs": [],
   "source": [
    "def train_predict(clf, X_train, y_train, X_test, y_test, test):\n",
    "    clf.fit(X_train, y_train)\n",
    "    preds = clf.predict_proba(X_test)[:,1]\n",
    "    print('{} has roc_auc_score: {}'.format(clf.__class__.__name__, roc_auc_score(y_test, preds)))\n",
    "    preds = clf.predict_proba(test)[:,1]\n",
    "    return preds"
   ]
  },
  {
   "cell_type": "code",
   "execution_count": 98,
   "metadata": {},
   "outputs": [
    {
     "name": "stdout",
     "output_type": "stream",
     "text": [
      "Iteration 1, loss = 0.22426938\n",
      "Iteration 2, loss = 0.10523045\n",
      "Iteration 3, loss = 0.11315292\n",
      "Iteration 4, loss = 0.09024885\n",
      "Iteration 5, loss = 0.08050598\n",
      "Iteration 6, loss = 0.06215939\n",
      "Iteration 7, loss = 0.06154070\n",
      "Iteration 8, loss = 0.05649696\n",
      "Iteration 9, loss = 0.05608475\n",
      "Iteration 10, loss = 0.05376302\n",
      "Iteration 11, loss = 0.05094230\n",
      "Iteration 12, loss = 0.05140093\n",
      "Iteration 13, loss = 0.05007617\n",
      "Iteration 14, loss = 0.04981141\n",
      "Iteration 15, loss = 0.04894963\n",
      "Iteration 16, loss = 0.04834578\n",
      "Iteration 17, loss = 0.04838779\n",
      "Iteration 18, loss = 0.04803869\n",
      "Iteration 19, loss = 0.04762914\n",
      "Iteration 20, loss = 0.04750595\n",
      "Iteration 21, loss = 0.04739205\n",
      "Iteration 22, loss = 0.04681894\n",
      "Iteration 23, loss = 0.04659165\n",
      "Iteration 24, loss = 0.04650712\n",
      "Iteration 25, loss = 0.04615800\n",
      "Iteration 26, loss = 0.04635830\n",
      "Iteration 27, loss = 0.04619811\n",
      "Iteration 28, loss = 0.04600543\n",
      "Iteration 29, loss = 0.04597513\n",
      "Iteration 30, loss = 0.04631670\n"
     ]
    },
    {
     "name": "stderr",
     "output_type": "stream",
     "text": [
      "C:\\Users\\shorake\\AppData\\Local\\Continuum\\Anaconda3\\lib\\site-packages\\sklearn\\neural_network\\multilayer_perceptron.py:564: ConvergenceWarning: Stochastic Optimizer: Maximum iterations (30) reached and the optimization hasn't converged yet.\n",
      "  % self.max_iter, ConvergenceWarning)\n"
     ]
    },
    {
     "name": "stdout",
     "output_type": "stream",
     "text": [
      "MLPClassifier has roc_auc_score: 0.9753590410502349\n"
     ]
    }
   ],
   "source": [
    "model1 = MLPClassifier(random_state=77, verbose=2)\n",
    "preds3 = train_predict(model1, X_train, y_train, X_test, y_test, test)"
   ]
  },
  {
   "cell_type": "code",
   "execution_count": 96,
   "metadata": {},
   "outputs": [
    {
     "name": "stderr",
     "output_type": "stream",
     "text": [
      "C:\\Users\\shorake\\AppData\\Local\\Continuum\\Anaconda3\\lib\\site-packages\\sklearn\\neural_network\\multilayer_perceptron.py:566: UserWarning: Training interrupted by user.\n",
      "  warnings.warn(\"Training interrupted by user.\")\n"
     ]
    },
    {
     "name": "stdout",
     "output_type": "stream",
     "text": [
      "MLPClassifier has roc_auc_score: 0.8948520558757785\n",
      "LGBMClassifier has roc_auc_score: 0.9794103553635051\n",
      "ExtraTreesClassifier has roc_auc_score: 0.9727742687438352\n",
      "XGBClassifier has roc_auc_score: 0.9794911399310826\n"
     ]
    }
   ],
   "source": [
    "model1 = MLPClassifier(random_state=77)\n",
    "preds3 = train_predict(model1, X_train, y_train, X_test, y_test, test)\n",
    "\n",
    "model1 = LGBMClassifier(random_state=77,n_jobs=-1)\n",
    "preds4 = train_predict(model1, X_train, y_train, X_test, y_test, test)\n",
    "\n",
    "model1 = ExtraTreesClassifier(random_state=77, n_jobs=-1, n_estimators=100)\n",
    "preds5 = train_predict(model1, X_train, y_train, X_test, y_test, test)\n",
    "\n",
    "model1 = XGBClassifier(random_state=77, n_jobs=-1)\n",
    "preds6 = train_predict(model1, X_train, y_train, X_test, y_test, test)"
   ]
  },
  {
   "cell_type": "code",
   "execution_count": 65,
   "metadata": {
    "collapsed": true
   },
   "outputs": [],
   "source": [
    "# params = {'n_estimators': [200], 'learning_rate': [1.0]}\n",
    "# model1 = AdaBoostClassifier(random_state=77, )\n",
    "# preds3 = kFoldCV(model1, params, X_train, y_train, X_test, y_test, test)"
   ]
  },
  {
   "cell_type": "code",
   "execution_count": 66,
   "metadata": {},
   "outputs": [],
   "source": [
    "# params = {'learning_rate': [0.1]}\n",
    "# model1 = LGBMClassifier(random_state=77,n_jobs=-1)\n",
    "# preds4 = kFoldCV(model1, params, X_train, y_train, X_test, y_test, test)"
   ]
  },
  {
   "cell_type": "code",
   "execution_count": 67,
   "metadata": {},
   "outputs": [],
   "source": [
    "# params = {'n_estimators': [100]}\n",
    "# model1 = ExtraTreesClassifier(random_state=77, n_jobs=-1)\n",
    "# preds5 = kFoldCV(model1, params, X_train, y_train, X_test, y_test, test)"
   ]
  },
  {
   "cell_type": "code",
   "execution_count": 68,
   "metadata": {},
   "outputs": [],
   "source": [
    "# params = {}#{'colsample_bytree':[1, 0.9, 0.8], 'min_child_weight':[1, 1.2, 1.4]}\n",
    "# model1 = XGBClassifier(random_state=77, n_jobs=-1)\n",
    "# preds6 = kFoldCV(model1, params, X_train, y_train, X_test, y_test, test)"
   ]
  },
  {
   "cell_type": "code",
   "execution_count": null,
   "metadata": {
    "scrolled": true
   },
   "outputs": [
    {
     "name": "stdout",
     "output_type": "stream",
     "text": [
      "0:\tlearn: 0.9701264\ttest: 0.9719227\tbest: 0.9719227 (0)\ttotal: 1.12s\tremaining: 9m 20s\n",
      "1:\tlearn: 0.9781111\ttest: 0.9786469\tbest: 0.9786469 (1)\ttotal: 2.17s\tremaining: 8m 59s\n",
      "2:\tlearn: 0.9781526\ttest: 0.9786939\tbest: 0.9786939 (2)\ttotal: 3.1s\tremaining: 8m 34s\n",
      "3:\tlearn: 0.9781698\ttest: 0.9784996\tbest: 0.9786939 (2)\ttotal: 4.1s\tremaining: 8m 28s\n",
      "4:\tlearn: 0.9782545\ttest: 0.9784704\tbest: 0.9786939 (2)\ttotal: 5.04s\tremaining: 8m 19s\n",
      "5:\tlearn: 0.9782925\ttest: 0.9785032\tbest: 0.9786939 (2)\ttotal: 6.03s\tremaining: 8m 16s\n",
      "6:\tlearn: 0.9784890\ttest: 0.9787918\tbest: 0.9787918 (6)\ttotal: 7s\tremaining: 8m 13s\n",
      "7:\tlearn: 0.9785782\ttest: 0.9789581\tbest: 0.9789581 (7)\ttotal: 7.96s\tremaining: 8m 9s\n",
      "8:\tlearn: 0.9785832\ttest: 0.9789599\tbest: 0.9789599 (8)\ttotal: 8.9s\tremaining: 8m 5s\n",
      "9:\tlearn: 0.9786370\ttest: 0.9790038\tbest: 0.9790038 (9)\ttotal: 9.89s\tremaining: 8m 4s\n",
      "10:\tlearn: 0.9786956\ttest: 0.9790100\tbest: 0.9790100 (10)\ttotal: 10.9s\tremaining: 8m 3s\n",
      "11:\tlearn: 0.9786912\ttest: 0.9789954\tbest: 0.9790100 (10)\ttotal: 11.8s\tremaining: 8m 1s\n",
      "12:\tlearn: 0.9787400\ttest: 0.9790319\tbest: 0.9790319 (12)\ttotal: 12.9s\tremaining: 8m 1s\n",
      "13:\tlearn: 0.9787545\ttest: 0.9790428\tbest: 0.9790428 (13)\ttotal: 13.8s\tremaining: 7m 59s\n",
      "14:\tlearn: 0.9788108\ttest: 0.9790894\tbest: 0.9790894 (14)\ttotal: 14.8s\tremaining: 7m 59s\n",
      "15:\tlearn: 0.9788620\ttest: 0.9790994\tbest: 0.9790994 (15)\ttotal: 15.9s\tremaining: 7m 59s\n",
      "16:\tlearn: 0.9788746\ttest: 0.9791512\tbest: 0.9791512 (16)\ttotal: 16.8s\tremaining: 7m 57s\n",
      "17:\tlearn: 0.9789080\ttest: 0.9791773\tbest: 0.9791773 (17)\ttotal: 17.8s\tremaining: 7m 57s\n",
      "18:\tlearn: 0.9789117\ttest: 0.9791843\tbest: 0.9791843 (18)\ttotal: 18.8s\tremaining: 7m 56s\n",
      "19:\tlearn: 0.9789310\ttest: 0.9792066\tbest: 0.9792066 (19)\ttotal: 19.8s\tremaining: 7m 56s\n",
      "20:\tlearn: 0.9789591\ttest: 0.9792165\tbest: 0.9792165 (20)\ttotal: 20.8s\tremaining: 7m 54s\n",
      "21:\tlearn: 0.9789630\ttest: 0.9792276\tbest: 0.9792276 (21)\ttotal: 21.8s\tremaining: 7m 54s\n",
      "22:\tlearn: 0.9789615\ttest: 0.9792250\tbest: 0.9792276 (21)\ttotal: 22.8s\tremaining: 7m 53s\n",
      "23:\tlearn: 0.9789560\ttest: 0.9792189\tbest: 0.9792276 (21)\ttotal: 23.9s\tremaining: 7m 53s\n",
      "24:\tlearn: 0.9789790\ttest: 0.9792286\tbest: 0.9792286 (24)\ttotal: 24.8s\tremaining: 7m 51s\n",
      "25:\tlearn: 0.9789866\ttest: 0.9792558\tbest: 0.9792558 (25)\ttotal: 25.8s\tremaining: 7m 50s\n",
      "26:\tlearn: 0.9789923\ttest: 0.9792720\tbest: 0.9792720 (26)\ttotal: 26.8s\tremaining: 7m 49s\n",
      "27:\tlearn: 0.9790154\ttest: 0.9792775\tbest: 0.9792775 (27)\ttotal: 27.8s\tremaining: 7m 48s\n",
      "28:\tlearn: 0.9790306\ttest: 0.9792845\tbest: 0.9792845 (28)\ttotal: 28.8s\tremaining: 7m 47s\n",
      "29:\tlearn: 0.9790447\ttest: 0.9793011\tbest: 0.9793011 (29)\ttotal: 29.8s\tremaining: 7m 46s\n",
      "30:\tlearn: 0.9790506\ttest: 0.9792946\tbest: 0.9793011 (29)\ttotal: 30.8s\tremaining: 7m 46s\n",
      "31:\tlearn: 0.9790745\ttest: 0.9793038\tbest: 0.9793038 (31)\ttotal: 31.8s\tremaining: 7m 45s\n",
      "32:\tlearn: 0.9790789\ttest: 0.9793059\tbest: 0.9793059 (32)\ttotal: 32.9s\tremaining: 7m 44s\n",
      "33:\tlearn: 0.9790884\ttest: 0.9793085\tbest: 0.9793085 (33)\ttotal: 33.8s\tremaining: 7m 43s\n",
      "34:\tlearn: 0.9791046\ttest: 0.9793235\tbest: 0.9793235 (34)\ttotal: 34.8s\tremaining: 7m 41s\n",
      "35:\tlearn: 0.9791204\ttest: 0.9793467\tbest: 0.9793467 (35)\ttotal: 35.8s\tremaining: 7m 41s\n",
      "36:\tlearn: 0.9791159\ttest: 0.9793464\tbest: 0.9793467 (35)\ttotal: 36.7s\tremaining: 7m 39s\n",
      "37:\tlearn: 0.9791365\ttest: 0.9793560\tbest: 0.9793560 (37)\ttotal: 37.7s\tremaining: 7m 37s\n",
      "38:\tlearn: 0.9791340\ttest: 0.9793571\tbest: 0.9793571 (38)\ttotal: 38.7s\tremaining: 7m 37s\n",
      "39:\tlearn: 0.9791363\ttest: 0.9793666\tbest: 0.9793666 (39)\ttotal: 39.7s\tremaining: 7m 36s\n",
      "40:\tlearn: 0.9791357\ttest: 0.9793580\tbest: 0.9793666 (39)\ttotal: 40.6s\tremaining: 7m 34s\n",
      "41:\tlearn: 0.9791457\ttest: 0.9793666\tbest: 0.9793666 (41)\ttotal: 41.7s\tremaining: 7m 34s\n",
      "42:\tlearn: 0.9791390\ttest: 0.9793614\tbest: 0.9793666 (41)\ttotal: 42.6s\tremaining: 7m 33s\n",
      "43:\tlearn: 0.9791428\ttest: 0.9793696\tbest: 0.9793696 (43)\ttotal: 43.6s\tremaining: 7m 31s\n",
      "44:\tlearn: 0.9791446\ttest: 0.9793696\tbest: 0.9793696 (44)\ttotal: 44.6s\tremaining: 7m 30s\n",
      "45:\tlearn: 0.9791487\ttest: 0.9793823\tbest: 0.9793823 (45)\ttotal: 45.6s\tremaining: 7m 30s\n",
      "46:\tlearn: 0.9791577\ttest: 0.9793814\tbest: 0.9793823 (45)\ttotal: 46.6s\tremaining: 7m 29s\n",
      "47:\tlearn: 0.9791593\ttest: 0.9793745\tbest: 0.9793823 (45)\ttotal: 47.6s\tremaining: 7m 28s\n",
      "48:\tlearn: 0.9791613\ttest: 0.9793881\tbest: 0.9793881 (48)\ttotal: 48.6s\tremaining: 7m 27s\n",
      "49:\tlearn: 0.9791739\ttest: 0.9793861\tbest: 0.9793881 (48)\ttotal: 49.6s\tremaining: 7m 26s\n",
      "50:\tlearn: 0.9791817\ttest: 0.9793921\tbest: 0.9793921 (50)\ttotal: 50.6s\tremaining: 7m 25s\n",
      "51:\tlearn: 0.9791850\ttest: 0.9793796\tbest: 0.9793921 (50)\ttotal: 51.6s\tremaining: 7m 24s\n",
      "52:\tlearn: 0.9791886\ttest: 0.9793737\tbest: 0.9793921 (50)\ttotal: 52.6s\tremaining: 7m 23s\n",
      "53:\tlearn: 0.9791929\ttest: 0.9793780\tbest: 0.9793921 (50)\ttotal: 53.6s\tremaining: 7m 22s\n",
      "54:\tlearn: 0.9791984\ttest: 0.9793717\tbest: 0.9793921 (50)\ttotal: 54.6s\tremaining: 7m 21s\n",
      "55:\tlearn: 0.9792066\ttest: 0.9793829\tbest: 0.9793921 (50)\ttotal: 55.6s\tremaining: 7m 20s\n",
      "56:\tlearn: 0.9792148\ttest: 0.9793879\tbest: 0.9793921 (50)\ttotal: 56.6s\tremaining: 7m 20s\n",
      "57:\tlearn: 0.9792214\ttest: 0.9794005\tbest: 0.9794005 (57)\ttotal: 57.6s\tremaining: 7m 19s\n",
      "58:\tlearn: 0.9792237\ttest: 0.9794017\tbest: 0.9794017 (58)\ttotal: 58.6s\tremaining: 7m 18s\n",
      "59:\tlearn: 0.9792215\ttest: 0.9793968\tbest: 0.9794017 (58)\ttotal: 59.6s\tremaining: 7m 17s\n",
      "60:\tlearn: 0.9792224\ttest: 0.9793970\tbest: 0.9794017 (58)\ttotal: 1m\tremaining: 7m 16s\n",
      "61:\tlearn: 0.9792296\ttest: 0.9793833\tbest: 0.9794017 (58)\ttotal: 1m 1s\tremaining: 7m 15s\n",
      "62:\tlearn: 0.9792245\ttest: 0.9793779\tbest: 0.9794017 (58)\ttotal: 1m 2s\tremaining: 7m 14s\n",
      "63:\tlearn: 0.9792309\ttest: 0.9793779\tbest: 0.9794017 (58)\ttotal: 1m 3s\tremaining: 7m 13s\n",
      "64:\tlearn: 0.9792352\ttest: 0.9793812\tbest: 0.9794017 (58)\ttotal: 1m 4s\tremaining: 7m 12s\n",
      "65:\tlearn: 0.9792384\ttest: 0.9793818\tbest: 0.9794017 (58)\ttotal: 1m 5s\tremaining: 7m 11s\n",
      "66:\tlearn: 0.9792405\ttest: 0.9793799\tbest: 0.9794017 (58)\ttotal: 1m 6s\tremaining: 7m 10s\n",
      "67:\tlearn: 0.9792465\ttest: 0.9793954\tbest: 0.9794017 (58)\ttotal: 1m 7s\tremaining: 7m 9s\n",
      "68:\tlearn: 0.9792510\ttest: 0.9794063\tbest: 0.9794063 (68)\ttotal: 1m 8s\tremaining: 7m 8s\n",
      "69:\tlearn: 0.9792573\ttest: 0.9794064\tbest: 0.9794064 (69)\ttotal: 1m 9s\tremaining: 7m 6s\n",
      "70:\tlearn: 0.9792642\ttest: 0.9794071\tbest: 0.9794071 (70)\ttotal: 1m 10s\tremaining: 7m 5s\n",
      "71:\tlearn: 0.9792669\ttest: 0.9794092\tbest: 0.9794092 (71)\ttotal: 1m 11s\tremaining: 7m 4s\n",
      "72:\tlearn: 0.9792674\ttest: 0.9794121\tbest: 0.9794121 (72)\ttotal: 1m 12s\tremaining: 7m 3s\n",
      "73:\tlearn: 0.9792678\ttest: 0.9794242\tbest: 0.9794242 (73)\ttotal: 1m 13s\tremaining: 7m 2s\n",
      "74:\tlearn: 0.9792742\ttest: 0.9794226\tbest: 0.9794242 (73)\ttotal: 1m 14s\tremaining: 7m 1s\n",
      "75:\tlearn: 0.9792781\ttest: 0.9794384\tbest: 0.9794384 (75)\ttotal: 1m 15s\tremaining: 7m\n",
      "76:\tlearn: 0.9792782\ttest: 0.9794377\tbest: 0.9794384 (75)\ttotal: 1m 16s\tremaining: 6m 59s\n",
      "77:\tlearn: 0.9792814\ttest: 0.9794388\tbest: 0.9794388 (77)\ttotal: 1m 17s\tremaining: 6m 58s\n",
      "78:\tlearn: 0.9792843\ttest: 0.9794396\tbest: 0.9794396 (78)\ttotal: 1m 18s\tremaining: 6m 57s\n",
      "79:\tlearn: 0.9792852\ttest: 0.9794314\tbest: 0.9794396 (78)\ttotal: 1m 19s\tremaining: 6m 56s\n",
      "80:\tlearn: 0.9792849\ttest: 0.9794389\tbest: 0.9794396 (78)\ttotal: 1m 20s\tremaining: 6m 55s\n",
      "81:\tlearn: 0.9792884\ttest: 0.9794415\tbest: 0.9794415 (81)\ttotal: 1m 21s\tremaining: 6m 54s\n",
      "82:\tlearn: 0.9792918\ttest: 0.9794471\tbest: 0.9794471 (82)\ttotal: 1m 22s\tremaining: 6m 53s\n",
      "83:\tlearn: 0.9792998\ttest: 0.9794395\tbest: 0.9794471 (82)\ttotal: 1m 23s\tremaining: 6m 52s\n",
      "84:\tlearn: 0.9793021\ttest: 0.9794375\tbest: 0.9794471 (82)\ttotal: 1m 24s\tremaining: 6m 51s\n",
      "85:\tlearn: 0.9793051\ttest: 0.9794381\tbest: 0.9794471 (82)\ttotal: 1m 25s\tremaining: 6m 50s\n",
      "86:\tlearn: 0.9793103\ttest: 0.9794435\tbest: 0.9794471 (82)\ttotal: 1m 26s\tremaining: 6m 49s\n",
      "87:\tlearn: 0.9793142\ttest: 0.9794499\tbest: 0.9794499 (87)\ttotal: 1m 27s\tremaining: 6m 48s\n",
      "88:\tlearn: 0.9793174\ttest: 0.9794529\tbest: 0.9794529 (88)\ttotal: 1m 28s\tremaining: 6m 47s\n",
      "89:\tlearn: 0.9793196\ttest: 0.9794515\tbest: 0.9794529 (88)\ttotal: 1m 29s\tremaining: 6m 45s\n",
      "90:\tlearn: 0.9793239\ttest: 0.9794553\tbest: 0.9794553 (90)\ttotal: 1m 30s\tremaining: 6m 44s\n",
      "91:\tlearn: 0.9793276\ttest: 0.9794519\tbest: 0.9794553 (90)\ttotal: 1m 31s\tremaining: 6m 44s\n",
      "92:\tlearn: 0.9793267\ttest: 0.9794483\tbest: 0.9794553 (90)\ttotal: 1m 32s\tremaining: 6m 43s\n"
     ]
    },
    {
     "name": "stdout",
     "output_type": "stream",
     "text": [
      "93:\tlearn: 0.9793278\ttest: 0.9794485\tbest: 0.9794553 (90)\ttotal: 1m 33s\tremaining: 6m 42s\n",
      "94:\tlearn: 0.9793321\ttest: 0.9794574\tbest: 0.9794574 (94)\ttotal: 1m 34s\tremaining: 6m 41s\n",
      "95:\tlearn: 0.9793388\ttest: 0.9794608\tbest: 0.9794608 (95)\ttotal: 1m 35s\tremaining: 6m 40s\n",
      "96:\tlearn: 0.9793451\ttest: 0.9794699\tbest: 0.9794699 (96)\ttotal: 1m 36s\tremaining: 6m 39s\n",
      "97:\tlearn: 0.9793473\ttest: 0.9794758\tbest: 0.9794758 (97)\ttotal: 1m 37s\tremaining: 6m 38s\n",
      "98:\tlearn: 0.9793484\ttest: 0.9794736\tbest: 0.9794758 (97)\ttotal: 1m 38s\tremaining: 6m 37s\n",
      "99:\tlearn: 0.9793505\ttest: 0.9794728\tbest: 0.9794758 (97)\ttotal: 1m 39s\tremaining: 6m 36s\n",
      "100:\tlearn: 0.9793519\ttest: 0.9794723\tbest: 0.9794758 (97)\ttotal: 1m 40s\tremaining: 6m 35s\n",
      "101:\tlearn: 0.9793518\ttest: 0.9794719\tbest: 0.9794758 (97)\ttotal: 1m 41s\tremaining: 6m 34s\n",
      "102:\tlearn: 0.9793539\ttest: 0.9794724\tbest: 0.9794758 (97)\ttotal: 1m 42s\tremaining: 6m 33s\n",
      "103:\tlearn: 0.9793542\ttest: 0.9794722\tbest: 0.9794758 (97)\ttotal: 1m 43s\tremaining: 6m 32s\n",
      "104:\tlearn: 0.9793561\ttest: 0.9794716\tbest: 0.9794758 (97)\ttotal: 1m 44s\tremaining: 6m 31s\n",
      "105:\tlearn: 0.9793568\ttest: 0.9794752\tbest: 0.9794758 (97)\ttotal: 1m 45s\tremaining: 6m 30s\n",
      "106:\tlearn: 0.9793578\ttest: 0.9794772\tbest: 0.9794772 (106)\ttotal: 1m 46s\tremaining: 6m 29s\n",
      "107:\tlearn: 0.9793597\ttest: 0.9794796\tbest: 0.9794796 (107)\ttotal: 1m 47s\tremaining: 6m 29s\n",
      "108:\tlearn: 0.9793605\ttest: 0.9794762\tbest: 0.9794796 (107)\ttotal: 1m 48s\tremaining: 6m 27s\n",
      "109:\tlearn: 0.9793637\ttest: 0.9794773\tbest: 0.9794796 (107)\ttotal: 1m 49s\tremaining: 6m 26s\n",
      "110:\tlearn: 0.9793643\ttest: 0.9794789\tbest: 0.9794796 (107)\ttotal: 1m 50s\tremaining: 6m 25s\n",
      "111:\tlearn: 0.9793671\ttest: 0.9794829\tbest: 0.9794829 (111)\ttotal: 1m 51s\tremaining: 6m 24s\n",
      "112:\tlearn: 0.9793678\ttest: 0.9794838\tbest: 0.9794838 (112)\ttotal: 1m 52s\tremaining: 6m 23s\n",
      "113:\tlearn: 0.9793677\ttest: 0.9794848\tbest: 0.9794848 (113)\ttotal: 1m 53s\tremaining: 6m 22s\n",
      "114:\tlearn: 0.9793691\ttest: 0.9794844\tbest: 0.9794848 (113)\ttotal: 1m 54s\tremaining: 6m 21s\n",
      "115:\tlearn: 0.9793687\ttest: 0.9794844\tbest: 0.9794848 (113)\ttotal: 1m 55s\tremaining: 6m 20s\n",
      "116:\tlearn: 0.9793712\ttest: 0.9794828\tbest: 0.9794848 (113)\ttotal: 1m 56s\tremaining: 6m 19s\n",
      "117:\tlearn: 0.9793724\ttest: 0.9794843\tbest: 0.9794848 (113)\ttotal: 1m 57s\tremaining: 6m 19s\n",
      "118:\tlearn: 0.9793749\ttest: 0.9794856\tbest: 0.9794856 (118)\ttotal: 1m 58s\tremaining: 6m 18s\n",
      "119:\tlearn: 0.9793774\ttest: 0.9794873\tbest: 0.9794873 (119)\ttotal: 1m 59s\tremaining: 6m 17s\n",
      "120:\tlearn: 0.9793801\ttest: 0.9794909\tbest: 0.9794909 (120)\ttotal: 2m\tremaining: 6m 15s\n",
      "121:\tlearn: 0.9793815\ttest: 0.9794882\tbest: 0.9794909 (120)\ttotal: 2m 1s\tremaining: 6m 14s\n",
      "122:\tlearn: 0.9793820\ttest: 0.9794926\tbest: 0.9794926 (122)\ttotal: 2m 1s\tremaining: 6m 13s\n",
      "123:\tlearn: 0.9793824\ttest: 0.9794940\tbest: 0.9794940 (123)\ttotal: 2m 2s\tremaining: 6m 12s\n",
      "124:\tlearn: 0.9793831\ttest: 0.9794963\tbest: 0.9794963 (124)\ttotal: 2m 3s\tremaining: 6m 11s\n",
      "125:\tlearn: 0.9793845\ttest: 0.9794959\tbest: 0.9794963 (124)\ttotal: 2m 4s\tremaining: 6m 10s\n",
      "126:\tlearn: 0.9793859\ttest: 0.9794932\tbest: 0.9794963 (124)\ttotal: 2m 5s\tremaining: 6m 9s\n",
      "127:\tlearn: 0.9793867\ttest: 0.9794939\tbest: 0.9794963 (124)\ttotal: 2m 6s\tremaining: 6m 8s\n",
      "128:\tlearn: 0.9793883\ttest: 0.9795004\tbest: 0.9795004 (128)\ttotal: 2m 7s\tremaining: 6m 7s\n",
      "129:\tlearn: 0.9793913\ttest: 0.9795028\tbest: 0.9795028 (129)\ttotal: 2m 8s\tremaining: 6m 6s\n",
      "130:\tlearn: 0.9793917\ttest: 0.9795028\tbest: 0.9795028 (130)\ttotal: 2m 9s\tremaining: 6m 5s\n",
      "131:\tlearn: 0.9793930\ttest: 0.9795008\tbest: 0.9795028 (130)\ttotal: 2m 10s\tremaining: 6m 4s\n",
      "132:\tlearn: 0.9793940\ttest: 0.9795035\tbest: 0.9795035 (132)\ttotal: 2m 11s\tremaining: 6m 3s\n",
      "133:\tlearn: 0.9793943\ttest: 0.9795010\tbest: 0.9795035 (132)\ttotal: 2m 12s\tremaining: 6m 2s\n",
      "134:\tlearn: 0.9793954\ttest: 0.9795028\tbest: 0.9795035 (132)\ttotal: 2m 13s\tremaining: 6m 1s\n",
      "135:\tlearn: 0.9793959\ttest: 0.9795042\tbest: 0.9795042 (135)\ttotal: 2m 14s\tremaining: 6m\n",
      "136:\tlearn: 0.9793972\ttest: 0.9795039\tbest: 0.9795042 (135)\ttotal: 2m 15s\tremaining: 5m 59s\n",
      "137:\tlearn: 0.9794006\ttest: 0.9795044\tbest: 0.9795044 (137)\ttotal: 2m 16s\tremaining: 5m 58s\n",
      "138:\tlearn: 0.9794007\ttest: 0.9795052\tbest: 0.9795052 (138)\ttotal: 2m 17s\tremaining: 5m 57s\n",
      "139:\tlearn: 0.9794028\ttest: 0.9795057\tbest: 0.9795057 (139)\ttotal: 2m 18s\tremaining: 5m 56s\n",
      "140:\tlearn: 0.9794025\ttest: 0.9794960\tbest: 0.9795057 (139)\ttotal: 2m 19s\tremaining: 5m 55s\n",
      "141:\tlearn: 0.9794057\ttest: 0.9794914\tbest: 0.9795057 (139)\ttotal: 2m 20s\tremaining: 5m 54s\n",
      "142:\tlearn: 0.9794096\ttest: 0.9794929\tbest: 0.9795057 (139)\ttotal: 2m 21s\tremaining: 5m 54s\n",
      "143:\tlearn: 0.9794121\ttest: 0.9794938\tbest: 0.9795057 (139)\ttotal: 2m 22s\tremaining: 5m 53s\n",
      "144:\tlearn: 0.9794117\ttest: 0.9794932\tbest: 0.9795057 (139)\ttotal: 2m 23s\tremaining: 5m 52s\n",
      "145:\tlearn: 0.9794127\ttest: 0.9794945\tbest: 0.9795057 (139)\ttotal: 2m 24s\tremaining: 5m 51s\n",
      "146:\tlearn: 0.9794145\ttest: 0.9794931\tbest: 0.9795057 (139)\ttotal: 2m 25s\tremaining: 5m 50s\n",
      "147:\tlearn: 0.9794135\ttest: 0.9794903\tbest: 0.9795057 (139)\ttotal: 2m 26s\tremaining: 5m 49s\n",
      "148:\tlearn: 0.9794136\ttest: 0.9794915\tbest: 0.9795057 (139)\ttotal: 2m 27s\tremaining: 5m 48s\n",
      "149:\tlearn: 0.9794143\ttest: 0.9794919\tbest: 0.9795057 (139)\ttotal: 2m 28s\tremaining: 5m 47s\n",
      "150:\tlearn: 0.9794168\ttest: 0.9794902\tbest: 0.9795057 (139)\ttotal: 2m 29s\tremaining: 5m 46s\n",
      "151:\tlearn: 0.9794174\ttest: 0.9794908\tbest: 0.9795057 (139)\ttotal: 2m 30s\tremaining: 5m 45s\n",
      "152:\tlearn: 0.9794182\ttest: 0.9794921\tbest: 0.9795057 (139)\ttotal: 2m 31s\tremaining: 5m 44s\n",
      "153:\tlearn: 0.9794177\ttest: 0.9794910\tbest: 0.9795057 (139)\ttotal: 2m 32s\tremaining: 5m 43s\n",
      "154:\tlearn: 0.9794181\ttest: 0.9794905\tbest: 0.9795057 (139)\ttotal: 2m 33s\tremaining: 5m 42s\n",
      "155:\tlearn: 0.9794189\ttest: 0.9794913\tbest: 0.9795057 (139)\ttotal: 2m 34s\tremaining: 5m 41s\n",
      "156:\tlearn: 0.9794205\ttest: 0.9794912\tbest: 0.9795057 (139)\ttotal: 2m 35s\tremaining: 5m 40s\n",
      "157:\tlearn: 0.9794195\ttest: 0.9794921\tbest: 0.9795057 (139)\ttotal: 2m 36s\tremaining: 5m 39s\n",
      "158:\tlearn: 0.9794231\ttest: 0.9794922\tbest: 0.9795057 (139)\ttotal: 2m 37s\tremaining: 5m 38s\n",
      "159:\tlearn: 0.9794239\ttest: 0.9794930\tbest: 0.9795057 (139)\ttotal: 2m 38s\tremaining: 5m 37s\n",
      "160:\tlearn: 0.9794246\ttest: 0.9794915\tbest: 0.9795057 (139)\ttotal: 2m 39s\tremaining: 5m 36s\n",
      "161:\tlearn: 0.9794256\ttest: 0.9794924\tbest: 0.9795057 (139)\ttotal: 2m 40s\tremaining: 5m 35s\n",
      "162:\tlearn: 0.9794262\ttest: 0.9794931\tbest: 0.9795057 (139)\ttotal: 2m 41s\tremaining: 5m 34s\n",
      "163:\tlearn: 0.9794276\ttest: 0.9794927\tbest: 0.9795057 (139)\ttotal: 2m 42s\tremaining: 5m 33s\n",
      "164:\tlearn: 0.9794277\ttest: 0.9794925\tbest: 0.9795057 (139)\ttotal: 2m 43s\tremaining: 5m 32s\n",
      "165:\tlearn: 0.9794286\ttest: 0.9794912\tbest: 0.9795057 (139)\ttotal: 2m 44s\tremaining: 5m 31s\n",
      "166:\tlearn: 0.9794294\ttest: 0.9794900\tbest: 0.9795057 (139)\ttotal: 2m 45s\tremaining: 5m 30s\n",
      "167:\tlearn: 0.9794328\ttest: 0.9794914\tbest: 0.9795057 (139)\ttotal: 2m 46s\tremaining: 5m 29s\n",
      "168:\tlearn: 0.9794338\ttest: 0.9794870\tbest: 0.9795057 (139)\ttotal: 2m 47s\tremaining: 5m 28s\n",
      "169:\tlearn: 0.9794336\ttest: 0.9794855\tbest: 0.9795057 (139)\ttotal: 2m 48s\tremaining: 5m 27s\n",
      "170:\tlearn: 0.9794354\ttest: 0.9794896\tbest: 0.9795057 (139)\ttotal: 2m 49s\tremaining: 5m 26s\n",
      "171:\tlearn: 0.9794354\ttest: 0.9794899\tbest: 0.9795057 (139)\ttotal: 2m 50s\tremaining: 5m 25s\n",
      "172:\tlearn: 0.9794379\ttest: 0.9794928\tbest: 0.9795057 (139)\ttotal: 2m 51s\tremaining: 5m 24s\n",
      "173:\tlearn: 0.9794384\ttest: 0.9794947\tbest: 0.9795057 (139)\ttotal: 2m 52s\tremaining: 5m 23s\n",
      "174:\tlearn: 0.9794399\ttest: 0.9794943\tbest: 0.9795057 (139)\ttotal: 2m 53s\tremaining: 5m 22s\n",
      "175:\tlearn: 0.9794408\ttest: 0.9794943\tbest: 0.9795057 (139)\ttotal: 2m 54s\tremaining: 5m 21s\n",
      "176:\tlearn: 0.9794418\ttest: 0.9794943\tbest: 0.9795057 (139)\ttotal: 2m 55s\tremaining: 5m 20s\n",
      "177:\tlearn: 0.9794433\ttest: 0.9794946\tbest: 0.9795057 (139)\ttotal: 2m 56s\tremaining: 5m 19s\n",
      "178:\tlearn: 0.9794458\ttest: 0.9794935\tbest: 0.9795057 (139)\ttotal: 2m 57s\tremaining: 5m 18s\n",
      "179:\tlearn: 0.9794461\ttest: 0.9794944\tbest: 0.9795057 (139)\ttotal: 2m 58s\tremaining: 5m 17s\n",
      "180:\tlearn: 0.9794469\ttest: 0.9794954\tbest: 0.9795057 (139)\ttotal: 2m 59s\tremaining: 5m 16s\n",
      "181:\tlearn: 0.9794489\ttest: 0.9794942\tbest: 0.9795057 (139)\ttotal: 3m\tremaining: 5m 15s\n",
      "182:\tlearn: 0.9794507\ttest: 0.9794960\tbest: 0.9795057 (139)\ttotal: 3m 1s\tremaining: 5m 14s\n"
     ]
    },
    {
     "name": "stdout",
     "output_type": "stream",
     "text": [
      "183:\tlearn: 0.9794514\ttest: 0.9794968\tbest: 0.9795057 (139)\ttotal: 3m 2s\tremaining: 5m 13s\n",
      "184:\tlearn: 0.9794526\ttest: 0.9794971\tbest: 0.9795057 (139)\ttotal: 3m 3s\tremaining: 5m 12s\n",
      "185:\tlearn: 0.9794549\ttest: 0.9794951\tbest: 0.9795057 (139)\ttotal: 3m 4s\tremaining: 5m 11s\n",
      "186:\tlearn: 0.9794553\ttest: 0.9794956\tbest: 0.9795057 (139)\ttotal: 3m 5s\tremaining: 5m 10s\n",
      "187:\tlearn: 0.9794558\ttest: 0.9794960\tbest: 0.9795057 (139)\ttotal: 3m 6s\tremaining: 5m 9s\n",
      "188:\tlearn: 0.9794569\ttest: 0.9794972\tbest: 0.9795057 (139)\ttotal: 3m 7s\tremaining: 5m 8s\n",
      "189:\tlearn: 0.9794579\ttest: 0.9794983\tbest: 0.9795057 (139)\ttotal: 3m 8s\tremaining: 5m 7s\n",
      "190:\tlearn: 0.9794589\ttest: 0.9794995\tbest: 0.9795057 (139)\ttotal: 3m 9s\tremaining: 5m 6s\n",
      "191:\tlearn: 0.9794588\ttest: 0.9795024\tbest: 0.9795057 (139)\ttotal: 3m 10s\tremaining: 5m 5s\n",
      "192:\tlearn: 0.9794593\ttest: 0.9795000\tbest: 0.9795057 (139)\ttotal: 3m 11s\tremaining: 5m 4s\n",
      "193:\tlearn: 0.9794598\ttest: 0.9794990\tbest: 0.9795057 (139)\ttotal: 3m 12s\tremaining: 5m 3s\n",
      "194:\tlearn: 0.9794611\ttest: 0.9795004\tbest: 0.9795057 (139)\ttotal: 3m 13s\tremaining: 5m 2s\n",
      "195:\tlearn: 0.9794605\ttest: 0.9794995\tbest: 0.9795057 (139)\ttotal: 3m 14s\tremaining: 5m 1s\n",
      "196:\tlearn: 0.9794602\ttest: 0.9794982\tbest: 0.9795057 (139)\ttotal: 3m 15s\tremaining: 5m\n",
      "197:\tlearn: 0.9794606\ttest: 0.9794999\tbest: 0.9795057 (139)\ttotal: 3m 16s\tremaining: 4m 59s\n",
      "198:\tlearn: 0.9794623\ttest: 0.9795013\tbest: 0.9795057 (139)\ttotal: 3m 17s\tremaining: 4m 58s\n",
      "199:\tlearn: 0.9794627\ttest: 0.9795009\tbest: 0.9795057 (139)\ttotal: 3m 18s\tremaining: 4m 57s\n",
      "200:\tlearn: 0.9794628\ttest: 0.9795007\tbest: 0.9795057 (139)\ttotal: 3m 19s\tremaining: 4m 56s\n",
      "201:\tlearn: 0.9794650\ttest: 0.9794999\tbest: 0.9795057 (139)\ttotal: 3m 20s\tremaining: 4m 55s\n",
      "202:\tlearn: 0.9794661\ttest: 0.9794993\tbest: 0.9795057 (139)\ttotal: 3m 21s\tremaining: 4m 54s\n",
      "203:\tlearn: 0.9794685\ttest: 0.9794999\tbest: 0.9795057 (139)\ttotal: 3m 22s\tremaining: 4m 53s\n",
      "204:\tlearn: 0.9794683\ttest: 0.9794994\tbest: 0.9795057 (139)\ttotal: 3m 23s\tremaining: 4m 52s\n",
      "205:\tlearn: 0.9794696\ttest: 0.9794998\tbest: 0.9795057 (139)\ttotal: 3m 24s\tremaining: 4m 51s\n",
      "206:\tlearn: 0.9794712\ttest: 0.9794999\tbest: 0.9795057 (139)\ttotal: 3m 25s\tremaining: 4m 50s\n",
      "207:\tlearn: 0.9794711\ttest: 0.9794993\tbest: 0.9795057 (139)\ttotal: 3m 26s\tremaining: 4m 49s\n",
      "208:\tlearn: 0.9794728\ttest: 0.9794984\tbest: 0.9795057 (139)\ttotal: 3m 27s\tremaining: 4m 48s\n",
      "209:\tlearn: 0.9794732\ttest: 0.9794986\tbest: 0.9795057 (139)\ttotal: 3m 28s\tremaining: 4m 47s\n",
      "210:\tlearn: 0.9794738\ttest: 0.9795004\tbest: 0.9795057 (139)\ttotal: 3m 29s\tremaining: 4m 46s\n",
      "211:\tlearn: 0.9794748\ttest: 0.9794986\tbest: 0.9795057 (139)\ttotal: 3m 30s\tremaining: 4m 45s\n",
      "212:\tlearn: 0.9794758\ttest: 0.9794980\tbest: 0.9795057 (139)\ttotal: 3m 31s\tremaining: 4m 44s\n",
      "213:\tlearn: 0.9794761\ttest: 0.9795000\tbest: 0.9795057 (139)\ttotal: 3m 32s\tremaining: 4m 43s\n",
      "214:\tlearn: 0.9794764\ttest: 0.9794993\tbest: 0.9795057 (139)\ttotal: 3m 33s\tremaining: 4m 42s\n",
      "215:\tlearn: 0.9794763\ttest: 0.9794989\tbest: 0.9795057 (139)\ttotal: 3m 34s\tremaining: 4m 41s\n",
      "216:\tlearn: 0.9794772\ttest: 0.9794984\tbest: 0.9795057 (139)\ttotal: 3m 35s\tremaining: 4m 40s\n",
      "217:\tlearn: 0.9794813\ttest: 0.9794958\tbest: 0.9795057 (139)\ttotal: 3m 36s\tremaining: 4m 39s\n",
      "218:\tlearn: 0.9794839\ttest: 0.9794980\tbest: 0.9795057 (139)\ttotal: 3m 36s\tremaining: 4m 38s\n",
      "219:\tlearn: 0.9794846\ttest: 0.9794988\tbest: 0.9795057 (139)\ttotal: 3m 37s\tremaining: 4m 37s\n",
      "220:\tlearn: 0.9794856\ttest: 0.9795006\tbest: 0.9795057 (139)\ttotal: 3m 39s\tremaining: 4m 36s\n",
      "221:\tlearn: 0.9794853\ttest: 0.9795011\tbest: 0.9795057 (139)\ttotal: 3m 40s\tremaining: 4m 35s\n",
      "222:\tlearn: 0.9794855\ttest: 0.9795017\tbest: 0.9795057 (139)\ttotal: 3m 41s\tremaining: 4m 34s\n",
      "223:\tlearn: 0.9794876\ttest: 0.9795008\tbest: 0.9795057 (139)\ttotal: 3m 42s\tremaining: 4m 33s\n",
      "224:\tlearn: 0.9794880\ttest: 0.9794995\tbest: 0.9795057 (139)\ttotal: 3m 43s\tremaining: 4m 32s\n",
      "225:\tlearn: 0.9794894\ttest: 0.9795004\tbest: 0.9795057 (139)\ttotal: 3m 44s\tremaining: 4m 31s\n",
      "226:\tlearn: 0.9794883\ttest: 0.9794982\tbest: 0.9795057 (139)\ttotal: 3m 45s\tremaining: 4m 30s\n",
      "227:\tlearn: 0.9794888\ttest: 0.9794968\tbest: 0.9795057 (139)\ttotal: 3m 46s\tremaining: 4m 29s\n",
      "228:\tlearn: 0.9794895\ttest: 0.9794966\tbest: 0.9795057 (139)\ttotal: 3m 47s\tremaining: 4m 28s\n",
      "229:\tlearn: 0.9794903\ttest: 0.9794965\tbest: 0.9795057 (139)\ttotal: 3m 48s\tremaining: 4m 27s\n",
      "230:\tlearn: 0.9794903\ttest: 0.9794966\tbest: 0.9795057 (139)\ttotal: 3m 49s\tremaining: 4m 26s\n",
      "231:\tlearn: 0.9794922\ttest: 0.9794976\tbest: 0.9795057 (139)\ttotal: 3m 50s\tremaining: 4m 25s\n",
      "232:\tlearn: 0.9794961\ttest: 0.9794972\tbest: 0.9795057 (139)\ttotal: 3m 51s\tremaining: 4m 24s\n",
      "233:\tlearn: 0.9794955\ttest: 0.9794938\tbest: 0.9795057 (139)\ttotal: 3m 52s\tremaining: 4m 23s\n",
      "234:\tlearn: 0.9794964\ttest: 0.9794922\tbest: 0.9795057 (139)\ttotal: 3m 53s\tremaining: 4m 22s\n",
      "235:\tlearn: 0.9794995\ttest: 0.9794944\tbest: 0.9795057 (139)\ttotal: 3m 54s\tremaining: 4m 21s\n",
      "236:\tlearn: 0.9795014\ttest: 0.9794907\tbest: 0.9795057 (139)\ttotal: 3m 55s\tremaining: 4m 20s\n",
      "237:\tlearn: 0.9795027\ttest: 0.9794906\tbest: 0.9795057 (139)\ttotal: 3m 56s\tremaining: 4m 19s\n",
      "238:\tlearn: 0.9795042\ttest: 0.9794913\tbest: 0.9795057 (139)\ttotal: 3m 57s\tremaining: 4m 18s\n",
      "239:\tlearn: 0.9795057\ttest: 0.9794904\tbest: 0.9795057 (139)\ttotal: 3m 58s\tremaining: 4m 17s\n",
      "240:\tlearn: 0.9795070\ttest: 0.9794909\tbest: 0.9795057 (139)\ttotal: 3m 59s\tremaining: 4m 16s\n",
      "241:\tlearn: 0.9795085\ttest: 0.9794944\tbest: 0.9795057 (139)\ttotal: 4m\tremaining: 4m 15s\n",
      "242:\tlearn: 0.9795112\ttest: 0.9794942\tbest: 0.9795057 (139)\ttotal: 4m 1s\tremaining: 4m 14s\n",
      "243:\tlearn: 0.9795112\ttest: 0.9794933\tbest: 0.9795057 (139)\ttotal: 4m 2s\tremaining: 4m 13s\n",
      "244:\tlearn: 0.9795123\ttest: 0.9794941\tbest: 0.9795057 (139)\ttotal: 4m 3s\tremaining: 4m 12s\n",
      "245:\tlearn: 0.9795129\ttest: 0.9794959\tbest: 0.9795057 (139)\ttotal: 4m 4s\tremaining: 4m 11s\n",
      "246:\tlearn: 0.9795165\ttest: 0.9794956\tbest: 0.9795057 (139)\ttotal: 4m 5s\tremaining: 4m 11s\n",
      "247:\tlearn: 0.9795178\ttest: 0.9794974\tbest: 0.9795057 (139)\ttotal: 4m 6s\tremaining: 4m 10s\n",
      "248:\tlearn: 0.9795179\ttest: 0.9794968\tbest: 0.9795057 (139)\ttotal: 4m 7s\tremaining: 4m 9s\n",
      "249:\tlearn: 0.9795196\ttest: 0.9794980\tbest: 0.9795057 (139)\ttotal: 4m 8s\tremaining: 4m 8s\n",
      "250:\tlearn: 0.9795181\ttest: 0.9794963\tbest: 0.9795057 (139)\ttotal: 4m 9s\tremaining: 4m 7s\n",
      "251:\tlearn: 0.9795203\ttest: 0.9794976\tbest: 0.9795057 (139)\ttotal: 4m 10s\tremaining: 4m 6s\n",
      "252:\tlearn: 0.9795201\ttest: 0.9794993\tbest: 0.9795057 (139)\ttotal: 4m 11s\tremaining: 4m 5s\n",
      "253:\tlearn: 0.9795219\ttest: 0.9794990\tbest: 0.9795057 (139)\ttotal: 4m 12s\tremaining: 4m 4s\n",
      "254:\tlearn: 0.9795228\ttest: 0.9794976\tbest: 0.9795057 (139)\ttotal: 4m 13s\tremaining: 4m 3s\n",
      "255:\tlearn: 0.9795220\ttest: 0.9794979\tbest: 0.9795057 (139)\ttotal: 4m 14s\tremaining: 4m 2s\n",
      "256:\tlearn: 0.9795220\ttest: 0.9794987\tbest: 0.9795057 (139)\ttotal: 4m 15s\tremaining: 4m 1s\n",
      "257:\tlearn: 0.9795222\ttest: 0.9794977\tbest: 0.9795057 (139)\ttotal: 4m 16s\tremaining: 4m\n",
      "258:\tlearn: 0.9795239\ttest: 0.9794980\tbest: 0.9795057 (139)\ttotal: 4m 17s\tremaining: 3m 59s\n",
      "259:\tlearn: 0.9795240\ttest: 0.9794986\tbest: 0.9795057 (139)\ttotal: 4m 18s\tremaining: 3m 58s\n",
      "260:\tlearn: 0.9795240\ttest: 0.9794978\tbest: 0.9795057 (139)\ttotal: 4m 19s\tremaining: 3m 57s\n",
      "261:\tlearn: 0.9795247\ttest: 0.9794968\tbest: 0.9795057 (139)\ttotal: 4m 20s\tremaining: 3m 56s\n",
      "262:\tlearn: 0.9795267\ttest: 0.9794995\tbest: 0.9795057 (139)\ttotal: 4m 21s\tremaining: 3m 55s\n",
      "263:\tlearn: 0.9795264\ttest: 0.9794975\tbest: 0.9795057 (139)\ttotal: 4m 22s\tremaining: 3m 54s\n",
      "264:\tlearn: 0.9795270\ttest: 0.9794980\tbest: 0.9795057 (139)\ttotal: 4m 22s\tremaining: 3m 53s\n",
      "265:\tlearn: 0.9795302\ttest: 0.9794951\tbest: 0.9795057 (139)\ttotal: 4m 23s\tremaining: 3m 52s\n",
      "266:\tlearn: 0.9795289\ttest: 0.9794969\tbest: 0.9795057 (139)\ttotal: 4m 24s\tremaining: 3m 51s\n",
      "267:\tlearn: 0.9795280\ttest: 0.9794960\tbest: 0.9795057 (139)\ttotal: 4m 25s\tremaining: 3m 50s\n",
      "268:\tlearn: 0.9795283\ttest: 0.9794954\tbest: 0.9795057 (139)\ttotal: 4m 26s\tremaining: 3m 49s\n",
      "269:\tlearn: 0.9795316\ttest: 0.9794956\tbest: 0.9795057 (139)\ttotal: 4m 27s\tremaining: 3m 48s\n",
      "270:\tlearn: 0.9795316\ttest: 0.9794977\tbest: 0.9795057 (139)\ttotal: 4m 28s\tremaining: 3m 47s\n",
      "271:\tlearn: 0.9795317\ttest: 0.9794949\tbest: 0.9795057 (139)\ttotal: 4m 29s\tremaining: 3m 46s\n",
      "272:\tlearn: 0.9795324\ttest: 0.9794967\tbest: 0.9795057 (139)\ttotal: 4m 30s\tremaining: 3m 45s\n"
     ]
    },
    {
     "name": "stdout",
     "output_type": "stream",
     "text": [
      "273:\tlearn: 0.9795332\ttest: 0.9794977\tbest: 0.9795057 (139)\ttotal: 4m 31s\tremaining: 3m 44s\n",
      "274:\tlearn: 0.9795322\ttest: 0.9794941\tbest: 0.9795057 (139)\ttotal: 4m 32s\tremaining: 3m 43s\n",
      "275:\tlearn: 0.9795332\ttest: 0.9794972\tbest: 0.9795057 (139)\ttotal: 4m 33s\tremaining: 3m 42s\n",
      "276:\tlearn: 0.9795343\ttest: 0.9794988\tbest: 0.9795057 (139)\ttotal: 4m 34s\tremaining: 3m 41s\n",
      "277:\tlearn: 0.9795354\ttest: 0.9795018\tbest: 0.9795057 (139)\ttotal: 4m 35s\tremaining: 3m 40s\n",
      "278:\tlearn: 0.9795349\ttest: 0.9794999\tbest: 0.9795057 (139)\ttotal: 4m 36s\tremaining: 3m 39s\n",
      "279:\tlearn: 0.9795368\ttest: 0.9794987\tbest: 0.9795057 (139)\ttotal: 4m 37s\tremaining: 3m 38s\n",
      "280:\tlearn: 0.9795372\ttest: 0.9794981\tbest: 0.9795057 (139)\ttotal: 4m 38s\tremaining: 3m 37s\n",
      "281:\tlearn: 0.9795372\ttest: 0.9794984\tbest: 0.9795057 (139)\ttotal: 4m 39s\tremaining: 3m 36s\n",
      "282:\tlearn: 0.9795374\ttest: 0.9794927\tbest: 0.9795057 (139)\ttotal: 4m 40s\tremaining: 3m 35s\n",
      "283:\tlearn: 0.9795406\ttest: 0.9794918\tbest: 0.9795057 (139)\ttotal: 4m 41s\tremaining: 3m 34s\n",
      "284:\tlearn: 0.9795404\ttest: 0.9794895\tbest: 0.9795057 (139)\ttotal: 4m 42s\tremaining: 3m 33s\n",
      "285:\tlearn: 0.9795417\ttest: 0.9794915\tbest: 0.9795057 (139)\ttotal: 4m 43s\tremaining: 3m 32s\n",
      "286:\tlearn: 0.9795422\ttest: 0.9794874\tbest: 0.9795057 (139)\ttotal: 4m 44s\tremaining: 3m 31s\n",
      "287:\tlearn: 0.9795433\ttest: 0.9794864\tbest: 0.9795057 (139)\ttotal: 4m 45s\tremaining: 3m 30s\n",
      "288:\tlearn: 0.9795432\ttest: 0.9794862\tbest: 0.9795057 (139)\ttotal: 4m 46s\tremaining: 3m 29s\n",
      "289:\tlearn: 0.9795482\ttest: 0.9794868\tbest: 0.9795057 (139)\ttotal: 4m 47s\tremaining: 3m 28s\n",
      "290:\tlearn: 0.9795517\ttest: 0.9794851\tbest: 0.9795057 (139)\ttotal: 4m 48s\tremaining: 3m 27s\n",
      "291:\tlearn: 0.9795518\ttest: 0.9794857\tbest: 0.9795057 (139)\ttotal: 4m 49s\tremaining: 3m 26s\n",
      "292:\tlearn: 0.9795537\ttest: 0.9794843\tbest: 0.9795057 (139)\ttotal: 4m 50s\tremaining: 3m 25s\n",
      "293:\tlearn: 0.9795545\ttest: 0.9794856\tbest: 0.9795057 (139)\ttotal: 4m 51s\tremaining: 3m 24s\n",
      "294:\tlearn: 0.9795550\ttest: 0.9794859\tbest: 0.9795057 (139)\ttotal: 4m 52s\tremaining: 3m 23s\n",
      "295:\tlearn: 0.9795576\ttest: 0.9794865\tbest: 0.9795057 (139)\ttotal: 4m 53s\tremaining: 3m 22s\n",
      "296:\tlearn: 0.9795582\ttest: 0.9794904\tbest: 0.9795057 (139)\ttotal: 4m 54s\tremaining: 3m 21s\n",
      "297:\tlearn: 0.9795582\ttest: 0.9794886\tbest: 0.9795057 (139)\ttotal: 4m 55s\tremaining: 3m 20s\n",
      "298:\tlearn: 0.9795585\ttest: 0.9794910\tbest: 0.9795057 (139)\ttotal: 4m 56s\tremaining: 3m 19s\n",
      "299:\tlearn: 0.9795579\ttest: 0.9794899\tbest: 0.9795057 (139)\ttotal: 4m 57s\tremaining: 3m 18s\n",
      "300:\tlearn: 0.9795579\ttest: 0.9794905\tbest: 0.9795057 (139)\ttotal: 4m 58s\tremaining: 3m 17s\n",
      "301:\tlearn: 0.9795597\ttest: 0.9794915\tbest: 0.9795057 (139)\ttotal: 4m 59s\tremaining: 3m 16s\n",
      "302:\tlearn: 0.9795601\ttest: 0.9794916\tbest: 0.9795057 (139)\ttotal: 5m\tremaining: 3m 15s\n",
      "303:\tlearn: 0.9795621\ttest: 0.9794914\tbest: 0.9795057 (139)\ttotal: 5m 1s\tremaining: 3m 14s\n",
      "304:\tlearn: 0.9795626\ttest: 0.9794944\tbest: 0.9795057 (139)\ttotal: 5m 2s\tremaining: 3m 13s\n",
      "305:\tlearn: 0.9795653\ttest: 0.9794919\tbest: 0.9795057 (139)\ttotal: 5m 3s\tremaining: 3m 12s\n",
      "306:\tlearn: 0.9795665\ttest: 0.9794920\tbest: 0.9795057 (139)\ttotal: 5m 4s\tremaining: 3m 11s\n",
      "307:\tlearn: 0.9795663\ttest: 0.9794947\tbest: 0.9795057 (139)\ttotal: 5m 5s\tremaining: 3m 10s\n",
      "308:\tlearn: 0.9795694\ttest: 0.9794966\tbest: 0.9795057 (139)\ttotal: 5m 6s\tremaining: 3m 9s\n",
      "309:\tlearn: 0.9795722\ttest: 0.9794957\tbest: 0.9795057 (139)\ttotal: 5m 7s\tremaining: 3m 8s\n",
      "310:\tlearn: 0.9795732\ttest: 0.9794941\tbest: 0.9795057 (139)\ttotal: 5m 8s\tremaining: 3m 7s\n",
      "311:\tlearn: 0.9795774\ttest: 0.9794929\tbest: 0.9795057 (139)\ttotal: 5m 9s\tremaining: 3m 6s\n",
      "312:\tlearn: 0.9795794\ttest: 0.9794984\tbest: 0.9795057 (139)\ttotal: 5m 10s\tremaining: 3m 5s\n",
      "313:\tlearn: 0.9795794\ttest: 0.9794988\tbest: 0.9795057 (139)\ttotal: 5m 11s\tremaining: 3m 4s\n",
      "314:\tlearn: 0.9795791\ttest: 0.9794983\tbest: 0.9795057 (139)\ttotal: 5m 12s\tremaining: 3m 3s\n",
      "315:\tlearn: 0.9795794\ttest: 0.9794976\tbest: 0.9795057 (139)\ttotal: 5m 13s\tremaining: 3m 2s\n",
      "316:\tlearn: 0.9795797\ttest: 0.9794983\tbest: 0.9795057 (139)\ttotal: 5m 14s\tremaining: 3m 1s\n",
      "317:\tlearn: 0.9795803\ttest: 0.9794977\tbest: 0.9795057 (139)\ttotal: 5m 15s\tremaining: 3m\n",
      "318:\tlearn: 0.9795813\ttest: 0.9794988\tbest: 0.9795057 (139)\ttotal: 5m 16s\tremaining: 2m 59s\n",
      "319:\tlearn: 0.9795821\ttest: 0.9794983\tbest: 0.9795057 (139)\ttotal: 5m 17s\tremaining: 2m 58s\n",
      "320:\tlearn: 0.9795827\ttest: 0.9794969\tbest: 0.9795057 (139)\ttotal: 5m 18s\tremaining: 2m 57s\n",
      "321:\tlearn: 0.9795827\ttest: 0.9794971\tbest: 0.9795057 (139)\ttotal: 5m 19s\tremaining: 2m 56s\n",
      "322:\tlearn: 0.9795827\ttest: 0.9794976\tbest: 0.9795057 (139)\ttotal: 5m 20s\tremaining: 2m 55s\n",
      "323:\tlearn: 0.9795830\ttest: 0.9794998\tbest: 0.9795057 (139)\ttotal: 5m 21s\tremaining: 2m 54s\n",
      "324:\tlearn: 0.9795827\ttest: 0.9794978\tbest: 0.9795057 (139)\ttotal: 5m 22s\tremaining: 2m 53s\n",
      "325:\tlearn: 0.9795828\ttest: 0.9794984\tbest: 0.9795057 (139)\ttotal: 5m 23s\tremaining: 2m 52s\n",
      "326:\tlearn: 0.9795836\ttest: 0.9794983\tbest: 0.9795057 (139)\ttotal: 5m 24s\tremaining: 2m 51s\n",
      "327:\tlearn: 0.9795838\ttest: 0.9794987\tbest: 0.9795057 (139)\ttotal: 5m 25s\tremaining: 2m 50s\n",
      "328:\tlearn: 0.9795846\ttest: 0.9794981\tbest: 0.9795057 (139)\ttotal: 5m 26s\tremaining: 2m 49s\n",
      "329:\tlearn: 0.9795851\ttest: 0.9794976\tbest: 0.9795057 (139)\ttotal: 5m 27s\tremaining: 2m 48s\n",
      "330:\tlearn: 0.9795852\ttest: 0.9794991\tbest: 0.9795057 (139)\ttotal: 5m 28s\tremaining: 2m 47s\n",
      "331:\tlearn: 0.9795860\ttest: 0.9794992\tbest: 0.9795057 (139)\ttotal: 5m 29s\tremaining: 2m 46s\n",
      "332:\tlearn: 0.9795879\ttest: 0.9794979\tbest: 0.9795057 (139)\ttotal: 5m 30s\tremaining: 2m 45s\n",
      "333:\tlearn: 0.9795896\ttest: 0.9794969\tbest: 0.9795057 (139)\ttotal: 5m 31s\tremaining: 2m 44s\n",
      "334:\tlearn: 0.9795895\ttest: 0.9794967\tbest: 0.9795057 (139)\ttotal: 5m 32s\tremaining: 2m 43s\n",
      "335:\tlearn: 0.9795905\ttest: 0.9794960\tbest: 0.9795057 (139)\ttotal: 5m 33s\tremaining: 2m 42s\n",
      "336:\tlearn: 0.9795905\ttest: 0.9794954\tbest: 0.9795057 (139)\ttotal: 5m 34s\tremaining: 2m 41s\n",
      "337:\tlearn: 0.9795912\ttest: 0.9794950\tbest: 0.9795057 (139)\ttotal: 5m 35s\tremaining: 2m 40s\n",
      "338:\tlearn: 0.9795913\ttest: 0.9794949\tbest: 0.9795057 (139)\ttotal: 5m 36s\tremaining: 2m 39s\n",
      "339:\tlearn: 0.9795908\ttest: 0.9794939\tbest: 0.9795057 (139)\ttotal: 5m 37s\tremaining: 2m 38s\n",
      "340:\tlearn: 0.9795914\ttest: 0.9794940\tbest: 0.9795057 (139)\ttotal: 5m 38s\tremaining: 2m 37s\n",
      "341:\tlearn: 0.9795921\ttest: 0.9794945\tbest: 0.9795057 (139)\ttotal: 5m 39s\tremaining: 2m 36s\n",
      "342:\tlearn: 0.9795921\ttest: 0.9794950\tbest: 0.9795057 (139)\ttotal: 5m 40s\tremaining: 2m 35s\n",
      "343:\tlearn: 0.9795921\ttest: 0.9794942\tbest: 0.9795057 (139)\ttotal: 5m 41s\tremaining: 2m 34s\n",
      "344:\tlearn: 0.9795933\ttest: 0.9794977\tbest: 0.9795057 (139)\ttotal: 5m 42s\tremaining: 2m 33s\n",
      "345:\tlearn: 0.9795935\ttest: 0.9794971\tbest: 0.9795057 (139)\ttotal: 5m 43s\tremaining: 2m 32s\n",
      "346:\tlearn: 0.9795936\ttest: 0.9794952\tbest: 0.9795057 (139)\ttotal: 5m 44s\tremaining: 2m 31s\n",
      "347:\tlearn: 0.9795943\ttest: 0.9794963\tbest: 0.9795057 (139)\ttotal: 5m 45s\tremaining: 2m 30s\n",
      "348:\tlearn: 0.9795950\ttest: 0.9794975\tbest: 0.9795057 (139)\ttotal: 5m 46s\tremaining: 2m 29s\n",
      "349:\tlearn: 0.9795952\ttest: 0.9794973\tbest: 0.9795057 (139)\ttotal: 5m 47s\tremaining: 2m 28s\n",
      "350:\tlearn: 0.9795962\ttest: 0.9794947\tbest: 0.9795057 (139)\ttotal: 5m 48s\tremaining: 2m 27s\n",
      "351:\tlearn: 0.9795961\ttest: 0.9794951\tbest: 0.9795057 (139)\ttotal: 5m 49s\tremaining: 2m 26s\n",
      "352:\tlearn: 0.9795964\ttest: 0.9794955\tbest: 0.9795057 (139)\ttotal: 5m 50s\tremaining: 2m 25s\n",
      "353:\tlearn: 0.9795964\ttest: 0.9794956\tbest: 0.9795057 (139)\ttotal: 5m 51s\tremaining: 2m 24s\n",
      "354:\tlearn: 0.9795975\ttest: 0.9794955\tbest: 0.9795057 (139)\ttotal: 5m 52s\tremaining: 2m 23s\n",
      "355:\tlearn: 0.9795975\ttest: 0.9794946\tbest: 0.9795057 (139)\ttotal: 5m 53s\tremaining: 2m 22s\n",
      "356:\tlearn: 0.9795980\ttest: 0.9794952\tbest: 0.9795057 (139)\ttotal: 5m 54s\tremaining: 2m 21s\n",
      "357:\tlearn: 0.9795976\ttest: 0.9794966\tbest: 0.9795057 (139)\ttotal: 5m 55s\tremaining: 2m 20s\n",
      "358:\tlearn: 0.9795985\ttest: 0.9794969\tbest: 0.9795057 (139)\ttotal: 5m 56s\tremaining: 2m 19s\n",
      "359:\tlearn: 0.9795990\ttest: 0.9794961\tbest: 0.9795057 (139)\ttotal: 5m 57s\tremaining: 2m 18s\n",
      "360:\tlearn: 0.9795986\ttest: 0.9794959\tbest: 0.9795057 (139)\ttotal: 5m 58s\tremaining: 2m 17s\n",
      "361:\tlearn: 0.9795993\ttest: 0.9794969\tbest: 0.9795057 (139)\ttotal: 5m 59s\tremaining: 2m 16s\n",
      "362:\tlearn: 0.9795998\ttest: 0.9794952\tbest: 0.9795057 (139)\ttotal: 6m\tremaining: 2m 15s\n"
     ]
    },
    {
     "name": "stdout",
     "output_type": "stream",
     "text": [
      "363:\tlearn: 0.9796000\ttest: 0.9794952\tbest: 0.9795057 (139)\ttotal: 6m 1s\tremaining: 2m 14s\n",
      "364:\tlearn: 0.9796003\ttest: 0.9794942\tbest: 0.9795057 (139)\ttotal: 6m 2s\tremaining: 2m 13s\n",
      "365:\tlearn: 0.9796023\ttest: 0.9794976\tbest: 0.9795057 (139)\ttotal: 6m 3s\tremaining: 2m 13s\n",
      "366:\tlearn: 0.9796055\ttest: 0.9794932\tbest: 0.9795057 (139)\ttotal: 6m 4s\tremaining: 2m 12s\n",
      "367:\tlearn: 0.9796057\ttest: 0.9794931\tbest: 0.9795057 (139)\ttotal: 6m 5s\tremaining: 2m 11s\n",
      "368:\tlearn: 0.9796061\ttest: 0.9794938\tbest: 0.9795057 (139)\ttotal: 6m 6s\tremaining: 2m 10s\n",
      "369:\tlearn: 0.9796064\ttest: 0.9794931\tbest: 0.9795057 (139)\ttotal: 6m 7s\tremaining: 2m 9s\n",
      "370:\tlearn: 0.9796064\ttest: 0.9794920\tbest: 0.9795057 (139)\ttotal: 6m 8s\tremaining: 2m 8s\n",
      "371:\tlearn: 0.9796067\ttest: 0.9794894\tbest: 0.9795057 (139)\ttotal: 6m 9s\tremaining: 2m 7s\n",
      "372:\tlearn: 0.9796075\ttest: 0.9794896\tbest: 0.9795057 (139)\ttotal: 6m 10s\tremaining: 2m 6s\n",
      "373:\tlearn: 0.9796095\ttest: 0.9794882\tbest: 0.9795057 (139)\ttotal: 6m 11s\tremaining: 2m 5s\n",
      "374:\tlearn: 0.9796096\ttest: 0.9794872\tbest: 0.9795057 (139)\ttotal: 6m 12s\tremaining: 2m 4s\n",
      "375:\tlearn: 0.9796101\ttest: 0.9794871\tbest: 0.9795057 (139)\ttotal: 6m 13s\tremaining: 2m 3s\n",
      "376:\tlearn: 0.9796102\ttest: 0.9794866\tbest: 0.9795057 (139)\ttotal: 6m 14s\tremaining: 2m 2s\n",
      "377:\tlearn: 0.9796111\ttest: 0.9794911\tbest: 0.9795057 (139)\ttotal: 6m 15s\tremaining: 2m 1s\n",
      "378:\tlearn: 0.9796103\ttest: 0.9794918\tbest: 0.9795057 (139)\ttotal: 6m 16s\tremaining: 2m\n",
      "379:\tlearn: 0.9796120\ttest: 0.9794897\tbest: 0.9795057 (139)\ttotal: 6m 17s\tremaining: 1m 59s\n",
      "380:\tlearn: 0.9796135\ttest: 0.9794898\tbest: 0.9795057 (139)\ttotal: 6m 18s\tremaining: 1m 58s\n",
      "381:\tlearn: 0.9796135\ttest: 0.9794900\tbest: 0.9795057 (139)\ttotal: 6m 19s\tremaining: 1m 57s\n",
      "382:\tlearn: 0.9796135\ttest: 0.9794888\tbest: 0.9795057 (139)\ttotal: 6m 20s\tremaining: 1m 56s\n",
      "383:\tlearn: 0.9796141\ttest: 0.9794899\tbest: 0.9795057 (139)\ttotal: 6m 21s\tremaining: 1m 55s\n",
      "384:\tlearn: 0.9796140\ttest: 0.9794911\tbest: 0.9795057 (139)\ttotal: 6m 22s\tremaining: 1m 54s\n",
      "385:\tlearn: 0.9796153\ttest: 0.9794890\tbest: 0.9795057 (139)\ttotal: 6m 23s\tremaining: 1m 53s\n",
      "386:\tlearn: 0.9796156\ttest: 0.9794891\tbest: 0.9795057 (139)\ttotal: 6m 24s\tremaining: 1m 52s\n",
      "387:\tlearn: 0.9796162\ttest: 0.9794879\tbest: 0.9795057 (139)\ttotal: 6m 25s\tremaining: 1m 51s\n",
      "388:\tlearn: 0.9796175\ttest: 0.9794865\tbest: 0.9795057 (139)\ttotal: 6m 26s\tremaining: 1m 50s\n",
      "389:\tlearn: 0.9796171\ttest: 0.9794880\tbest: 0.9795057 (139)\ttotal: 6m 27s\tremaining: 1m 49s\n",
      "390:\tlearn: 0.9796170\ttest: 0.9794866\tbest: 0.9795057 (139)\ttotal: 6m 28s\tremaining: 1m 48s\n",
      "391:\tlearn: 0.9796175\ttest: 0.9794867\tbest: 0.9795057 (139)\ttotal: 6m 29s\tremaining: 1m 47s\n",
      "392:\tlearn: 0.9796176\ttest: 0.9794872\tbest: 0.9795057 (139)\ttotal: 6m 30s\tremaining: 1m 46s\n",
      "393:\tlearn: 0.9796177\ttest: 0.9794871\tbest: 0.9795057 (139)\ttotal: 6m 31s\tremaining: 1m 45s\n",
      "394:\tlearn: 0.9796178\ttest: 0.9794873\tbest: 0.9795057 (139)\ttotal: 6m 32s\tremaining: 1m 44s\n",
      "395:\tlearn: 0.9796181\ttest: 0.9794871\tbest: 0.9795057 (139)\ttotal: 6m 33s\tremaining: 1m 43s\n",
      "396:\tlearn: 0.9796176\ttest: 0.9794874\tbest: 0.9795057 (139)\ttotal: 6m 34s\tremaining: 1m 42s\n",
      "397:\tlearn: 0.9796194\ttest: 0.9794870\tbest: 0.9795057 (139)\ttotal: 6m 35s\tremaining: 1m 41s\n",
      "398:\tlearn: 0.9796200\ttest: 0.9794865\tbest: 0.9795057 (139)\ttotal: 6m 36s\tremaining: 1m 40s\n",
      "399:\tlearn: 0.9796203\ttest: 0.9794868\tbest: 0.9795057 (139)\ttotal: 6m 37s\tremaining: 1m 39s\n",
      "400:\tlearn: 0.9796208\ttest: 0.9794866\tbest: 0.9795057 (139)\ttotal: 6m 38s\tremaining: 1m 38s\n",
      "401:\tlearn: 0.9796210\ttest: 0.9794860\tbest: 0.9795057 (139)\ttotal: 6m 39s\tremaining: 1m 37s\n",
      "402:\tlearn: 0.9796213\ttest: 0.9794866\tbest: 0.9795057 (139)\ttotal: 6m 40s\tremaining: 1m 36s\n",
      "403:\tlearn: 0.9796215\ttest: 0.9794872\tbest: 0.9795057 (139)\ttotal: 6m 41s\tremaining: 1m 35s\n",
      "404:\tlearn: 0.9796225\ttest: 0.9794902\tbest: 0.9795057 (139)\ttotal: 6m 42s\tremaining: 1m 34s\n",
      "405:\tlearn: 0.9796226\ttest: 0.9794898\tbest: 0.9795057 (139)\ttotal: 6m 43s\tremaining: 1m 33s\n",
      "406:\tlearn: 0.9796227\ttest: 0.9794891\tbest: 0.9795057 (139)\ttotal: 6m 44s\tremaining: 1m 32s\n",
      "407:\tlearn: 0.9796221\ttest: 0.9794877\tbest: 0.9795057 (139)\ttotal: 6m 45s\tremaining: 1m 31s\n",
      "408:\tlearn: 0.9796220\ttest: 0.9794901\tbest: 0.9795057 (139)\ttotal: 6m 46s\tremaining: 1m 30s\n",
      "409:\tlearn: 0.9796222\ttest: 0.9794901\tbest: 0.9795057 (139)\ttotal: 6m 47s\tremaining: 1m 29s\n",
      "410:\tlearn: 0.9796221\ttest: 0.9794908\tbest: 0.9795057 (139)\ttotal: 6m 48s\tremaining: 1m 28s\n",
      "411:\tlearn: 0.9796221\ttest: 0.9794907\tbest: 0.9795057 (139)\ttotal: 6m 49s\tremaining: 1m 27s\n",
      "412:\tlearn: 0.9796229\ttest: 0.9794913\tbest: 0.9795057 (139)\ttotal: 6m 50s\tremaining: 1m 26s\n",
      "413:\tlearn: 0.9796233\ttest: 0.9794915\tbest: 0.9795057 (139)\ttotal: 6m 51s\tremaining: 1m 25s\n",
      "414:\tlearn: 0.9796235\ttest: 0.9794921\tbest: 0.9795057 (139)\ttotal: 6m 52s\tremaining: 1m 24s\n",
      "415:\tlearn: 0.9796256\ttest: 0.9794908\tbest: 0.9795057 (139)\ttotal: 6m 53s\tremaining: 1m 23s\n",
      "416:\tlearn: 0.9796258\ttest: 0.9794897\tbest: 0.9795057 (139)\ttotal: 6m 54s\tremaining: 1m 22s\n",
      "417:\tlearn: 0.9796261\ttest: 0.9794893\tbest: 0.9795057 (139)\ttotal: 6m 55s\tremaining: 1m 21s\n",
      "418:\tlearn: 0.9796276\ttest: 0.9794899\tbest: 0.9795057 (139)\ttotal: 6m 56s\tremaining: 1m 20s\n",
      "419:\tlearn: 0.9796277\ttest: 0.9794894\tbest: 0.9795057 (139)\ttotal: 6m 58s\tremaining: 1m 19s\n",
      "420:\tlearn: 0.9796282\ttest: 0.9794894\tbest: 0.9795057 (139)\ttotal: 6m 59s\tremaining: 1m 18s\n",
      "421:\tlearn: 0.9796295\ttest: 0.9794899\tbest: 0.9795057 (139)\ttotal: 7m\tremaining: 1m 17s\n",
      "422:\tlearn: 0.9796284\ttest: 0.9794882\tbest: 0.9795057 (139)\ttotal: 7m 1s\tremaining: 1m 16s\n",
      "423:\tlearn: 0.9796298\ttest: 0.9794880\tbest: 0.9795057 (139)\ttotal: 7m 2s\tremaining: 1m 15s\n",
      "424:\tlearn: 0.9796308\ttest: 0.9794880\tbest: 0.9795057 (139)\ttotal: 7m 2s\tremaining: 1m 14s\n",
      "425:\tlearn: 0.9796311\ttest: 0.9794874\tbest: 0.9795057 (139)\ttotal: 7m 3s\tremaining: 1m 13s\n",
      "426:\tlearn: 0.9796315\ttest: 0.9794877\tbest: 0.9795057 (139)\ttotal: 7m 4s\tremaining: 1m 12s\n",
      "427:\tlearn: 0.9796323\ttest: 0.9794886\tbest: 0.9795057 (139)\ttotal: 7m 6s\tremaining: 1m 11s\n"
     ]
    }
   ],
   "source": [
    "from catboost import CatBoostClassifier\n",
    "model = CatBoostClassifier(random_seed=77, iterations=500, verbose= True, use_best_model=True, eval_metric='AUC')\n",
    "model.fit(X_train, y_train, eval_set=(X_test, y_test))\n",
    "preds_cb = model.predict_proba(test)[:,1]"
   ]
  },
  {
   "cell_type": "code",
   "execution_count": null,
   "metadata": {
    "collapsed": true
   },
   "outputs": [],
   "source": []
  },
  {
   "cell_type": "code",
   "execution_count": 76,
   "metadata": {},
   "outputs": [],
   "source": [
    "preds = (preds4+preds5+preds6+preds_cb)/4"
   ]
  },
  {
   "cell_type": "code",
   "execution_count": 77,
   "metadata": {
    "collapsed": true
   },
   "outputs": [],
   "source": [
    "sub = pd.DataFrame()\n",
    "sub = pd.concat([test_ids, pd.Series(preds)], axis=1)\n",
    "sub = sub.rename(columns={0:'is_click'})\n",
    "sub[['is_click']] = sub[['is_click']].apply(pd.to_numeric)\n",
    "sub.to_csv('a_submission.csv', index=False)"
   ]
  },
  {
   "cell_type": "code",
   "execution_count": null,
   "metadata": {
    "collapsed": true
   },
   "outputs": [],
   "source": []
  },
  {
   "cell_type": "code",
   "execution_count": null,
   "metadata": {
    "collapsed": true
   },
   "outputs": [],
   "source": []
  },
  {
   "cell_type": "code",
   "execution_count": null,
   "metadata": {
    "collapsed": true
   },
   "outputs": [],
   "source": []
  },
  {
   "cell_type": "code",
   "execution_count": 47,
   "metadata": {},
   "outputs": [
    {
     "name": "stdout",
     "output_type": "stream",
     "text": [
      "LGBMClassifier has roc_auc_score: 0.5\n"
     ]
    }
   ],
   "source": [
    "# from xgboost import XGBClassifier\n",
    "# from sklearn.ensemble import GradientBoostingClassifier\n",
    "# from lightgbm import LGBMClassifier\n",
    "# from sklearn.neural_network import MLPClassifier\n",
    "# from sklearn.ensemble import RandomForestClassifier, AdaBoostClassifier, ExtraTreesClassifier\n",
    "# from sklearn.neighbors import KNeighborsClassifier\n",
    "# from sklearn.naive_bayes import GaussianNB\n",
    "# from sklearn.tree import DecisionTreeClassifier\n",
    "# from sklearn.svm import SVC\n",
    "# from sklearn.neighbors import KNeighborsClassifier\n",
    "# from sklearn.linear_model import LogisticRegression\n",
    "\n",
    "# clf_C = LGBMClassifier(random_state=77,n_jobs=-1, verbose=10, learning_rate=0.01, n_estimators=100, max_depth=50)\n",
    "\n",
    "# clf_C.fit(X_train, y_train)\n",
    "\n",
    "# preds3 = clf_C.predict(X_test)\n",
    "\n",
    "# print('{} has roc_auc_score: {}'.format(clf_C.__class__.__name__, roc_auc_score(y_test, preds3)))"
   ]
  },
  {
   "cell_type": "code",
   "execution_count": null,
   "metadata": {
    "collapsed": true
   },
   "outputs": [],
   "source": []
  },
  {
   "cell_type": "code",
   "execution_count": null,
   "metadata": {
    "collapsed": true
   },
   "outputs": [],
   "source": []
  },
  {
   "cell_type": "code",
   "execution_count": null,
   "metadata": {
    "collapsed": true
   },
   "outputs": [],
   "source": []
  },
  {
   "cell_type": "code",
   "execution_count": null,
   "metadata": {
    "collapsed": true
   },
   "outputs": [],
   "source": []
  },
  {
   "cell_type": "code",
   "execution_count": null,
   "metadata": {
    "collapsed": true
   },
   "outputs": [],
   "source": []
  },
  {
   "cell_type": "code",
   "execution_count": null,
   "metadata": {
    "collapsed": true
   },
   "outputs": [],
   "source": []
  },
  {
   "cell_type": "code",
   "execution_count": null,
   "metadata": {
    "collapsed": true
   },
   "outputs": [],
   "source": []
  },
  {
   "cell_type": "code",
   "execution_count": null,
   "metadata": {
    "collapsed": true
   },
   "outputs": [],
   "source": []
  },
  {
   "cell_type": "code",
   "execution_count": null,
   "metadata": {
    "collapsed": true
   },
   "outputs": [],
   "source": []
  },
  {
   "cell_type": "code",
   "execution_count": null,
   "metadata": {
    "collapsed": true
   },
   "outputs": [],
   "source": []
  },
  {
   "cell_type": "code",
   "execution_count": null,
   "metadata": {
    "collapsed": true
   },
   "outputs": [],
   "source": []
  },
  {
   "cell_type": "code",
   "execution_count": null,
   "metadata": {
    "collapsed": true
   },
   "outputs": [],
   "source": []
  },
  {
   "cell_type": "code",
   "execution_count": null,
   "metadata": {
    "collapsed": true
   },
   "outputs": [],
   "source": []
  },
  {
   "cell_type": "code",
   "execution_count": null,
   "metadata": {
    "collapsed": true
   },
   "outputs": [],
   "source": []
  }
 ],
 "metadata": {
  "kernelspec": {
   "display_name": "Python 3",
   "language": "python",
   "name": "python3"
  },
  "language_info": {
   "codemirror_mode": {
    "name": "ipython",
    "version": 3
   },
   "file_extension": ".py",
   "mimetype": "text/x-python",
   "name": "python",
   "nbconvert_exporter": "python",
   "pygments_lexer": "ipython3",
   "version": "3.6.3"
  }
 },
 "nbformat": 4,
 "nbformat_minor": 2
}

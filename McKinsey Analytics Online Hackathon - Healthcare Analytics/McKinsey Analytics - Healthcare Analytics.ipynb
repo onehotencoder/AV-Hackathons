{
 "cells": [
  {
   "cell_type": "code",
   "execution_count": 487,
   "metadata": {
    "collapsed": true
   },
   "outputs": [],
   "source": [
    "import numpy as np\n",
    "import pandas as pd\n",
    "import time\n",
    "import lightgbm as lgb\n",
    "import seaborn as sns\n",
    "import matplotlib.pyplot as plt"
   ]
  },
  {
   "cell_type": "code",
   "execution_count": 488,
   "metadata": {
    "collapsed": true
   },
   "outputs": [],
   "source": [
    "train_df = pd.read_csv(\"train.csv\")\n",
    "test_df = pd.read_csv(\"test.csv\")\n",
    "test_ids = test_df['id']"
   ]
  },
  {
   "cell_type": "code",
   "execution_count": 489,
   "metadata": {},
   "outputs": [
    {
     "data": {
      "text/plain": [
       "(43400, 12)"
      ]
     },
     "execution_count": 489,
     "metadata": {},
     "output_type": "execute_result"
    }
   ],
   "source": [
    "train_df.shape"
   ]
  },
  {
   "cell_type": "code",
   "execution_count": 490,
   "metadata": {},
   "outputs": [
    {
     "data": {
      "text/plain": [
       "(18601, 11)"
      ]
     },
     "execution_count": 490,
     "metadata": {},
     "output_type": "execute_result"
    }
   ],
   "source": [
    "test_df.shape"
   ]
  },
  {
   "cell_type": "code",
   "execution_count": 491,
   "metadata": {},
   "outputs": [
    {
     "data": {
      "text/plain": [
       "id                       0\n",
       "gender                   0\n",
       "age                      0\n",
       "hypertension             0\n",
       "heart_disease            0\n",
       "ever_married             0\n",
       "work_type                0\n",
       "Residence_type           0\n",
       "avg_glucose_level        0\n",
       "bmi                   1462\n",
       "smoking_status       13292\n",
       "stroke                   0\n",
       "dtype: int64"
      ]
     },
     "execution_count": 491,
     "metadata": {},
     "output_type": "execute_result"
    }
   ],
   "source": [
    "train_df.isnull().sum()"
   ]
  },
  {
   "cell_type": "code",
   "execution_count": 492,
   "metadata": {},
   "outputs": [
    {
     "data": {
      "text/plain": [
       "id                      0\n",
       "gender                  0\n",
       "age                     0\n",
       "hypertension            0\n",
       "heart_disease           0\n",
       "ever_married            0\n",
       "work_type               0\n",
       "Residence_type          0\n",
       "avg_glucose_level       0\n",
       "bmi                   591\n",
       "smoking_status       5751\n",
       "dtype: int64"
      ]
     },
     "execution_count": 492,
     "metadata": {},
     "output_type": "execute_result"
    }
   ],
   "source": [
    "test_df.isnull().sum()"
   ]
  },
  {
   "cell_type": "code",
   "execution_count": 493,
   "metadata": {},
   "outputs": [
    {
     "data": {
      "text/plain": [
       "Index(['id', 'gender', 'age', 'hypertension', 'heart_disease', 'ever_married',\n",
       "       'work_type', 'Residence_type', 'avg_glucose_level', 'bmi',\n",
       "       'smoking_status', 'stroke'],\n",
       "      dtype='object')"
      ]
     },
     "execution_count": 493,
     "metadata": {},
     "output_type": "execute_result"
    }
   ],
   "source": [
    "train_df.columns"
   ]
  },
  {
   "cell_type": "code",
   "execution_count": 494,
   "metadata": {},
   "outputs": [
    {
     "data": {
      "text/html": [
       "<div>\n",
       "<style scoped>\n",
       "    .dataframe tbody tr th:only-of-type {\n",
       "        vertical-align: middle;\n",
       "    }\n",
       "\n",
       "    .dataframe tbody tr th {\n",
       "        vertical-align: top;\n",
       "    }\n",
       "\n",
       "    .dataframe thead th {\n",
       "        text-align: right;\n",
       "    }\n",
       "</style>\n",
       "<table border=\"1\" class=\"dataframe\">\n",
       "  <thead>\n",
       "    <tr style=\"text-align: right;\">\n",
       "      <th></th>\n",
       "      <th>id</th>\n",
       "      <th>age</th>\n",
       "      <th>hypertension</th>\n",
       "      <th>heart_disease</th>\n",
       "      <th>avg_glucose_level</th>\n",
       "      <th>bmi</th>\n",
       "      <th>stroke</th>\n",
       "    </tr>\n",
       "  </thead>\n",
       "  <tbody>\n",
       "    <tr>\n",
       "      <th>count</th>\n",
       "      <td>43400.000000</td>\n",
       "      <td>43400.000000</td>\n",
       "      <td>43400.000000</td>\n",
       "      <td>43400.000000</td>\n",
       "      <td>43400.000000</td>\n",
       "      <td>41938.000000</td>\n",
       "      <td>43400.000000</td>\n",
       "    </tr>\n",
       "    <tr>\n",
       "      <th>mean</th>\n",
       "      <td>36326.142350</td>\n",
       "      <td>42.217894</td>\n",
       "      <td>0.093571</td>\n",
       "      <td>0.047512</td>\n",
       "      <td>104.482750</td>\n",
       "      <td>28.605038</td>\n",
       "      <td>0.018041</td>\n",
       "    </tr>\n",
       "    <tr>\n",
       "      <th>std</th>\n",
       "      <td>21072.134879</td>\n",
       "      <td>22.519649</td>\n",
       "      <td>0.291235</td>\n",
       "      <td>0.212733</td>\n",
       "      <td>43.111751</td>\n",
       "      <td>7.770020</td>\n",
       "      <td>0.133103</td>\n",
       "    </tr>\n",
       "    <tr>\n",
       "      <th>min</th>\n",
       "      <td>1.000000</td>\n",
       "      <td>0.080000</td>\n",
       "      <td>0.000000</td>\n",
       "      <td>0.000000</td>\n",
       "      <td>55.000000</td>\n",
       "      <td>10.100000</td>\n",
       "      <td>0.000000</td>\n",
       "    </tr>\n",
       "    <tr>\n",
       "      <th>25%</th>\n",
       "      <td>18038.500000</td>\n",
       "      <td>24.000000</td>\n",
       "      <td>0.000000</td>\n",
       "      <td>0.000000</td>\n",
       "      <td>77.540000</td>\n",
       "      <td>23.200000</td>\n",
       "      <td>0.000000</td>\n",
       "    </tr>\n",
       "    <tr>\n",
       "      <th>50%</th>\n",
       "      <td>36351.500000</td>\n",
       "      <td>44.000000</td>\n",
       "      <td>0.000000</td>\n",
       "      <td>0.000000</td>\n",
       "      <td>91.580000</td>\n",
       "      <td>27.700000</td>\n",
       "      <td>0.000000</td>\n",
       "    </tr>\n",
       "    <tr>\n",
       "      <th>75%</th>\n",
       "      <td>54514.250000</td>\n",
       "      <td>60.000000</td>\n",
       "      <td>0.000000</td>\n",
       "      <td>0.000000</td>\n",
       "      <td>112.070000</td>\n",
       "      <td>32.900000</td>\n",
       "      <td>0.000000</td>\n",
       "    </tr>\n",
       "    <tr>\n",
       "      <th>max</th>\n",
       "      <td>72943.000000</td>\n",
       "      <td>82.000000</td>\n",
       "      <td>1.000000</td>\n",
       "      <td>1.000000</td>\n",
       "      <td>291.050000</td>\n",
       "      <td>97.600000</td>\n",
       "      <td>1.000000</td>\n",
       "    </tr>\n",
       "  </tbody>\n",
       "</table>\n",
       "</div>"
      ],
      "text/plain": [
       "                 id           age  hypertension  heart_disease  \\\n",
       "count  43400.000000  43400.000000  43400.000000   43400.000000   \n",
       "mean   36326.142350     42.217894      0.093571       0.047512   \n",
       "std    21072.134879     22.519649      0.291235       0.212733   \n",
       "min        1.000000      0.080000      0.000000       0.000000   \n",
       "25%    18038.500000     24.000000      0.000000       0.000000   \n",
       "50%    36351.500000     44.000000      0.000000       0.000000   \n",
       "75%    54514.250000     60.000000      0.000000       0.000000   \n",
       "max    72943.000000     82.000000      1.000000       1.000000   \n",
       "\n",
       "       avg_glucose_level           bmi        stroke  \n",
       "count       43400.000000  41938.000000  43400.000000  \n",
       "mean          104.482750     28.605038      0.018041  \n",
       "std            43.111751      7.770020      0.133103  \n",
       "min            55.000000     10.100000      0.000000  \n",
       "25%            77.540000     23.200000      0.000000  \n",
       "50%            91.580000     27.700000      0.000000  \n",
       "75%           112.070000     32.900000      0.000000  \n",
       "max           291.050000     97.600000      1.000000  "
      ]
     },
     "execution_count": 494,
     "metadata": {},
     "output_type": "execute_result"
    }
   ],
   "source": [
    "train_df.describe()"
   ]
  },
  {
   "cell_type": "code",
   "execution_count": 495,
   "metadata": {},
   "outputs": [
    {
     "data": {
      "text/html": [
       "<div>\n",
       "<style scoped>\n",
       "    .dataframe tbody tr th:only-of-type {\n",
       "        vertical-align: middle;\n",
       "    }\n",
       "\n",
       "    .dataframe tbody tr th {\n",
       "        vertical-align: top;\n",
       "    }\n",
       "\n",
       "    .dataframe thead th {\n",
       "        text-align: right;\n",
       "    }\n",
       "</style>\n",
       "<table border=\"1\" class=\"dataframe\">\n",
       "  <thead>\n",
       "    <tr style=\"text-align: right;\">\n",
       "      <th></th>\n",
       "      <th>id</th>\n",
       "      <th>gender</th>\n",
       "      <th>age</th>\n",
       "      <th>hypertension</th>\n",
       "      <th>heart_disease</th>\n",
       "      <th>ever_married</th>\n",
       "      <th>work_type</th>\n",
       "      <th>Residence_type</th>\n",
       "      <th>avg_glucose_level</th>\n",
       "      <th>bmi</th>\n",
       "      <th>smoking_status</th>\n",
       "      <th>stroke</th>\n",
       "    </tr>\n",
       "  </thead>\n",
       "  <tbody>\n",
       "    <tr>\n",
       "      <th>0</th>\n",
       "      <td>30669</td>\n",
       "      <td>Male</td>\n",
       "      <td>3.0</td>\n",
       "      <td>0</td>\n",
       "      <td>0</td>\n",
       "      <td>No</td>\n",
       "      <td>children</td>\n",
       "      <td>Rural</td>\n",
       "      <td>95.12</td>\n",
       "      <td>18.0</td>\n",
       "      <td>NaN</td>\n",
       "      <td>0</td>\n",
       "    </tr>\n",
       "    <tr>\n",
       "      <th>1</th>\n",
       "      <td>30468</td>\n",
       "      <td>Male</td>\n",
       "      <td>58.0</td>\n",
       "      <td>1</td>\n",
       "      <td>0</td>\n",
       "      <td>Yes</td>\n",
       "      <td>Private</td>\n",
       "      <td>Urban</td>\n",
       "      <td>87.96</td>\n",
       "      <td>39.2</td>\n",
       "      <td>never smoked</td>\n",
       "      <td>0</td>\n",
       "    </tr>\n",
       "    <tr>\n",
       "      <th>2</th>\n",
       "      <td>16523</td>\n",
       "      <td>Female</td>\n",
       "      <td>8.0</td>\n",
       "      <td>0</td>\n",
       "      <td>0</td>\n",
       "      <td>No</td>\n",
       "      <td>Private</td>\n",
       "      <td>Urban</td>\n",
       "      <td>110.89</td>\n",
       "      <td>17.6</td>\n",
       "      <td>NaN</td>\n",
       "      <td>0</td>\n",
       "    </tr>\n",
       "    <tr>\n",
       "      <th>3</th>\n",
       "      <td>56543</td>\n",
       "      <td>Female</td>\n",
       "      <td>70.0</td>\n",
       "      <td>0</td>\n",
       "      <td>0</td>\n",
       "      <td>Yes</td>\n",
       "      <td>Private</td>\n",
       "      <td>Rural</td>\n",
       "      <td>69.04</td>\n",
       "      <td>35.9</td>\n",
       "      <td>formerly smoked</td>\n",
       "      <td>0</td>\n",
       "    </tr>\n",
       "    <tr>\n",
       "      <th>4</th>\n",
       "      <td>46136</td>\n",
       "      <td>Male</td>\n",
       "      <td>14.0</td>\n",
       "      <td>0</td>\n",
       "      <td>0</td>\n",
       "      <td>No</td>\n",
       "      <td>Never_worked</td>\n",
       "      <td>Rural</td>\n",
       "      <td>161.28</td>\n",
       "      <td>19.1</td>\n",
       "      <td>NaN</td>\n",
       "      <td>0</td>\n",
       "    </tr>\n",
       "    <tr>\n",
       "      <th>5</th>\n",
       "      <td>32257</td>\n",
       "      <td>Female</td>\n",
       "      <td>47.0</td>\n",
       "      <td>0</td>\n",
       "      <td>0</td>\n",
       "      <td>Yes</td>\n",
       "      <td>Private</td>\n",
       "      <td>Urban</td>\n",
       "      <td>210.95</td>\n",
       "      <td>50.1</td>\n",
       "      <td>NaN</td>\n",
       "      <td>0</td>\n",
       "    </tr>\n",
       "    <tr>\n",
       "      <th>6</th>\n",
       "      <td>52800</td>\n",
       "      <td>Female</td>\n",
       "      <td>52.0</td>\n",
       "      <td>0</td>\n",
       "      <td>0</td>\n",
       "      <td>Yes</td>\n",
       "      <td>Private</td>\n",
       "      <td>Urban</td>\n",
       "      <td>77.59</td>\n",
       "      <td>17.7</td>\n",
       "      <td>formerly smoked</td>\n",
       "      <td>0</td>\n",
       "    </tr>\n",
       "    <tr>\n",
       "      <th>7</th>\n",
       "      <td>41413</td>\n",
       "      <td>Female</td>\n",
       "      <td>75.0</td>\n",
       "      <td>0</td>\n",
       "      <td>1</td>\n",
       "      <td>Yes</td>\n",
       "      <td>Self-employed</td>\n",
       "      <td>Rural</td>\n",
       "      <td>243.53</td>\n",
       "      <td>27.0</td>\n",
       "      <td>never smoked</td>\n",
       "      <td>0</td>\n",
       "    </tr>\n",
       "    <tr>\n",
       "      <th>8</th>\n",
       "      <td>15266</td>\n",
       "      <td>Female</td>\n",
       "      <td>32.0</td>\n",
       "      <td>0</td>\n",
       "      <td>0</td>\n",
       "      <td>Yes</td>\n",
       "      <td>Private</td>\n",
       "      <td>Rural</td>\n",
       "      <td>77.67</td>\n",
       "      <td>32.3</td>\n",
       "      <td>smokes</td>\n",
       "      <td>0</td>\n",
       "    </tr>\n",
       "    <tr>\n",
       "      <th>9</th>\n",
       "      <td>28674</td>\n",
       "      <td>Female</td>\n",
       "      <td>74.0</td>\n",
       "      <td>1</td>\n",
       "      <td>0</td>\n",
       "      <td>Yes</td>\n",
       "      <td>Self-employed</td>\n",
       "      <td>Urban</td>\n",
       "      <td>205.84</td>\n",
       "      <td>54.6</td>\n",
       "      <td>never smoked</td>\n",
       "      <td>0</td>\n",
       "    </tr>\n",
       "    <tr>\n",
       "      <th>10</th>\n",
       "      <td>10460</td>\n",
       "      <td>Female</td>\n",
       "      <td>79.0</td>\n",
       "      <td>0</td>\n",
       "      <td>0</td>\n",
       "      <td>Yes</td>\n",
       "      <td>Govt_job</td>\n",
       "      <td>Urban</td>\n",
       "      <td>77.08</td>\n",
       "      <td>35.0</td>\n",
       "      <td>NaN</td>\n",
       "      <td>0</td>\n",
       "    </tr>\n",
       "    <tr>\n",
       "      <th>11</th>\n",
       "      <td>64908</td>\n",
       "      <td>Male</td>\n",
       "      <td>79.0</td>\n",
       "      <td>0</td>\n",
       "      <td>1</td>\n",
       "      <td>Yes</td>\n",
       "      <td>Private</td>\n",
       "      <td>Urban</td>\n",
       "      <td>57.08</td>\n",
       "      <td>22.0</td>\n",
       "      <td>formerly smoked</td>\n",
       "      <td>0</td>\n",
       "    </tr>\n",
       "    <tr>\n",
       "      <th>12</th>\n",
       "      <td>63884</td>\n",
       "      <td>Female</td>\n",
       "      <td>37.0</td>\n",
       "      <td>0</td>\n",
       "      <td>0</td>\n",
       "      <td>Yes</td>\n",
       "      <td>Private</td>\n",
       "      <td>Rural</td>\n",
       "      <td>162.96</td>\n",
       "      <td>39.4</td>\n",
       "      <td>never smoked</td>\n",
       "      <td>0</td>\n",
       "    </tr>\n",
       "    <tr>\n",
       "      <th>13</th>\n",
       "      <td>37893</td>\n",
       "      <td>Female</td>\n",
       "      <td>37.0</td>\n",
       "      <td>0</td>\n",
       "      <td>0</td>\n",
       "      <td>Yes</td>\n",
       "      <td>Private</td>\n",
       "      <td>Rural</td>\n",
       "      <td>73.50</td>\n",
       "      <td>26.1</td>\n",
       "      <td>formerly smoked</td>\n",
       "      <td>0</td>\n",
       "    </tr>\n",
       "    <tr>\n",
       "      <th>14</th>\n",
       "      <td>67855</td>\n",
       "      <td>Female</td>\n",
       "      <td>40.0</td>\n",
       "      <td>0</td>\n",
       "      <td>0</td>\n",
       "      <td>Yes</td>\n",
       "      <td>Private</td>\n",
       "      <td>Rural</td>\n",
       "      <td>95.04</td>\n",
       "      <td>42.4</td>\n",
       "      <td>never smoked</td>\n",
       "      <td>0</td>\n",
       "    </tr>\n",
       "    <tr>\n",
       "      <th>15</th>\n",
       "      <td>25774</td>\n",
       "      <td>Male</td>\n",
       "      <td>35.0</td>\n",
       "      <td>0</td>\n",
       "      <td>0</td>\n",
       "      <td>No</td>\n",
       "      <td>Private</td>\n",
       "      <td>Rural</td>\n",
       "      <td>85.37</td>\n",
       "      <td>33.0</td>\n",
       "      <td>never smoked</td>\n",
       "      <td>0</td>\n",
       "    </tr>\n",
       "    <tr>\n",
       "      <th>16</th>\n",
       "      <td>19584</td>\n",
       "      <td>Female</td>\n",
       "      <td>20.0</td>\n",
       "      <td>0</td>\n",
       "      <td>0</td>\n",
       "      <td>No</td>\n",
       "      <td>Private</td>\n",
       "      <td>Urban</td>\n",
       "      <td>84.62</td>\n",
       "      <td>19.7</td>\n",
       "      <td>smokes</td>\n",
       "      <td>0</td>\n",
       "    </tr>\n",
       "    <tr>\n",
       "      <th>17</th>\n",
       "      <td>24447</td>\n",
       "      <td>Female</td>\n",
       "      <td>42.0</td>\n",
       "      <td>0</td>\n",
       "      <td>0</td>\n",
       "      <td>Yes</td>\n",
       "      <td>Private</td>\n",
       "      <td>Rural</td>\n",
       "      <td>82.67</td>\n",
       "      <td>22.5</td>\n",
       "      <td>never smoked</td>\n",
       "      <td>0</td>\n",
       "    </tr>\n",
       "    <tr>\n",
       "      <th>18</th>\n",
       "      <td>49589</td>\n",
       "      <td>Female</td>\n",
       "      <td>44.0</td>\n",
       "      <td>0</td>\n",
       "      <td>0</td>\n",
       "      <td>Yes</td>\n",
       "      <td>Govt_job</td>\n",
       "      <td>Urban</td>\n",
       "      <td>57.33</td>\n",
       "      <td>24.6</td>\n",
       "      <td>smokes</td>\n",
       "      <td>0</td>\n",
       "    </tr>\n",
       "    <tr>\n",
       "      <th>19</th>\n",
       "      <td>17986</td>\n",
       "      <td>Female</td>\n",
       "      <td>79.0</td>\n",
       "      <td>0</td>\n",
       "      <td>1</td>\n",
       "      <td>Yes</td>\n",
       "      <td>Self-employed</td>\n",
       "      <td>Urban</td>\n",
       "      <td>67.84</td>\n",
       "      <td>25.2</td>\n",
       "      <td>smokes</td>\n",
       "      <td>0</td>\n",
       "    </tr>\n",
       "  </tbody>\n",
       "</table>\n",
       "</div>"
      ],
      "text/plain": [
       "       id  gender   age  hypertension  heart_disease ever_married  \\\n",
       "0   30669    Male   3.0             0              0           No   \n",
       "1   30468    Male  58.0             1              0          Yes   \n",
       "2   16523  Female   8.0             0              0           No   \n",
       "3   56543  Female  70.0             0              0          Yes   \n",
       "4   46136    Male  14.0             0              0           No   \n",
       "5   32257  Female  47.0             0              0          Yes   \n",
       "6   52800  Female  52.0             0              0          Yes   \n",
       "7   41413  Female  75.0             0              1          Yes   \n",
       "8   15266  Female  32.0             0              0          Yes   \n",
       "9   28674  Female  74.0             1              0          Yes   \n",
       "10  10460  Female  79.0             0              0          Yes   \n",
       "11  64908    Male  79.0             0              1          Yes   \n",
       "12  63884  Female  37.0             0              0          Yes   \n",
       "13  37893  Female  37.0             0              0          Yes   \n",
       "14  67855  Female  40.0             0              0          Yes   \n",
       "15  25774    Male  35.0             0              0           No   \n",
       "16  19584  Female  20.0             0              0           No   \n",
       "17  24447  Female  42.0             0              0          Yes   \n",
       "18  49589  Female  44.0             0              0          Yes   \n",
       "19  17986  Female  79.0             0              1          Yes   \n",
       "\n",
       "        work_type Residence_type  avg_glucose_level   bmi   smoking_status  \\\n",
       "0        children          Rural              95.12  18.0              NaN   \n",
       "1         Private          Urban              87.96  39.2     never smoked   \n",
       "2         Private          Urban             110.89  17.6              NaN   \n",
       "3         Private          Rural              69.04  35.9  formerly smoked   \n",
       "4    Never_worked          Rural             161.28  19.1              NaN   \n",
       "5         Private          Urban             210.95  50.1              NaN   \n",
       "6         Private          Urban              77.59  17.7  formerly smoked   \n",
       "7   Self-employed          Rural             243.53  27.0     never smoked   \n",
       "8         Private          Rural              77.67  32.3           smokes   \n",
       "9   Self-employed          Urban             205.84  54.6     never smoked   \n",
       "10       Govt_job          Urban              77.08  35.0              NaN   \n",
       "11        Private          Urban              57.08  22.0  formerly smoked   \n",
       "12        Private          Rural             162.96  39.4     never smoked   \n",
       "13        Private          Rural              73.50  26.1  formerly smoked   \n",
       "14        Private          Rural              95.04  42.4     never smoked   \n",
       "15        Private          Rural              85.37  33.0     never smoked   \n",
       "16        Private          Urban              84.62  19.7           smokes   \n",
       "17        Private          Rural              82.67  22.5     never smoked   \n",
       "18       Govt_job          Urban              57.33  24.6           smokes   \n",
       "19  Self-employed          Urban              67.84  25.2           smokes   \n",
       "\n",
       "    stroke  \n",
       "0        0  \n",
       "1        0  \n",
       "2        0  \n",
       "3        0  \n",
       "4        0  \n",
       "5        0  \n",
       "6        0  \n",
       "7        0  \n",
       "8        0  \n",
       "9        0  \n",
       "10       0  \n",
       "11       0  \n",
       "12       0  \n",
       "13       0  \n",
       "14       0  \n",
       "15       0  \n",
       "16       0  \n",
       "17       0  \n",
       "18       0  \n",
       "19       0  "
      ]
     },
     "execution_count": 495,
     "metadata": {},
     "output_type": "execute_result"
    }
   ],
   "source": [
    "train_df.head(20)"
   ]
  },
  {
   "cell_type": "code",
   "execution_count": 496,
   "metadata": {},
   "outputs": [
    {
     "data": {
      "text/html": [
       "<div>\n",
       "<style scoped>\n",
       "    .dataframe tbody tr th:only-of-type {\n",
       "        vertical-align: middle;\n",
       "    }\n",
       "\n",
       "    .dataframe tbody tr th {\n",
       "        vertical-align: top;\n",
       "    }\n",
       "\n",
       "    .dataframe thead th {\n",
       "        text-align: right;\n",
       "    }\n",
       "</style>\n",
       "<table border=\"1\" class=\"dataframe\">\n",
       "  <thead>\n",
       "    <tr style=\"text-align: right;\">\n",
       "      <th></th>\n",
       "      <th>id</th>\n",
       "      <th>gender</th>\n",
       "      <th>age</th>\n",
       "      <th>hypertension</th>\n",
       "      <th>heart_disease</th>\n",
       "      <th>ever_married</th>\n",
       "      <th>work_type</th>\n",
       "      <th>Residence_type</th>\n",
       "      <th>avg_glucose_level</th>\n",
       "      <th>bmi</th>\n",
       "      <th>smoking_status</th>\n",
       "    </tr>\n",
       "  </thead>\n",
       "  <tbody>\n",
       "    <tr>\n",
       "      <th>0</th>\n",
       "      <td>36306</td>\n",
       "      <td>Male</td>\n",
       "      <td>80.0</td>\n",
       "      <td>0</td>\n",
       "      <td>0</td>\n",
       "      <td>Yes</td>\n",
       "      <td>Private</td>\n",
       "      <td>Urban</td>\n",
       "      <td>83.84</td>\n",
       "      <td>21.1</td>\n",
       "      <td>formerly smoked</td>\n",
       "    </tr>\n",
       "    <tr>\n",
       "      <th>1</th>\n",
       "      <td>61829</td>\n",
       "      <td>Female</td>\n",
       "      <td>74.0</td>\n",
       "      <td>0</td>\n",
       "      <td>1</td>\n",
       "      <td>Yes</td>\n",
       "      <td>Self-employed</td>\n",
       "      <td>Rural</td>\n",
       "      <td>179.50</td>\n",
       "      <td>26.0</td>\n",
       "      <td>formerly smoked</td>\n",
       "    </tr>\n",
       "    <tr>\n",
       "      <th>2</th>\n",
       "      <td>14152</td>\n",
       "      <td>Female</td>\n",
       "      <td>14.0</td>\n",
       "      <td>0</td>\n",
       "      <td>0</td>\n",
       "      <td>No</td>\n",
       "      <td>children</td>\n",
       "      <td>Rural</td>\n",
       "      <td>95.16</td>\n",
       "      <td>21.2</td>\n",
       "      <td>NaN</td>\n",
       "    </tr>\n",
       "    <tr>\n",
       "      <th>3</th>\n",
       "      <td>12997</td>\n",
       "      <td>Male</td>\n",
       "      <td>28.0</td>\n",
       "      <td>0</td>\n",
       "      <td>0</td>\n",
       "      <td>No</td>\n",
       "      <td>Private</td>\n",
       "      <td>Urban</td>\n",
       "      <td>94.76</td>\n",
       "      <td>23.4</td>\n",
       "      <td>NaN</td>\n",
       "    </tr>\n",
       "    <tr>\n",
       "      <th>4</th>\n",
       "      <td>40801</td>\n",
       "      <td>Female</td>\n",
       "      <td>63.0</td>\n",
       "      <td>0</td>\n",
       "      <td>0</td>\n",
       "      <td>Yes</td>\n",
       "      <td>Govt_job</td>\n",
       "      <td>Rural</td>\n",
       "      <td>83.57</td>\n",
       "      <td>27.6</td>\n",
       "      <td>never smoked</td>\n",
       "    </tr>\n",
       "  </tbody>\n",
       "</table>\n",
       "</div>"
      ],
      "text/plain": [
       "      id  gender   age  hypertension  heart_disease ever_married  \\\n",
       "0  36306    Male  80.0             0              0          Yes   \n",
       "1  61829  Female  74.0             0              1          Yes   \n",
       "2  14152  Female  14.0             0              0           No   \n",
       "3  12997    Male  28.0             0              0           No   \n",
       "4  40801  Female  63.0             0              0          Yes   \n",
       "\n",
       "       work_type Residence_type  avg_glucose_level   bmi   smoking_status  \n",
       "0        Private          Urban              83.84  21.1  formerly smoked  \n",
       "1  Self-employed          Rural             179.50  26.0  formerly smoked  \n",
       "2       children          Rural              95.16  21.2              NaN  \n",
       "3        Private          Urban              94.76  23.4              NaN  \n",
       "4       Govt_job          Rural              83.57  27.6     never smoked  "
      ]
     },
     "execution_count": 496,
     "metadata": {},
     "output_type": "execute_result"
    }
   ],
   "source": [
    "test_df.head()"
   ]
  },
  {
   "cell_type": "code",
   "execution_count": 497,
   "metadata": {},
   "outputs": [
    {
     "data": {
      "image/png": "[encoded data removed]",
      "text/plain": [
       "<matplotlib.figure.Figure at 0xc729860>"
      ]
     },
     "metadata": {},
     "output_type": "display_data"
    }
   ],
   "source": [
    "sns.heatmap(train_df.corr(), annot=True)\n",
    "plt.gcf().set_size_inches(10,8)\n",
    "plt.show()"
   ]
  },
  {
   "cell_type": "code",
   "execution_count": 498,
   "metadata": {
    "collapsed": true
   },
   "outputs": [],
   "source": [
    "# train_df['AgeBand'] = pd.cut(train_df['age'], 10)\n",
    "# train_df[['AgeBand', 'stroke']].groupby(['AgeBand'], as_index=False).mean().sort_values(by='AgeBand', ascending=True)"
   ]
  },
  {
   "cell_type": "code",
   "execution_count": 499,
   "metadata": {},
   "outputs": [],
   "source": [
    "# train_df['avg_glucose_level_band'] = pd.cut(train_df['avg_glucose_level'], 4)\n",
    "# train_df[['avg_glucose_level_band', 'stroke']].groupby(['avg_glucose_level_band'], as_index=False).mean().sort_values(by='avg_glucose_level_band', ascending=True)"
   ]
  },
  {
   "cell_type": "code",
   "execution_count": 500,
   "metadata": {},
   "outputs": [
    {
     "data": {
      "text/html": [
       "<div>\n",
       "<style scoped>\n",
       "    .dataframe tbody tr th:only-of-type {\n",
       "        vertical-align: middle;\n",
       "    }\n",
       "\n",
       "    .dataframe tbody tr th {\n",
       "        vertical-align: top;\n",
       "    }\n",
       "\n",
       "    .dataframe thead th {\n",
       "        text-align: right;\n",
       "    }\n",
       "</style>\n",
       "<table border=\"1\" class=\"dataframe\">\n",
       "  <thead>\n",
       "    <tr style=\"text-align: right;\">\n",
       "      <th></th>\n",
       "      <th>id</th>\n",
       "      <th>gender</th>\n",
       "      <th>age</th>\n",
       "      <th>hypertension</th>\n",
       "      <th>heart_disease</th>\n",
       "      <th>ever_married</th>\n",
       "      <th>work_type</th>\n",
       "      <th>Residence_type</th>\n",
       "      <th>avg_glucose_level</th>\n",
       "      <th>bmi</th>\n",
       "      <th>smoking_status</th>\n",
       "      <th>stroke</th>\n",
       "    </tr>\n",
       "  </thead>\n",
       "  <tbody>\n",
       "    <tr>\n",
       "      <th>0</th>\n",
       "      <td>30669</td>\n",
       "      <td>Male</td>\n",
       "      <td>3.0</td>\n",
       "      <td>0</td>\n",
       "      <td>0</td>\n",
       "      <td>No</td>\n",
       "      <td>children</td>\n",
       "      <td>Rural</td>\n",
       "      <td>95.12</td>\n",
       "      <td>18.0</td>\n",
       "      <td>NaN</td>\n",
       "      <td>0</td>\n",
       "    </tr>\n",
       "    <tr>\n",
       "      <th>1</th>\n",
       "      <td>30468</td>\n",
       "      <td>Male</td>\n",
       "      <td>58.0</td>\n",
       "      <td>1</td>\n",
       "      <td>0</td>\n",
       "      <td>Yes</td>\n",
       "      <td>Private</td>\n",
       "      <td>Urban</td>\n",
       "      <td>87.96</td>\n",
       "      <td>39.2</td>\n",
       "      <td>never smoked</td>\n",
       "      <td>0</td>\n",
       "    </tr>\n",
       "    <tr>\n",
       "      <th>2</th>\n",
       "      <td>16523</td>\n",
       "      <td>Female</td>\n",
       "      <td>8.0</td>\n",
       "      <td>0</td>\n",
       "      <td>0</td>\n",
       "      <td>No</td>\n",
       "      <td>Private</td>\n",
       "      <td>Urban</td>\n",
       "      <td>110.89</td>\n",
       "      <td>17.6</td>\n",
       "      <td>NaN</td>\n",
       "      <td>0</td>\n",
       "    </tr>\n",
       "    <tr>\n",
       "      <th>3</th>\n",
       "      <td>56543</td>\n",
       "      <td>Female</td>\n",
       "      <td>70.0</td>\n",
       "      <td>0</td>\n",
       "      <td>0</td>\n",
       "      <td>Yes</td>\n",
       "      <td>Private</td>\n",
       "      <td>Rural</td>\n",
       "      <td>69.04</td>\n",
       "      <td>35.9</td>\n",
       "      <td>formerly smoked</td>\n",
       "      <td>0</td>\n",
       "    </tr>\n",
       "    <tr>\n",
       "      <th>4</th>\n",
       "      <td>46136</td>\n",
       "      <td>Male</td>\n",
       "      <td>14.0</td>\n",
       "      <td>0</td>\n",
       "      <td>0</td>\n",
       "      <td>No</td>\n",
       "      <td>Never_worked</td>\n",
       "      <td>Rural</td>\n",
       "      <td>161.28</td>\n",
       "      <td>19.1</td>\n",
       "      <td>NaN</td>\n",
       "      <td>0</td>\n",
       "    </tr>\n",
       "  </tbody>\n",
       "</table>\n",
       "</div>"
      ],
      "text/plain": [
       "      id  gender   age  hypertension  heart_disease ever_married  \\\n",
       "0  30669    Male   3.0             0              0           No   \n",
       "1  30468    Male  58.0             1              0          Yes   \n",
       "2  16523  Female   8.0             0              0           No   \n",
       "3  56543  Female  70.0             0              0          Yes   \n",
       "4  46136    Male  14.0             0              0           No   \n",
       "\n",
       "      work_type Residence_type  avg_glucose_level   bmi   smoking_status  \\\n",
       "0      children          Rural              95.12  18.0              NaN   \n",
       "1       Private          Urban              87.96  39.2     never smoked   \n",
       "2       Private          Urban             110.89  17.6              NaN   \n",
       "3       Private          Rural              69.04  35.9  formerly smoked   \n",
       "4  Never_worked          Rural             161.28  19.1              NaN   \n",
       "\n",
       "   stroke  \n",
       "0       0  \n",
       "1       0  \n",
       "2       0  \n",
       "3       0  \n",
       "4       0  "
      ]
     },
     "execution_count": 500,
     "metadata": {},
     "output_type": "execute_result"
    }
   ],
   "source": [
    "train_df.head()"
   ]
  },
  {
   "cell_type": "code",
   "execution_count": 501,
   "metadata": {},
   "outputs": [
    {
     "data": {
      "text/plain": [
       "never smoked       16053\n",
       "formerly smoked     7493\n",
       "smokes              6562\n",
       "Name: smoking_status, dtype: int64"
      ]
     },
     "execution_count": 501,
     "metadata": {},
     "output_type": "execute_result"
    }
   ],
   "source": [
    "train_df.smoking_status.value_counts()"
   ]
  },
  {
   "cell_type": "code",
   "execution_count": 502,
   "metadata": {
    "collapsed": true
   },
   "outputs": [],
   "source": [
    "cat_cols = ['gender', 'hypertension', 'heart_disease', 'ever_married',\n",
    "       'work_type', 'Residence_type', 'smoking_status']"
   ]
  },
  {
   "cell_type": "code",
   "execution_count": 503,
   "metadata": {
    "collapsed": true
   },
   "outputs": [],
   "source": [
    "del_cols = ['id', 'gender', 'ever_married',\n",
    "       'work_type', 'Residence_type', 'smoking_status']"
   ]
  },
  {
   "cell_type": "code",
   "execution_count": 504,
   "metadata": {
    "collapsed": true
   },
   "outputs": [],
   "source": [
    "# train_df.fillna(-1, inplace=True)\n",
    "# test_df.fillna(-1, inplace=True)"
   ]
  },
  {
   "cell_type": "code",
   "execution_count": 505,
   "metadata": {
    "collapsed": true
   },
   "outputs": [],
   "source": [
    "from sklearn.preprocessing import LabelEncoder\n",
    "for col in cat_cols:\n",
    "    le = LabelEncoder()\n",
    "    le.fit(list(train_df[col]) + list(test_df[col]))\n",
    "    train_df[col] = le.transform(list(train_df[col]))\n",
    "    test_df[col] = le.transform(list(test_df[col]))"
   ]
  },
  {
   "cell_type": "code",
   "execution_count": 506,
   "metadata": {
    "collapsed": true
   },
   "outputs": [],
   "source": [
    "# train_df['smoking_status'] = train_df['smoking_status'].astype(int)\n",
    "# test_df['smoking_status'] = test_df['smoking_status'].astype(int)"
   ]
  },
  {
   "cell_type": "code",
   "execution_count": 507,
   "metadata": {
    "collapsed": true
   },
   "outputs": [],
   "source": [
    "# train_df_objs_num = len(train_df)\n",
    "# dataset = pd.concat(objs=[train_df, test_df], axis=0)\n",
    "# dataset = pd.get_dummies(dataset)"
   ]
  },
  {
   "cell_type": "code",
   "execution_count": 508,
   "metadata": {
    "collapsed": true
   },
   "outputs": [],
   "source": [
    "# dataset.head()"
   ]
  },
  {
   "cell_type": "code",
   "execution_count": 509,
   "metadata": {
    "collapsed": true
   },
   "outputs": [],
   "source": [
    "# train_df = dataset[:train_df_objs_num]\n",
    "# test_df = dataset[train_df_objs_num:]"
   ]
  },
  {
   "cell_type": "code",
   "execution_count": 510,
   "metadata": {},
   "outputs": [
    {
     "data": {
      "text/html": [
       "<div>\n",
       "<style scoped>\n",
       "    .dataframe tbody tr th:only-of-type {\n",
       "        vertical-align: middle;\n",
       "    }\n",
       "\n",
       "    .dataframe tbody tr th {\n",
       "        vertical-align: top;\n",
       "    }\n",
       "\n",
       "    .dataframe thead th {\n",
       "        text-align: right;\n",
       "    }\n",
       "</style>\n",
       "<table border=\"1\" class=\"dataframe\">\n",
       "  <thead>\n",
       "    <tr style=\"text-align: right;\">\n",
       "      <th></th>\n",
       "      <th>id</th>\n",
       "      <th>gender</th>\n",
       "      <th>age</th>\n",
       "      <th>hypertension</th>\n",
       "      <th>heart_disease</th>\n",
       "      <th>ever_married</th>\n",
       "      <th>work_type</th>\n",
       "      <th>Residence_type</th>\n",
       "      <th>avg_glucose_level</th>\n",
       "      <th>bmi</th>\n",
       "      <th>smoking_status</th>\n",
       "      <th>stroke</th>\n",
       "    </tr>\n",
       "  </thead>\n",
       "  <tbody>\n",
       "    <tr>\n",
       "      <th>0</th>\n",
       "      <td>30669</td>\n",
       "      <td>1</td>\n",
       "      <td>3.0</td>\n",
       "      <td>0</td>\n",
       "      <td>0</td>\n",
       "      <td>0</td>\n",
       "      <td>4</td>\n",
       "      <td>0</td>\n",
       "      <td>95.12</td>\n",
       "      <td>18.0</td>\n",
       "      <td>1</td>\n",
       "      <td>0</td>\n",
       "    </tr>\n",
       "    <tr>\n",
       "      <th>1</th>\n",
       "      <td>30468</td>\n",
       "      <td>1</td>\n",
       "      <td>58.0</td>\n",
       "      <td>1</td>\n",
       "      <td>0</td>\n",
       "      <td>1</td>\n",
       "      <td>2</td>\n",
       "      <td>1</td>\n",
       "      <td>87.96</td>\n",
       "      <td>39.2</td>\n",
       "      <td>2</td>\n",
       "      <td>0</td>\n",
       "    </tr>\n",
       "    <tr>\n",
       "      <th>2</th>\n",
       "      <td>16523</td>\n",
       "      <td>0</td>\n",
       "      <td>8.0</td>\n",
       "      <td>0</td>\n",
       "      <td>0</td>\n",
       "      <td>0</td>\n",
       "      <td>2</td>\n",
       "      <td>1</td>\n",
       "      <td>110.89</td>\n",
       "      <td>17.6</td>\n",
       "      <td>1</td>\n",
       "      <td>0</td>\n",
       "    </tr>\n",
       "    <tr>\n",
       "      <th>3</th>\n",
       "      <td>56543</td>\n",
       "      <td>0</td>\n",
       "      <td>70.0</td>\n",
       "      <td>0</td>\n",
       "      <td>0</td>\n",
       "      <td>1</td>\n",
       "      <td>2</td>\n",
       "      <td>0</td>\n",
       "      <td>69.04</td>\n",
       "      <td>35.9</td>\n",
       "      <td>0</td>\n",
       "      <td>0</td>\n",
       "    </tr>\n",
       "    <tr>\n",
       "      <th>4</th>\n",
       "      <td>46136</td>\n",
       "      <td>1</td>\n",
       "      <td>14.0</td>\n",
       "      <td>0</td>\n",
       "      <td>0</td>\n",
       "      <td>0</td>\n",
       "      <td>1</td>\n",
       "      <td>0</td>\n",
       "      <td>161.28</td>\n",
       "      <td>19.1</td>\n",
       "      <td>1</td>\n",
       "      <td>0</td>\n",
       "    </tr>\n",
       "  </tbody>\n",
       "</table>\n",
       "</div>"
      ],
      "text/plain": [
       "      id  gender   age  hypertension  heart_disease  ever_married  work_type  \\\n",
       "0  30669       1   3.0             0              0             0          4   \n",
       "1  30468       1  58.0             1              0             1          2   \n",
       "2  16523       0   8.0             0              0             0          2   \n",
       "3  56543       0  70.0             0              0             1          2   \n",
       "4  46136       1  14.0             0              0             0          1   \n",
       "\n",
       "   Residence_type  avg_glucose_level   bmi  smoking_status  stroke  \n",
       "0               0              95.12  18.0               1       0  \n",
       "1               1              87.96  39.2               2       0  \n",
       "2               1             110.89  17.6               1       0  \n",
       "3               0              69.04  35.9               0       0  \n",
       "4               0             161.28  19.1               1       0  "
      ]
     },
     "execution_count": 510,
     "metadata": {},
     "output_type": "execute_result"
    }
   ],
   "source": [
    "train_df.head()"
   ]
  },
  {
   "cell_type": "code",
   "execution_count": 511,
   "metadata": {
    "collapsed": true
   },
   "outputs": [],
   "source": [
    "def bmi_cat(bmi):\n",
    "    if(bmi < 18.5):\n",
    "        return 1\n",
    "    elif (bmi <=24.9):\n",
    "        return 2\n",
    "    elif (bmi <=29.9):\n",
    "        return 3\n",
    "    else:\n",
    "        return 4"
   ]
  },
  {
   "cell_type": "code",
   "execution_count": 512,
   "metadata": {
    "collapsed": true
   },
   "outputs": [],
   "source": [
    "def age_cat(age):\n",
    "    if(age < 40):\n",
    "        return 1\n",
    "    elif(age<50):\n",
    "        return 2\n",
    "    elif(age<60):\n",
    "        return 3\n",
    "    elif(age<75):\n",
    "        return 4\n",
    "    else:\n",
    "        return 5"
   ]
  },
  {
   "cell_type": "code",
   "execution_count": 513,
   "metadata": {
    "collapsed": true
   },
   "outputs": [],
   "source": [
    "import math\n",
    "def sugar_cat(sugar):\n",
    "    if(math.isnan(sugar)):\n",
    "        return sugar\n",
    "    elif(sugar < 173):\n",
    "        return 1\n",
    "    elif(sugar<232):\n",
    "        return 2\n",
    "    else:\n",
    "        return 3"
   ]
  },
  {
   "cell_type": "code",
   "execution_count": 514,
   "metadata": {},
   "outputs": [],
   "source": [
    "def is_all_symptom(row):\n",
    "    if(row.bmi > 30 and row.avg_glucose_level>150):\n",
    "        return 1\n",
    "    else:\n",
    "        return 0"
   ]
  },
  {
   "cell_type": "code",
   "execution_count": 515,
   "metadata": {},
   "outputs": [
    {
     "data": {
      "text/html": [
       "<div>\n",
       "<style scoped>\n",
       "    .dataframe tbody tr th:only-of-type {\n",
       "        vertical-align: middle;\n",
       "    }\n",
       "\n",
       "    .dataframe tbody tr th {\n",
       "        vertical-align: top;\n",
       "    }\n",
       "\n",
       "    .dataframe thead th {\n",
       "        text-align: right;\n",
       "    }\n",
       "</style>\n",
       "<table border=\"1\" class=\"dataframe\">\n",
       "  <thead>\n",
       "    <tr style=\"text-align: right;\">\n",
       "      <th></th>\n",
       "      <th>id</th>\n",
       "      <th>gender</th>\n",
       "      <th>age</th>\n",
       "      <th>hypertension</th>\n",
       "      <th>heart_disease</th>\n",
       "      <th>ever_married</th>\n",
       "      <th>work_type</th>\n",
       "      <th>Residence_type</th>\n",
       "      <th>avg_glucose_level</th>\n",
       "      <th>bmi</th>\n",
       "      <th>smoking_status</th>\n",
       "      <th>stroke</th>\n",
       "    </tr>\n",
       "  </thead>\n",
       "  <tbody>\n",
       "    <tr>\n",
       "      <th>0</th>\n",
       "      <td>30669</td>\n",
       "      <td>1</td>\n",
       "      <td>3.0</td>\n",
       "      <td>0</td>\n",
       "      <td>0</td>\n",
       "      <td>0</td>\n",
       "      <td>4</td>\n",
       "      <td>0</td>\n",
       "      <td>95.12</td>\n",
       "      <td>18.0</td>\n",
       "      <td>1</td>\n",
       "      <td>0</td>\n",
       "    </tr>\n",
       "    <tr>\n",
       "      <th>1</th>\n",
       "      <td>30468</td>\n",
       "      <td>1</td>\n",
       "      <td>58.0</td>\n",
       "      <td>1</td>\n",
       "      <td>0</td>\n",
       "      <td>1</td>\n",
       "      <td>2</td>\n",
       "      <td>1</td>\n",
       "      <td>87.96</td>\n",
       "      <td>39.2</td>\n",
       "      <td>2</td>\n",
       "      <td>0</td>\n",
       "    </tr>\n",
       "    <tr>\n",
       "      <th>2</th>\n",
       "      <td>16523</td>\n",
       "      <td>0</td>\n",
       "      <td>8.0</td>\n",
       "      <td>0</td>\n",
       "      <td>0</td>\n",
       "      <td>0</td>\n",
       "      <td>2</td>\n",
       "      <td>1</td>\n",
       "      <td>110.89</td>\n",
       "      <td>17.6</td>\n",
       "      <td>1</td>\n",
       "      <td>0</td>\n",
       "    </tr>\n",
       "    <tr>\n",
       "      <th>3</th>\n",
       "      <td>56543</td>\n",
       "      <td>0</td>\n",
       "      <td>70.0</td>\n",
       "      <td>0</td>\n",
       "      <td>0</td>\n",
       "      <td>1</td>\n",
       "      <td>2</td>\n",
       "      <td>0</td>\n",
       "      <td>69.04</td>\n",
       "      <td>35.9</td>\n",
       "      <td>0</td>\n",
       "      <td>0</td>\n",
       "    </tr>\n",
       "    <tr>\n",
       "      <th>4</th>\n",
       "      <td>46136</td>\n",
       "      <td>1</td>\n",
       "      <td>14.0</td>\n",
       "      <td>0</td>\n",
       "      <td>0</td>\n",
       "      <td>0</td>\n",
       "      <td>1</td>\n",
       "      <td>0</td>\n",
       "      <td>161.28</td>\n",
       "      <td>19.1</td>\n",
       "      <td>1</td>\n",
       "      <td>0</td>\n",
       "    </tr>\n",
       "  </tbody>\n",
       "</table>\n",
       "</div>"
      ],
      "text/plain": [
       "      id  gender   age  hypertension  heart_disease  ever_married  work_type  \\\n",
       "0  30669       1   3.0             0              0             0          4   \n",
       "1  30468       1  58.0             1              0             1          2   \n",
       "2  16523       0   8.0             0              0             0          2   \n",
       "3  56543       0  70.0             0              0             1          2   \n",
       "4  46136       1  14.0             0              0             0          1   \n",
       "\n",
       "   Residence_type  avg_glucose_level   bmi  smoking_status  stroke  \n",
       "0               0              95.12  18.0               1       0  \n",
       "1               1              87.96  39.2               2       0  \n",
       "2               1             110.89  17.6               1       0  \n",
       "3               0              69.04  35.9               0       0  \n",
       "4               0             161.28  19.1               1       0  "
      ]
     },
     "execution_count": 515,
     "metadata": {},
     "output_type": "execute_result"
    }
   ],
   "source": [
    "train_df.head()"
   ]
  },
  {
   "cell_type": "code",
   "execution_count": 516,
   "metadata": {
    "collapsed": true
   },
   "outputs": [],
   "source": [
    "train_df['bmi_cat'] = train_df['bmi'].apply(bmi_cat)\n",
    "test_df['bmi_cat'] = test_df['bmi'].apply(bmi_cat)\n",
    "\n",
    "train_df['age_cat'] = train_df['age'].apply(bmi_cat)\n",
    "test_df['age_cat'] = test_df['age'].apply(bmi_cat)\n",
    "\n",
    "# train_df['is_all_symptom'] = train_df.apply(is_all_symptom, axis=1)\n",
    "# test_df['is_all_symptom'] = test_df.apply(is_all_symptom, axis=1)\n",
    "\n",
    "# train_df['smoking_status'] = train_df.apply(impute_smoke, axis=1)\n",
    "# test_df['smoking_status'] = test_df.apply(impute_smoke, axis=1)"
   ]
  },
  {
   "cell_type": "code",
   "execution_count": 517,
   "metadata": {},
   "outputs": [
    {
     "data": {
      "text/plain": [
       "Index(['id', 'gender', 'age', 'hypertension', 'heart_disease', 'ever_married',\n",
       "       'work_type', 'Residence_type', 'avg_glucose_level', 'bmi',\n",
       "       'smoking_status', 'stroke', 'bmi_cat', 'age_cat'],\n",
       "      dtype='object')"
      ]
     },
     "execution_count": 517,
     "metadata": {},
     "output_type": "execute_result"
    }
   ],
   "source": [
    "train_df.columns"
   ]
  },
  {
   "cell_type": "code",
   "execution_count": 518,
   "metadata": {
    "collapsed": true
   },
   "outputs": [],
   "source": [
    "train_df.fillna(0, inplace=True)\n",
    "test_df.fillna(0, inplace=True)"
   ]
  },
  {
   "cell_type": "code",
   "execution_count": 519,
   "metadata": {
    "collapsed": true
   },
   "outputs": [],
   "source": [
    "# train_df[np.abs(train_df.bmi-train_df.bmi.mean())<=(7*train_df.bmi.std())] \n",
    "# train_df = train_df[~(np.abs(train_df.bmi-train_df.bmi.mean())>(7*train_df.bmi.std()))]"
   ]
  },
  {
   "cell_type": "code",
   "execution_count": 520,
   "metadata": {},
   "outputs": [
    {
     "data": {
      "text/plain": [
       "(43400, 14)"
      ]
     },
     "execution_count": 520,
     "metadata": {},
     "output_type": "execute_result"
    }
   ],
   "source": [
    "train_df.shape"
   ]
  },
  {
   "cell_type": "code",
   "execution_count": 521,
   "metadata": {
    "collapsed": true
   },
   "outputs": [],
   "source": [
    "target = train_df['stroke']"
   ]
  },
  {
   "cell_type": "code",
   "execution_count": 522,
   "metadata": {
    "collapsed": true
   },
   "outputs": [],
   "source": [
    "# from sklearn.preprocessing import MinMaxScaler\n",
    "# scaler = MinMaxScaler() # default=(0, 1)\n",
    "# numerical = ['avg_glucose_level']\n",
    "\n",
    "# train_df = pd.DataFrame(data = train_df)\n",
    "# train_df[numerical] = scaler.fit_transform(train_df[numerical])\n",
    "\n",
    "# test_df = pd.DataFrame(data = test_df)\n",
    "# test_df[numerical] = scaler.fit_transform(test_df[numerical])"
   ]
  },
  {
   "cell_type": "code",
   "execution_count": 523,
   "metadata": {
    "collapsed": true
   },
   "outputs": [],
   "source": [
    "del train_df['id']\n",
    "del test_df['id']"
   ]
  },
  {
   "cell_type": "code",
   "execution_count": null,
   "metadata": {
    "collapsed": true
   },
   "outputs": [],
   "source": []
  },
  {
   "cell_type": "code",
   "execution_count": 524,
   "metadata": {},
   "outputs": [
    {
     "name": "stdout",
     "output_type": "stream",
     "text": [
      "Training set has 34720 samples.\n",
      "Testing set has 8680 samples.\n"
     ]
    }
   ],
   "source": [
    "from sklearn.model_selection import train_test_split\n",
    "\n",
    "# Split the 'features' and 'income' data into training and testing sets\n",
    "X_train, X_test, y_train, y_test = train_test_split(train_df, \n",
    "                                                    target, \n",
    "                                                    test_size = 0.20, \n",
    "                                                    random_state = 7, stratify=target)\n",
    "\n",
    "# Show the results of the split\n",
    "print(\"Training set has {} samples.\".format(X_train.shape[0]))\n",
    "print(\"Testing set has {} samples.\".format(X_test.shape[0]))"
   ]
  },
  {
   "cell_type": "code",
   "execution_count": 525,
   "metadata": {
    "collapsed": true
   },
   "outputs": [],
   "source": [
    "cat_cols = ['ever_married', 'work_type', 'Residence_type']"
   ]
  },
  {
   "cell_type": "code",
   "execution_count": 526,
   "metadata": {
    "collapsed": true
   },
   "outputs": [],
   "source": [
    "for col in cat_cols:\n",
    "    tmp = X_train.groupby([col]).agg({'stroke' : [np.mean, np.std]}).reset_index()\n",
    "    tmp.columns = [col, 'mean_stroke_'+ col, 'std_stroke_'+ col]    \n",
    "    X_train = pd.merge(X_train, tmp, how='left', on=[col]) \n",
    "for col in cat_cols:\n",
    "    tmp = X_test.groupby([col]).agg({'stroke' : [np.mean,  np.std]}).reset_index()\n",
    "    tmp.columns = [col, 'mean_stroke_'+ col, 'std_stroke_'+ col]    \n",
    "    X_test = pd.merge(X_test, tmp, how='left', on=[col])     \n",
    "for col in cat_cols:\n",
    "    tmp = train_df.groupby([col]).agg({'stroke' : [np.mean,  np.std]}).reset_index()\n",
    "    tmp.columns = [col, 'mean_stroke_'+ col, 'std_stroke_'+ col]    \n",
    "    test_df = pd.merge(test_df, tmp, how='left', on=[col])     "
   ]
  },
  {
   "cell_type": "code",
   "execution_count": 527,
   "metadata": {
    "collapsed": true
   },
   "outputs": [],
   "source": [
    "del X_train['stroke']\n",
    "del X_test['stroke']"
   ]
  },
  {
   "cell_type": "code",
   "execution_count": 528,
   "metadata": {},
   "outputs": [],
   "source": [
    "# from imblearn.combine import SMOTETomek\n",
    "\n",
    "# sm = SMOTETomek(ratio='auto')\n",
    "# X_train_res, y_train_res = sm.fit_sample(X_train, y_train)\n",
    "# # Show the results of the split\n",
    "# print(\"Training set has {} samples.\".format(X_train_res.shape[0]))\n",
    "# print(\"Testing set has {} samples.\".format(y_train_res.shape[0]))"
   ]
  },
  {
   "cell_type": "code",
   "execution_count": 529,
   "metadata": {
    "collapsed": true
   },
   "outputs": [],
   "source": [
    "# X_train.drop(del_cols, inplace=True, axis=1)\n",
    "# X_test.drop(del_cols, inplace=True, axis=1)\n",
    "# test_df.drop(del_cols, inplace=True, axis=1)"
   ]
  },
  {
   "cell_type": "code",
   "execution_count": 530,
   "metadata": {
    "collapsed": true
   },
   "outputs": [],
   "source": [
    "from xgboost import XGBClassifier\n",
    "from sklearn.ensemble import GradientBoostingClassifier\n",
    "from lightgbm import LGBMClassifier\n",
    "from sklearn.neural_network import MLPClassifier\n",
    "from sklearn.ensemble import RandomForestClassifier, AdaBoostClassifier, ExtraTreesClassifier\n",
    "from sklearn.neighbors import KNeighborsClassifier\n",
    "from sklearn.naive_bayes import GaussianNB\n",
    "from sklearn.tree import DecisionTreeClassifier\n",
    "from sklearn.svm import SVC\n",
    "from sklearn.neighbors import KNeighborsClassifier\n",
    "from sklearn.linear_model import LogisticRegression\n",
    "from catboost import CatBoostClassifier"
   ]
  },
  {
   "cell_type": "code",
   "execution_count": 531,
   "metadata": {
    "collapsed": true
   },
   "outputs": [],
   "source": [
    "from sklearn.model_selection import GridSearchCV\n",
    "from sklearn.metrics import make_scorer , roc_auc_score, accuracy_score, confusion_matrix\n",
    "\n",
    "def kFoldCV(clf, parameters, X_train, y_train, X_test, y_test, test): \n",
    "    scorer = make_scorer(roc_auc_score)\n",
    "    grid_obj = GridSearchCV(clf, parameters, scoring=scorer, verbose=10, cv=3, n_jobs=-1, )\n",
    "    grid_fit = grid_obj.fit(X_train, y_train)\n",
    "    best_clf = grid_fit.best_estimator_\n",
    "#     predictions = best_clf.predict(X_test)\n",
    "#     print('{} has confusion_matrix: \\n{}'.format(clf.__class__.__name__, confusion_matrix(y_test, predictions)))\n",
    "    best_predictions = best_clf.predict_proba(X_test)[:,1]\n",
    "    print('best model: ', best_clf)\n",
    "    print('{} has roc_auc_score: {}'.format(clf.__class__.__name__, roc_auc_score(y_test, best_predictions)))\n",
    "    preds = best_clf.predict_proba(test)[:,1]\n",
    "    return preds"
   ]
  },
  {
   "cell_type": "code",
   "execution_count": 532,
   "metadata": {
    "collapsed": true
   },
   "outputs": [],
   "source": [
    "def train_predict(clf, X_train, y_train, X_test, y_test, test):\n",
    "    clf.fit(X_train, y_train)\n",
    "    preds = clf.predict(X_test)\n",
    "    print('{} has confusion_matrix: \\n{}'.format(clf.__class__.__name__, confusion_matrix(y_test, preds)))\n",
    "    preds = clf.predict_proba(X_test)[:,1]\n",
    "    print('{} has roc_auc_score: {}'.format(clf.__class__.__name__, roc_auc_score(y_test, preds)))\n",
    "    preds = clf.predict_proba(test)[:,1]\n",
    "    return preds"
   ]
  },
  {
   "cell_type": "code",
   "execution_count": null,
   "metadata": {
    "collapsed": true
   },
   "outputs": [],
   "source": []
  },
  {
   "cell_type": "code",
   "execution_count": 533,
   "metadata": {},
   "outputs": [],
   "source": [
    "# model1 = LGBMClassifier(random_state=7, n_jobs=-1)\n",
    "# preds1 = train_predict(model1, X_train, y_train, X_test, y_test, test_df)"
   ]
  },
  {
   "cell_type": "code",
   "execution_count": 534,
   "metadata": {},
   "outputs": [],
   "source": [
    "# model2 = AdaBoostClassifier(random_state=7, n_estimators=100)\n",
    "# preds2 = train_predict(model2, X_train, y_train, X_test, y_test, test_df)"
   ]
  },
  {
   "cell_type": "code",
   "execution_count": 535,
   "metadata": {},
   "outputs": [],
   "source": [
    "# model3 = GradientBoostingClassifier(random_state=0)\n",
    "# preds3 = train_predict(model3, X_train, y_train, X_test, y_test, test_df)"
   ]
  },
  {
   "cell_type": "code",
   "execution_count": 536,
   "metadata": {},
   "outputs": [],
   "source": [
    "params = {}\n",
    "params[\"objective\"] = \"binary\"\n",
    "params['metric'] = 'auc'\n",
    "params[\"max_depth\"] = 7\n",
    "params[\"min_data_in_leaf\"] = 100\n",
    "params[\"learning_rate\"] = 0.1\n",
    "params[\"bagging_fraction\"] = 0.7\n",
    "params[\"feature_fraction\"] = 0.7\n",
    "params[\"bagging_freq\"] = 5\n",
    "params[\"bagging_seed\"] = 7\n",
    "params[\"verbosity\"] = -1\n",
    "num_rounds = 500"
   ]
  },
  {
   "cell_type": "code",
   "execution_count": 537,
   "metadata": {
    "collapsed": true
   },
   "outputs": [],
   "source": [
    "lgtrain = lgb.Dataset(X_train, label=y_train)\n",
    "lgtest = lgb.Dataset(X_test, label=y_test)"
   ]
  },
  {
   "cell_type": "code",
   "execution_count": 538,
   "metadata": {},
   "outputs": [
    {
     "name": "stdout",
     "output_type": "stream",
     "text": [
      "Training until validation scores don't improve for 100 rounds.\n",
      "[20]\tvalid_0's auc: 0.836477\n",
      "[40]\tvalid_0's auc: 0.833928\n",
      "[60]\tvalid_0's auc: 0.842681\n",
      "[80]\tvalid_0's auc: 0.841364\n",
      "[100]\tvalid_0's auc: 0.838285\n",
      "[120]\tvalid_0's auc: 0.833976\n",
      "[140]\tvalid_0's auc: 0.831125\n",
      "Early stopping, best iteration is:\n",
      "[55]\tvalid_0's auc: 0.843033\n"
     ]
    }
   ],
   "source": [
    "model = lgb.train(params, lgtrain, num_rounds, valid_sets=[lgtest], early_stopping_rounds=100, verbose_eval=20)"
   ]
  },
  {
   "cell_type": "code",
   "execution_count": 539,
   "metadata": {
    "collapsed": true
   },
   "outputs": [],
   "source": [
    "preds1 = model.predict(test_df, num_iteration=model.best_iteration)"
   ]
  },
  {
   "cell_type": "code",
   "execution_count": null,
   "metadata": {
    "collapsed": true
   },
   "outputs": [],
   "source": []
  },
  {
   "cell_type": "code",
   "execution_count": 450,
   "metadata": {
    "collapsed": true
   },
   "outputs": [],
   "source": [
    "# params = {'colsample_bytree':[1, 0.9, 0.8, 0.7], 'subsample':[1, 0.9, 0.8, 0.7]}\n",
    "# model1 = XGBClassifier(random_state=77, n_jobs=-1)\n",
    "# preds6 = kFoldCV(model1, params, X_train, y_train, X_test, y_test, test_df)"
   ]
  },
  {
   "cell_type": "code",
   "execution_count": 451,
   "metadata": {
    "collapsed": true
   },
   "outputs": [],
   "source": [
    "# params = {'subsample_for_bin':[20000, 30000, 10000]}\n",
    "# model1 = LGBMClassifier(random_state=7,n_jobs=-1, verbose=1, )\n",
    "# preds1 = kFoldCV(model1, params, X_train, y_train, X_test, y_test, test_df)"
   ]
  },
  {
   "cell_type": "code",
   "execution_count": null,
   "metadata": {
    "collapsed": true
   },
   "outputs": [],
   "source": []
  },
  {
   "cell_type": "code",
   "execution_count": null,
   "metadata": {
    "collapsed": true
   },
   "outputs": [],
   "source": []
  },
  {
   "cell_type": "code",
   "execution_count": 540,
   "metadata": {},
   "outputs": [
    {
     "name": "stdout",
     "output_type": "stream",
     "text": [
      "0:\tlearn: 0.5445945\ttest: 0.5562988\tbest: 0.5562988 (0)\ttotal: 41ms\tremaining: 20.4s\n",
      "1:\tlearn: 0.7511159\ttest: 0.7392025\tbest: 0.7392025 (1)\ttotal: 92.2ms\tremaining: 22.9s\n",
      "2:\tlearn: 0.7796849\ttest: 0.7620668\tbest: 0.7620668 (2)\ttotal: 127ms\tremaining: 21.1s\n",
      "3:\tlearn: 0.7655506\ttest: 0.7511492\tbest: 0.7620668 (2)\ttotal: 162ms\tremaining: 20.1s\n",
      "4:\tlearn: 0.8007000\ttest: 0.7762547\tbest: 0.7762547 (4)\ttotal: 212ms\tremaining: 21s\n",
      "5:\tlearn: 0.7992166\ttest: 0.7701996\tbest: 0.7762547 (4)\ttotal: 261ms\tremaining: 21.5s\n",
      "6:\tlearn: 0.7977306\ttest: 0.7604705\tbest: 0.7762547 (4)\ttotal: 320ms\tremaining: 22.6s\n",
      "7:\tlearn: 0.8024868\ttest: 0.7648521\tbest: 0.7762547 (4)\ttotal: 370ms\tremaining: 22.7s\n",
      "8:\tlearn: 0.8046801\ttest: 0.7670944\tbest: 0.7762547 (4)\ttotal: 414ms\tremaining: 22.6s\n",
      "9:\tlearn: 0.8055985\ttest: 0.7642318\tbest: 0.7762547 (4)\ttotal: 469ms\tremaining: 23s\n",
      "10:\tlearn: 0.8089872\ttest: 0.7706988\tbest: 0.7762547 (4)\ttotal: 530ms\tremaining: 23.5s\n",
      "11:\tlearn: 0.8310440\ttest: 0.7803198\tbest: 0.7803198 (11)\ttotal: 583ms\tremaining: 23.7s\n",
      "12:\tlearn: 0.8305259\ttest: 0.7762080\tbest: 0.7803198 (11)\ttotal: 635ms\tremaining: 23.8s\n",
      "13:\tlearn: 0.8356122\ttest: 0.7794167\tbest: 0.7803198 (11)\ttotal: 685ms\tremaining: 23.8s\n",
      "14:\tlearn: 0.8483984\ttest: 0.7975923\tbest: 0.7975923 (14)\ttotal: 734ms\tremaining: 23.7s\n",
      "15:\tlearn: 0.8477778\ttest: 0.7978359\tbest: 0.7978359 (15)\ttotal: 797ms\tremaining: 24.1s\n",
      "16:\tlearn: 0.8480613\ttest: 0.7955020\tbest: 0.7978359 (15)\ttotal: 850ms\tremaining: 24.1s\n",
      "17:\tlearn: 0.8460409\ttest: 0.7938587\tbest: 0.7978359 (15)\ttotal: 890ms\tremaining: 23.8s\n",
      "18:\tlearn: 0.8449423\ttest: 0.7925979\tbest: 0.7978359 (15)\ttotal: 936ms\tremaining: 23.7s\n",
      "19:\tlearn: 0.8444711\ttest: 0.7917198\tbest: 0.7978359 (15)\ttotal: 991ms\tremaining: 23.8s\n",
      "20:\tlearn: 0.8468501\ttest: 0.7950402\tbest: 0.7978359 (15)\ttotal: 1.05s\tremaining: 24s\n",
      "21:\tlearn: 0.8461664\ttest: 0.7938512\tbest: 0.7978359 (15)\ttotal: 1.09s\tremaining: 23.7s\n",
      "22:\tlearn: 0.8516457\ttest: 0.8047912\tbest: 0.8047912 (22)\ttotal: 1.14s\tremaining: 23.7s\n",
      "23:\tlearn: 0.8515113\ttest: 0.8045521\tbest: 0.8047912 (22)\ttotal: 1.21s\tremaining: 24s\n",
      "24:\tlearn: 0.8520849\ttest: 0.8066539\tbest: 0.8066539 (24)\ttotal: 1.26s\tremaining: 24s\n",
      "25:\tlearn: 0.8527897\ttest: 0.8069446\tbest: 0.8069446 (25)\ttotal: 1.3s\tremaining: 23.8s\n",
      "26:\tlearn: 0.8523481\ttest: 0.8075911\tbest: 0.8075911 (26)\ttotal: 1.34s\tremaining: 23.5s\n",
      "27:\tlearn: 0.8540384\ttest: 0.8086392\tbest: 0.8086392 (27)\ttotal: 1.4s\tremaining: 23.6s\n",
      "28:\tlearn: 0.8533376\ttest: 0.8065788\tbest: 0.8086392 (27)\ttotal: 1.44s\tremaining: 23.4s\n",
      "29:\tlearn: 0.8552503\ttest: 0.8122618\tbest: 0.8122618 (29)\ttotal: 1.48s\tremaining: 23.3s\n",
      "30:\tlearn: 0.8558770\ttest: 0.8114420\tbest: 0.8122618 (29)\ttotal: 1.54s\tremaining: 23.2s\n",
      "31:\tlearn: 0.8555522\ttest: 0.8102680\tbest: 0.8122618 (29)\ttotal: 1.59s\tremaining: 23.2s\n",
      "32:\tlearn: 0.8557978\ttest: 0.8104593\tbest: 0.8122618 (29)\ttotal: 1.65s\tremaining: 23.4s\n",
      "33:\tlearn: 0.8555715\ttest: 0.8098069\tbest: 0.8122618 (29)\ttotal: 1.71s\tremaining: 23.4s\n",
      "34:\tlearn: 0.8573293\ttest: 0.8157410\tbest: 0.8157410 (34)\ttotal: 1.76s\tremaining: 23.3s\n",
      "35:\tlearn: 0.8571388\ttest: 0.8150071\tbest: 0.8157410 (34)\ttotal: 1.8s\tremaining: 23.2s\n",
      "36:\tlearn: 0.8587309\ttest: 0.8165627\tbest: 0.8165627 (36)\ttotal: 1.85s\tremaining: 23.2s\n",
      "37:\tlearn: 0.8590155\ttest: 0.8178447\tbest: 0.8178447 (37)\ttotal: 1.92s\tremaining: 23.3s\n",
      "38:\tlearn: 0.8596397\ttest: 0.8182991\tbest: 0.8182991 (38)\ttotal: 1.96s\tremaining: 23.1s\n",
      "39:\tlearn: 0.8596184\ttest: 0.8184194\tbest: 0.8184194 (39)\ttotal: 1.99s\tremaining: 22.9s\n",
      "40:\tlearn: 0.8603122\ttest: 0.8196017\tbest: 0.8196017 (40)\ttotal: 2.04s\tremaining: 22.9s\n",
      "41:\tlearn: 0.8605167\ttest: 0.8202212\tbest: 0.8202212 (41)\ttotal: 2.1s\tremaining: 22.9s\n",
      "42:\tlearn: 0.8639899\ttest: 0.8232673\tbest: 0.8232673 (42)\ttotal: 2.16s\tremaining: 23s\n",
      "43:\tlearn: 0.8655466\ttest: 0.8247746\tbest: 0.8247746 (43)\ttotal: 2.21s\tremaining: 22.9s\n",
      "44:\tlearn: 0.8659492\ttest: 0.8265955\tbest: 0.8265955 (44)\ttotal: 2.27s\tremaining: 22.9s\n",
      "45:\tlearn: 0.8658883\ttest: 0.8265282\tbest: 0.8265955 (44)\ttotal: 2.3s\tremaining: 22.7s\n",
      "46:\tlearn: 0.8669561\ttest: 0.8281805\tbest: 0.8281805 (46)\ttotal: 2.35s\tremaining: 22.7s\n",
      "47:\tlearn: 0.8669009\ttest: 0.8281125\tbest: 0.8281805 (46)\ttotal: 2.4s\tremaining: 22.6s\n",
      "48:\tlearn: 0.8676874\ttest: 0.8298198\tbest: 0.8298198 (48)\ttotal: 2.46s\tremaining: 22.6s\n",
      "49:\tlearn: 0.8681550\ttest: 0.8305529\tbest: 0.8305529 (49)\ttotal: 2.5s\tremaining: 22.5s\n",
      "50:\tlearn: 0.8681176\ttest: 0.8304842\tbest: 0.8305529 (49)\ttotal: 2.54s\tremaining: 22.3s\n",
      "51:\tlearn: 0.8689748\ttest: 0.8323981\tbest: 0.8323981 (51)\ttotal: 2.59s\tremaining: 22.3s\n",
      "52:\tlearn: 0.8693511\ttest: 0.8346329\tbest: 0.8346329 (52)\ttotal: 2.65s\tremaining: 22.3s\n",
      "53:\tlearn: 0.8691249\ttest: 0.8337828\tbest: 0.8346329 (52)\ttotal: 2.69s\tremaining: 22.2s\n",
      "54:\tlearn: 0.8688206\ttest: 0.8347929\tbest: 0.8347929 (54)\ttotal: 2.73s\tremaining: 22.1s\n",
      "55:\tlearn: 0.8688075\ttest: 0.8347398\tbest: 0.8347929 (54)\ttotal: 2.77s\tremaining: 21.9s\n",
      "56:\tlearn: 0.8687175\ttest: 0.8350298\tbest: 0.8350298 (56)\ttotal: 2.82s\tremaining: 21.9s\n",
      "57:\tlearn: 0.8692514\ttest: 0.8361403\tbest: 0.8361403 (57)\ttotal: 2.88s\tremaining: 22s\n",
      "58:\tlearn: 0.8693114\ttest: 0.8369096\tbest: 0.8369096 (58)\ttotal: 2.93s\tremaining: 21.9s\n",
      "59:\tlearn: 0.8693321\ttest: 0.8370285\tbest: 0.8370285 (59)\ttotal: 2.97s\tremaining: 21.8s\n",
      "60:\tlearn: 0.8692814\ttest: 0.8372213\tbest: 0.8372213 (60)\ttotal: 3.02s\tremaining: 21.8s\n",
      "61:\tlearn: 0.8697295\ttest: 0.8375139\tbest: 0.8375139 (61)\ttotal: 3.08s\tremaining: 21.8s\n",
      "62:\tlearn: 0.8700048\ttest: 0.8384951\tbest: 0.8384951 (62)\ttotal: 3.14s\tremaining: 21.8s\n",
      "63:\tlearn: 0.8700719\ttest: 0.8387918\tbest: 0.8387918 (63)\ttotal: 3.19s\tremaining: 21.7s\n",
      "64:\tlearn: 0.8705405\ttest: 0.8391370\tbest: 0.8391370 (64)\ttotal: 3.24s\tremaining: 21.7s\n",
      "65:\tlearn: 0.8708258\ttest: 0.8397581\tbest: 0.8397581 (65)\ttotal: 3.3s\tremaining: 21.7s\n",
      "66:\tlearn: 0.8709152\ttest: 0.8400577\tbest: 0.8400577 (66)\ttotal: 3.35s\tremaining: 21.7s\n",
      "67:\tlearn: 0.8711466\ttest: 0.8401048\tbest: 0.8401048 (67)\ttotal: 3.39s\tremaining: 21.6s\n",
      "68:\tlearn: 0.8716104\ttest: 0.8398306\tbest: 0.8401048 (67)\ttotal: 3.44s\tremaining: 21.5s\n",
      "69:\tlearn: 0.8713848\ttest: 0.8402079\tbest: 0.8402079 (69)\ttotal: 3.48s\tremaining: 21.4s\n",
      "70:\tlearn: 0.8716819\ttest: 0.8406115\tbest: 0.8406115 (70)\ttotal: 3.54s\tremaining: 21.4s\n",
      "71:\tlearn: 0.8719325\ttest: 0.8409575\tbest: 0.8409575 (71)\ttotal: 3.59s\tremaining: 21.3s\n",
      "72:\tlearn: 0.8719069\ttest: 0.8409508\tbest: 0.8409575 (71)\ttotal: 3.65s\tremaining: 21.3s\n",
      "73:\tlearn: 0.8722467\ttest: 0.8416649\tbest: 0.8416649 (73)\ttotal: 3.7s\tremaining: 21.3s\n",
      "74:\tlearn: 0.8727385\ttest: 0.8416761\tbest: 0.8416761 (74)\ttotal: 3.76s\tremaining: 21.3s\n",
      "75:\tlearn: 0.8730596\ttest: 0.8421088\tbest: 0.8421088 (75)\ttotal: 3.82s\tremaining: 21.3s\n",
      "76:\tlearn: 0.8732250\ttest: 0.8424619\tbest: 0.8424619 (76)\ttotal: 3.87s\tremaining: 21.2s\n",
      "77:\tlearn: 0.8733118\ttest: 0.8427683\tbest: 0.8427683 (77)\ttotal: 3.92s\tremaining: 21.2s\n",
      "78:\tlearn: 0.8737464\ttest: 0.8432066\tbest: 0.8432066 (78)\ttotal: 3.97s\tremaining: 21.2s\n",
      "79:\tlearn: 0.8739559\ttest: 0.8438500\tbest: 0.8438500 (79)\ttotal: 4.03s\tremaining: 21.1s\n",
      "80:\tlearn: 0.8741718\ttest: 0.8439745\tbest: 0.8439745 (80)\ttotal: 4.08s\tremaining: 21.1s\n",
      "81:\tlearn: 0.8741246\ttest: 0.8439797\tbest: 0.8439797 (81)\ttotal: 4.13s\tremaining: 21.1s\n",
      "82:\tlearn: 0.8747254\ttest: 0.8439386\tbest: 0.8439797 (81)\ttotal: 4.18s\tremaining: 21s\n",
      "83:\tlearn: 0.8749874\ttest: 0.8442734\tbest: 0.8442734 (83)\ttotal: 4.24s\tremaining: 21s\n",
      "84:\tlearn: 0.8752208\ttest: 0.8446399\tbest: 0.8446399 (84)\ttotal: 4.3s\tremaining: 21s\n",
      "85:\tlearn: 0.8754572\ttest: 0.8448895\tbest: 0.8448895 (85)\ttotal: 4.35s\tremaining: 20.9s\n",
      "86:\tlearn: 0.8754929\ttest: 0.8449434\tbest: 0.8449434 (86)\ttotal: 4.39s\tremaining: 20.9s\n",
      "87:\tlearn: 0.8757566\ttest: 0.8448006\tbest: 0.8449434 (86)\ttotal: 4.44s\tremaining: 20.8s\n",
      "88:\tlearn: 0.8758910\ttest: 0.8448253\tbest: 0.8449434 (86)\ttotal: 4.51s\tremaining: 20.8s\n",
      "89:\tlearn: 0.8759041\ttest: 0.8448073\tbest: 0.8449434 (86)\ttotal: 4.56s\tremaining: 20.8s\n",
      "90:\tlearn: 0.8760403\ttest: 0.8449075\tbest: 0.8449434 (86)\ttotal: 4.61s\tremaining: 20.7s\n",
      "91:\tlearn: 0.8761759\ttest: 0.8450188\tbest: 0.8450188 (91)\ttotal: 4.67s\tremaining: 20.7s\n",
      "92:\tlearn: 0.8764432\ttest: 0.8453394\tbest: 0.8453394 (92)\ttotal: 4.72s\tremaining: 20.7s\n",
      "93:\tlearn: 0.8766899\ttest: 0.8454896\tbest: 0.8454896 (93)\ttotal: 4.78s\tremaining: 20.6s\n",
      "94:\tlearn: 0.8768316\ttest: 0.8456137\tbest: 0.8456137 (94)\ttotal: 4.83s\tremaining: 20.6s\n",
      "95:\tlearn: 0.8770317\ttest: 0.8458252\tbest: 0.8458252 (95)\ttotal: 4.88s\tremaining: 20.5s\n"
     ]
    },
    {
     "name": "stdout",
     "output_type": "stream",
     "text": [
      "96:\tlearn: 0.8772853\ttest: 0.8455890\tbest: 0.8458252 (95)\ttotal: 4.93s\tremaining: 20.5s\n",
      "97:\tlearn: 0.8774640\ttest: 0.8458708\tbest: 0.8458708 (97)\ttotal: 4.99s\tremaining: 20.5s\n",
      "98:\tlearn: 0.8775915\ttest: 0.8459672\tbest: 0.8459672 (98)\ttotal: 5.05s\tremaining: 20.4s\n",
      "99:\tlearn: 0.8776684\ttest: 0.8462624\tbest: 0.8462624 (99)\ttotal: 5.1s\tremaining: 20.4s\n",
      "100:\tlearn: 0.8779402\ttest: 0.8462893\tbest: 0.8462893 (100)\ttotal: 5.16s\tremaining: 20.4s\n",
      "101:\tlearn: 0.8779819\ttest: 0.8462392\tbest: 0.8462893 (100)\ttotal: 5.22s\tremaining: 20.4s\n",
      "102:\tlearn: 0.8781178\ttest: 0.8463289\tbest: 0.8463289 (102)\ttotal: 5.27s\tremaining: 20.3s\n",
      "103:\tlearn: 0.8782798\ttest: 0.8462975\tbest: 0.8463289 (102)\ttotal: 5.32s\tremaining: 20.3s\n",
      "104:\tlearn: 0.8784080\ttest: 0.8465449\tbest: 0.8465449 (104)\ttotal: 5.38s\tremaining: 20.2s\n",
      "105:\tlearn: 0.8784972\ttest: 0.8467526\tbest: 0.8467526 (105)\ttotal: 5.43s\tremaining: 20.2s\n",
      "106:\tlearn: 0.8786574\ttest: 0.8468528\tbest: 0.8468528 (106)\ttotal: 5.49s\tremaining: 20.2s\n",
      "107:\tlearn: 0.8787460\ttest: 0.8469783\tbest: 0.8469783 (107)\ttotal: 5.54s\tremaining: 20.1s\n",
      "108:\tlearn: 0.8788231\ttest: 0.8468976\tbest: 0.8469783 (107)\ttotal: 5.59s\tremaining: 20.1s\n",
      "109:\tlearn: 0.8788544\ttest: 0.8470037\tbest: 0.8470037 (109)\ttotal: 5.66s\tremaining: 20.1s\n",
      "110:\tlearn: 0.8791392\ttest: 0.8473101\tbest: 0.8473101 (110)\ttotal: 5.71s\tremaining: 20s\n",
      "111:\tlearn: 0.8791917\ttest: 0.8474962\tbest: 0.8474962 (111)\ttotal: 5.76s\tremaining: 20s\n",
      "112:\tlearn: 0.8793635\ttest: 0.8476094\tbest: 0.8476094 (112)\ttotal: 5.81s\tremaining: 19.9s\n",
      "113:\tlearn: 0.8794696\ttest: 0.8476117\tbest: 0.8476117 (113)\ttotal: 5.88s\tremaining: 19.9s\n",
      "114:\tlearn: 0.8795737\ttest: 0.8478247\tbest: 0.8478247 (114)\ttotal: 5.92s\tremaining: 19.8s\n",
      "115:\tlearn: 0.8797020\ttest: 0.8478478\tbest: 0.8478478 (115)\ttotal: 5.98s\tremaining: 19.8s\n",
      "116:\tlearn: 0.8800015\ttest: 0.8481124\tbest: 0.8481124 (116)\ttotal: 6.03s\tremaining: 19.7s\n",
      "117:\tlearn: 0.8802956\ttest: 0.8478762\tbest: 0.8481124 (116)\ttotal: 6.08s\tremaining: 19.7s\n",
      "118:\tlearn: 0.8803282\ttest: 0.8479442\tbest: 0.8481124 (116)\ttotal: 6.13s\tremaining: 19.6s\n",
      "119:\tlearn: 0.8803638\ttest: 0.8478773\tbest: 0.8481124 (116)\ttotal: 6.19s\tremaining: 19.6s\n",
      "120:\tlearn: 0.8806491\ttest: 0.8477750\tbest: 0.8481124 (116)\ttotal: 6.24s\tremaining: 19.6s\n",
      "121:\tlearn: 0.8808431\ttest: 0.8477869\tbest: 0.8481124 (116)\ttotal: 6.3s\tremaining: 19.5s\n",
      "122:\tlearn: 0.8809178\ttest: 0.8478116\tbest: 0.8481124 (116)\ttotal: 6.35s\tremaining: 19.5s\n",
      "123:\tlearn: 0.8811298\ttest: 0.8477921\tbest: 0.8481124 (116)\ttotal: 6.4s\tremaining: 19.4s\n",
      "124:\tlearn: 0.8812236\ttest: 0.8476053\tbest: 0.8481124 (116)\ttotal: 6.45s\tremaining: 19.4s\n",
      "125:\tlearn: 0.8813454\ttest: 0.8476300\tbest: 0.8481124 (116)\ttotal: 6.51s\tremaining: 19.3s\n",
      "126:\tlearn: 0.8815224\ttest: 0.8474633\tbest: 0.8481124 (116)\ttotal: 6.56s\tremaining: 19.3s\n",
      "127:\tlearn: 0.8815817\ttest: 0.8473785\tbest: 0.8481124 (116)\ttotal: 6.61s\tremaining: 19.2s\n",
      "128:\tlearn: 0.8818262\ttest: 0.8471595\tbest: 0.8481124 (116)\ttotal: 6.66s\tremaining: 19.2s\n",
      "129:\tlearn: 0.8819699\ttest: 0.8472201\tbest: 0.8481124 (116)\ttotal: 6.71s\tremaining: 19.1s\n",
      "130:\tlearn: 0.8821178\ttest: 0.8472193\tbest: 0.8481124 (116)\ttotal: 6.77s\tremaining: 19.1s\n",
      "131:\tlearn: 0.8823545\ttest: 0.8471610\tbest: 0.8481124 (116)\ttotal: 6.82s\tremaining: 19s\n",
      "132:\tlearn: 0.8825115\ttest: 0.8472425\tbest: 0.8481124 (116)\ttotal: 6.87s\tremaining: 19s\n",
      "133:\tlearn: 0.8825050\ttest: 0.8473015\tbest: 0.8481124 (116)\ttotal: 6.93s\tremaining: 18.9s\n",
      "134:\tlearn: 0.8825912\ttest: 0.8472227\tbest: 0.8481124 (116)\ttotal: 6.98s\tremaining: 18.9s\n",
      "135:\tlearn: 0.8826761\ttest: 0.8472010\tbest: 0.8481124 (116)\ttotal: 7.04s\tremaining: 18.8s\n",
      "136:\tlearn: 0.8827131\ttest: 0.8472025\tbest: 0.8481124 (116)\ttotal: 7.09s\tremaining: 18.8s\n",
      "137:\tlearn: 0.8829910\ttest: 0.8471397\tbest: 0.8481124 (116)\ttotal: 7.15s\tremaining: 18.7s\n",
      "138:\tlearn: 0.8831453\ttest: 0.8471995\tbest: 0.8481124 (116)\ttotal: 7.2s\tremaining: 18.7s\n",
      "139:\tlearn: 0.8831696\ttest: 0.8472743\tbest: 0.8481124 (116)\ttotal: 7.25s\tremaining: 18.7s\n",
      "140:\tlearn: 0.8832176\ttest: 0.8474245\tbest: 0.8481124 (116)\ttotal: 7.3s\tremaining: 18.6s\n",
      "141:\tlearn: 0.8834241\ttest: 0.8472556\tbest: 0.8481124 (116)\ttotal: 7.35s\tremaining: 18.5s\n",
      "142:\tlearn: 0.8837691\ttest: 0.8471741\tbest: 0.8481124 (116)\ttotal: 7.41s\tremaining: 18.5s\n",
      "143:\tlearn: 0.8839091\ttest: 0.8472421\tbest: 0.8481124 (116)\ttotal: 7.46s\tremaining: 18.4s\n",
      "144:\tlearn: 0.8838759\ttest: 0.8472578\tbest: 0.8481124 (116)\ttotal: 7.51s\tremaining: 18.4s\n",
      "145:\tlearn: 0.8839504\ttest: 0.8474342\tbest: 0.8481124 (116)\ttotal: 7.57s\tremaining: 18.4s\n",
      "146:\tlearn: 0.8840994\ttest: 0.8474028\tbest: 0.8481124 (116)\ttotal: 7.63s\tremaining: 18.3s\n",
      "147:\tlearn: 0.8841977\ttest: 0.8476083\tbest: 0.8481124 (116)\ttotal: 7.68s\tremaining: 18.3s\n",
      "148:\tlearn: 0.8843886\ttest: 0.8477152\tbest: 0.8481124 (116)\ttotal: 7.73s\tremaining: 18.2s\n",
      "149:\tlearn: 0.8845145\ttest: 0.8475605\tbest: 0.8481124 (116)\ttotal: 7.78s\tremaining: 18.2s\n",
      "150:\tlearn: 0.8846444\ttest: 0.8475493\tbest: 0.8481124 (116)\ttotal: 7.84s\tremaining: 18.1s\n",
      "151:\tlearn: 0.8847820\ttest: 0.8475769\tbest: 0.8481124 (116)\ttotal: 7.89s\tremaining: 18.1s\n",
      "152:\tlearn: 0.8849213\ttest: 0.8478288\tbest: 0.8481124 (116)\ttotal: 7.94s\tremaining: 18s\n",
      "153:\tlearn: 0.8852926\ttest: 0.8477167\tbest: 0.8481124 (116)\ttotal: 7.99s\tremaining: 17.9s\n",
      "154:\tlearn: 0.8854235\ttest: 0.8478467\tbest: 0.8481124 (116)\ttotal: 8.04s\tremaining: 17.9s\n",
      "155:\tlearn: 0.8854408\ttest: 0.8478900\tbest: 0.8481124 (116)\ttotal: 8.09s\tremaining: 17.8s\n",
      "156:\tlearn: 0.8855582\ttest: 0.8478587\tbest: 0.8481124 (116)\ttotal: 8.14s\tremaining: 17.8s\n",
      "157:\tlearn: 0.8857246\ttest: 0.8478198\tbest: 0.8481124 (116)\ttotal: 8.19s\tremaining: 17.7s\n",
      "158:\tlearn: 0.8859183\ttest: 0.8478362\tbest: 0.8481124 (116)\ttotal: 8.25s\tremaining: 17.7s\n",
      "159:\tlearn: 0.8860075\ttest: 0.8478183\tbest: 0.8481124 (116)\ttotal: 8.3s\tremaining: 17.6s\n",
      "160:\tlearn: 0.8860680\ttest: 0.8478258\tbest: 0.8481124 (116)\ttotal: 8.37s\tremaining: 17.6s\n",
      "161:\tlearn: 0.8862376\ttest: 0.8479364\tbest: 0.8481124 (116)\ttotal: 8.45s\tremaining: 17.6s\n",
      "162:\tlearn: 0.8864930\ttest: 0.8478475\tbest: 0.8481124 (116)\ttotal: 8.53s\tremaining: 17.6s\n",
      "163:\tlearn: 0.8867101\ttest: 0.8478549\tbest: 0.8481124 (116)\ttotal: 8.6s\tremaining: 17.6s\n",
      "164:\tlearn: 0.8869153\ttest: 0.8478744\tbest: 0.8481124 (116)\ttotal: 8.68s\tremaining: 17.6s\n",
      "165:\tlearn: 0.8869074\ttest: 0.8478803\tbest: 0.8481124 (116)\ttotal: 8.73s\tremaining: 17.6s\n",
      "166:\tlearn: 0.8869716\ttest: 0.8479222\tbest: 0.8481124 (116)\ttotal: 8.79s\tremaining: 17.5s\n",
      "167:\tlearn: 0.8869600\ttest: 0.8479289\tbest: 0.8481124 (116)\ttotal: 8.83s\tremaining: 17.4s\n",
      "168:\tlearn: 0.8871052\ttest: 0.8478811\tbest: 0.8481124 (116)\ttotal: 8.88s\tremaining: 17.4s\n",
      "169:\tlearn: 0.8872564\ttest: 0.8477466\tbest: 0.8481124 (116)\ttotal: 8.94s\tremaining: 17.4s\n",
      "170:\tlearn: 0.8873890\ttest: 0.8477331\tbest: 0.8481124 (116)\ttotal: 8.99s\tremaining: 17.3s\n",
      "171:\tlearn: 0.8874995\ttest: 0.8477802\tbest: 0.8481124 (116)\ttotal: 9.04s\tremaining: 17.2s\n",
      "172:\tlearn: 0.8875555\ttest: 0.8478676\tbest: 0.8481124 (116)\ttotal: 9.1s\tremaining: 17.2s\n",
      "173:\tlearn: 0.8876668\ttest: 0.8478527\tbest: 0.8481124 (116)\ttotal: 9.16s\tremaining: 17.2s\n",
      "174:\tlearn: 0.8877389\ttest: 0.8478579\tbest: 0.8481124 (116)\ttotal: 9.21s\tremaining: 17.1s\n",
      "175:\tlearn: 0.8877318\ttest: 0.8478527\tbest: 0.8481124 (116)\ttotal: 9.25s\tremaining: 17s\n",
      "176:\tlearn: 0.8878773\ttest: 0.8478706\tbest: 0.8481124 (116)\ttotal: 9.3s\tremaining: 17s\n",
      "177:\tlearn: 0.8880197\ttest: 0.8478430\tbest: 0.8481124 (116)\ttotal: 9.36s\tremaining: 16.9s\n",
      "178:\tlearn: 0.8881339\ttest: 0.8478280\tbest: 0.8481124 (116)\ttotal: 9.42s\tremaining: 16.9s\n",
      "179:\tlearn: 0.8881817\ttest: 0.8476898\tbest: 0.8481124 (116)\ttotal: 9.48s\tremaining: 16.9s\n",
      "180:\tlearn: 0.8881876\ttest: 0.8477234\tbest: 0.8481124 (116)\ttotal: 9.53s\tremaining: 16.8s\n",
      "181:\tlearn: 0.8882772\ttest: 0.8477309\tbest: 0.8481124 (116)\ttotal: 9.58s\tremaining: 16.7s\n",
      "182:\tlearn: 0.8884402\ttest: 0.8476001\tbest: 0.8481124 (116)\ttotal: 9.63s\tremaining: 16.7s\n",
      "183:\tlearn: 0.8885208\ttest: 0.8476696\tbest: 0.8481124 (116)\ttotal: 9.69s\tremaining: 16.6s\n",
      "184:\tlearn: 0.8885874\ttest: 0.8477794\tbest: 0.8481124 (116)\ttotal: 9.75s\tremaining: 16.6s\n",
      "185:\tlearn: 0.8886283\ttest: 0.8477608\tbest: 0.8481124 (116)\ttotal: 9.8s\tremaining: 16.5s\n",
      "186:\tlearn: 0.8886858\ttest: 0.8477839\tbest: 0.8481124 (116)\ttotal: 9.86s\tremaining: 16.5s\n",
      "187:\tlearn: 0.8887676\ttest: 0.8478714\tbest: 0.8481124 (116)\ttotal: 9.91s\tremaining: 16.5s\n",
      "188:\tlearn: 0.8888664\ttest: 0.8480298\tbest: 0.8481124 (116)\ttotal: 9.96s\tremaining: 16.4s\n",
      "189:\tlearn: 0.8889426\ttest: 0.8481225\tbest: 0.8481225 (189)\ttotal: 10s\tremaining: 16.3s\n"
     ]
    },
    {
     "name": "stdout",
     "output_type": "stream",
     "text": [
      "190:\tlearn: 0.8889747\ttest: 0.8480739\tbest: 0.8481225 (189)\ttotal: 10.1s\tremaining: 16.3s\n",
      "191:\tlearn: 0.8890560\ttest: 0.8481942\tbest: 0.8481942 (191)\ttotal: 10.1s\tremaining: 16.3s\n",
      "192:\tlearn: 0.8890962\ttest: 0.8481651\tbest: 0.8481942 (191)\ttotal: 10.2s\tremaining: 16.2s\n",
      "193:\tlearn: 0.8891900\ttest: 0.8482503\tbest: 0.8482503 (193)\ttotal: 10.2s\tremaining: 16.2s\n",
      "194:\tlearn: 0.8891976\ttest: 0.8482555\tbest: 0.8482555 (194)\ttotal: 10.3s\tremaining: 16.1s\n",
      "195:\tlearn: 0.8893048\ttest: 0.8482831\tbest: 0.8482831 (195)\ttotal: 10.3s\tremaining: 16.1s\n",
      "196:\tlearn: 0.8895487\ttest: 0.8483048\tbest: 0.8483048 (196)\ttotal: 10.4s\tremaining: 16s\n",
      "197:\tlearn: 0.8897014\ttest: 0.8481979\tbest: 0.8483048 (196)\ttotal: 10.5s\tremaining: 15.9s\n",
      "198:\tlearn: 0.8896989\ttest: 0.8482009\tbest: 0.8483048 (196)\ttotal: 10.5s\tremaining: 15.9s\n",
      "199:\tlearn: 0.8898898\ttest: 0.8482577\tbest: 0.8483048 (196)\ttotal: 10.6s\tremaining: 15.8s\n",
      "200:\tlearn: 0.8900891\ttest: 0.8481561\tbest: 0.8483048 (196)\ttotal: 10.6s\tremaining: 15.8s\n",
      "201:\tlearn: 0.8902738\ttest: 0.8481867\tbest: 0.8483048 (196)\ttotal: 10.7s\tremaining: 15.7s\n",
      "202:\tlearn: 0.8903104\ttest: 0.8482450\tbest: 0.8483048 (196)\ttotal: 10.7s\tremaining: 15.7s\n",
      "203:\tlearn: 0.8903868\ttest: 0.8482660\tbest: 0.8483048 (196)\ttotal: 10.8s\tremaining: 15.6s\n",
      "204:\tlearn: 0.8904641\ttest: 0.8482899\tbest: 0.8483048 (196)\ttotal: 10.8s\tremaining: 15.6s\n",
      "205:\tlearn: 0.8905662\ttest: 0.8482219\tbest: 0.8483048 (196)\ttotal: 10.9s\tremaining: 15.5s\n",
      "206:\tlearn: 0.8906313\ttest: 0.8481666\tbest: 0.8483048 (196)\ttotal: 10.9s\tremaining: 15.5s\n",
      "207:\tlearn: 0.8907832\ttest: 0.8479693\tbest: 0.8483048 (196)\ttotal: 11s\tremaining: 15.4s\n",
      "208:\tlearn: 0.8908201\ttest: 0.8480500\tbest: 0.8483048 (196)\ttotal: 11s\tremaining: 15.4s\n",
      "209:\tlearn: 0.8908959\ttest: 0.8480268\tbest: 0.8483048 (196)\ttotal: 11.1s\tremaining: 15.3s\n",
      "210:\tlearn: 0.8908918\ttest: 0.8480223\tbest: 0.8483048 (196)\ttotal: 11.1s\tremaining: 15.2s\n",
      "211:\tlearn: 0.8910736\ttest: 0.8480470\tbest: 0.8483048 (196)\ttotal: 11.2s\tremaining: 15.2s\n",
      "212:\tlearn: 0.8912461\ttest: 0.8479536\tbest: 0.8483048 (196)\ttotal: 11.2s\tremaining: 15.1s\n",
      "213:\tlearn: 0.8913519\ttest: 0.8479603\tbest: 0.8483048 (196)\ttotal: 11.3s\tremaining: 15.1s\n",
      "214:\tlearn: 0.8914628\ttest: 0.8479513\tbest: 0.8483048 (196)\ttotal: 11.3s\tremaining: 15s\n",
      "215:\tlearn: 0.8915521\ttest: 0.8480485\tbest: 0.8483048 (196)\ttotal: 11.4s\tremaining: 15s\n",
      "216:\tlearn: 0.8917004\ttest: 0.8480328\tbest: 0.8483048 (196)\ttotal: 11.4s\tremaining: 14.9s\n",
      "217:\tlearn: 0.8918036\ttest: 0.8480388\tbest: 0.8483048 (196)\ttotal: 11.5s\tremaining: 14.9s\n",
      "218:\tlearn: 0.8919617\ttest: 0.8480485\tbest: 0.8483048 (196)\ttotal: 11.5s\tremaining: 14.8s\n",
      "219:\tlearn: 0.8922075\ttest: 0.8480044\tbest: 0.8483048 (196)\ttotal: 11.6s\tremaining: 14.8s\n",
      "220:\tlearn: 0.8923471\ttest: 0.8478721\tbest: 0.8483048 (196)\ttotal: 11.7s\tremaining: 14.7s\n",
      "221:\tlearn: 0.8924923\ttest: 0.8478826\tbest: 0.8483048 (196)\ttotal: 11.7s\tremaining: 14.7s\n",
      "222:\tlearn: 0.8926067\ttest: 0.8478893\tbest: 0.8483048 (196)\ttotal: 11.8s\tremaining: 14.6s\n",
      "223:\tlearn: 0.8927687\ttest: 0.8477996\tbest: 0.8483048 (196)\ttotal: 11.8s\tremaining: 14.5s\n",
      "224:\tlearn: 0.8928920\ttest: 0.8478714\tbest: 0.8483048 (196)\ttotal: 11.9s\tremaining: 14.5s\n",
      "225:\tlearn: 0.8929414\ttest: 0.8479244\tbest: 0.8483048 (196)\ttotal: 11.9s\tremaining: 14.4s\n",
      "226:\tlearn: 0.8929675\ttest: 0.8479566\tbest: 0.8483048 (196)\ttotal: 12s\tremaining: 14.4s\n",
      "227:\tlearn: 0.8930961\ttest: 0.8479820\tbest: 0.8483048 (196)\ttotal: 12s\tremaining: 14.3s\n",
      "228:\tlearn: 0.8931321\ttest: 0.8480380\tbest: 0.8483048 (196)\ttotal: 12.1s\tremaining: 14.3s\n",
      "229:\tlearn: 0.8932774\ttest: 0.8480021\tbest: 0.8483048 (196)\ttotal: 12.1s\tremaining: 14.2s\n",
      "230:\tlearn: 0.8933852\ttest: 0.8479521\tbest: 0.8483048 (196)\ttotal: 12.2s\tremaining: 14.2s\n",
      "231:\tlearn: 0.8934715\ttest: 0.8479588\tbest: 0.8483048 (196)\ttotal: 12.2s\tremaining: 14.1s\n",
      "232:\tlearn: 0.8935672\ttest: 0.8480918\tbest: 0.8483048 (196)\ttotal: 12.3s\tremaining: 14.1s\n",
      "233:\tlearn: 0.8936995\ttest: 0.8481546\tbest: 0.8483048 (196)\ttotal: 12.3s\tremaining: 14s\n",
      "234:\tlearn: 0.8937686\ttest: 0.8482555\tbest: 0.8483048 (196)\ttotal: 12.4s\tremaining: 14s\n",
      "235:\tlearn: 0.8938625\ttest: 0.8483295\tbest: 0.8483295 (235)\ttotal: 12.4s\tremaining: 13.9s\n",
      "236:\tlearn: 0.8939730\ttest: 0.8483549\tbest: 0.8483549 (236)\ttotal: 12.5s\tremaining: 13.9s\n",
      "237:\tlearn: 0.8942149\ttest: 0.8482002\tbest: 0.8483549 (236)\ttotal: 12.5s\tremaining: 13.8s\n",
      "238:\tlearn: 0.8943420\ttest: 0.8483295\tbest: 0.8483549 (236)\ttotal: 12.6s\tremaining: 13.7s\n",
      "239:\tlearn: 0.8943581\ttest: 0.8483115\tbest: 0.8483549 (236)\ttotal: 12.6s\tremaining: 13.7s\n",
      "240:\tlearn: 0.8943730\ttest: 0.8483115\tbest: 0.8483549 (236)\ttotal: 12.7s\tremaining: 13.6s\n",
      "241:\tlearn: 0.8944789\ttest: 0.8484468\tbest: 0.8484468 (241)\ttotal: 12.7s\tremaining: 13.6s\n",
      "242:\tlearn: 0.8945599\ttest: 0.8484558\tbest: 0.8484558 (242)\ttotal: 12.8s\tremaining: 13.5s\n",
      "243:\tlearn: 0.8946227\ttest: 0.8484573\tbest: 0.8484573 (243)\ttotal: 12.8s\tremaining: 13.5s\n",
      "244:\tlearn: 0.8946664\ttest: 0.8484737\tbest: 0.8484737 (244)\ttotal: 12.9s\tremaining: 13.4s\n",
      "245:\tlearn: 0.8947657\ttest: 0.8485402\tbest: 0.8485402 (245)\ttotal: 13s\tremaining: 13.4s\n",
      "246:\tlearn: 0.8948653\ttest: 0.8485051\tbest: 0.8485402 (245)\ttotal: 13s\tremaining: 13.3s\n",
      "247:\tlearn: 0.8949937\ttest: 0.8484767\tbest: 0.8485402 (245)\ttotal: 13.1s\tremaining: 13.3s\n",
      "248:\tlearn: 0.8950479\ttest: 0.8484617\tbest: 0.8485402 (245)\ttotal: 13.1s\tremaining: 13.2s\n",
      "249:\tlearn: 0.8950912\ttest: 0.8484961\tbest: 0.8485402 (245)\ttotal: 13.2s\tremaining: 13.2s\n",
      "250:\tlearn: 0.8951603\ttest: 0.8485245\tbest: 0.8485402 (245)\ttotal: 13.2s\tremaining: 13.1s\n",
      "251:\tlearn: 0.8953766\ttest: 0.8485111\tbest: 0.8485402 (245)\ttotal: 13.3s\tremaining: 13.1s\n",
      "252:\tlearn: 0.8954676\ttest: 0.8484094\tbest: 0.8485402 (245)\ttotal: 13.3s\tremaining: 13s\n",
      "253:\tlearn: 0.8956175\ttest: 0.8484177\tbest: 0.8485402 (245)\ttotal: 13.4s\tremaining: 13s\n",
      "254:\tlearn: 0.8956791\ttest: 0.8484565\tbest: 0.8485402 (245)\ttotal: 13.4s\tremaining: 12.9s\n",
      "255:\tlearn: 0.8957945\ttest: 0.8485619\tbest: 0.8485619 (255)\ttotal: 13.5s\tremaining: 12.9s\n",
      "256:\tlearn: 0.8958852\ttest: 0.8485342\tbest: 0.8485619 (255)\ttotal: 13.5s\tremaining: 12.8s\n",
      "257:\tlearn: 0.8959968\ttest: 0.8485821\tbest: 0.8485821 (257)\ttotal: 13.6s\tremaining: 12.7s\n",
      "258:\tlearn: 0.8960531\ttest: 0.8486097\tbest: 0.8486097 (258)\ttotal: 13.6s\tremaining: 12.7s\n",
      "259:\tlearn: 0.8960572\ttest: 0.8486516\tbest: 0.8486516 (259)\ttotal: 13.7s\tremaining: 12.6s\n",
      "260:\tlearn: 0.8961817\ttest: 0.8486523\tbest: 0.8486523 (260)\ttotal: 13.8s\tremaining: 12.6s\n",
      "261:\tlearn: 0.8962078\ttest: 0.8486463\tbest: 0.8486523 (260)\ttotal: 13.8s\tremaining: 12.5s\n",
      "262:\tlearn: 0.8962139\ttest: 0.8486889\tbest: 0.8486889 (262)\ttotal: 13.9s\tremaining: 12.5s\n",
      "263:\tlearn: 0.8962202\ttest: 0.8487181\tbest: 0.8487181 (263)\ttotal: 13.9s\tremaining: 12.4s\n",
      "264:\tlearn: 0.8962286\ttest: 0.8487480\tbest: 0.8487480 (264)\ttotal: 13.9s\tremaining: 12.4s\n",
      "265:\tlearn: 0.8962352\ttest: 0.8487614\tbest: 0.8487614 (265)\ttotal: 14s\tremaining: 12.3s\n",
      "266:\tlearn: 0.8964001\ttest: 0.8487951\tbest: 0.8487951 (266)\ttotal: 14.1s\tremaining: 12.3s\n",
      "267:\tlearn: 0.8964751\ttest: 0.8487988\tbest: 0.8487988 (267)\ttotal: 14.1s\tremaining: 12.2s\n",
      "268:\tlearn: 0.8967225\ttest: 0.8487450\tbest: 0.8487988 (267)\ttotal: 14.2s\tremaining: 12.2s\n",
      "269:\tlearn: 0.8967272\ttest: 0.8487719\tbest: 0.8487988 (267)\ttotal: 14.2s\tremaining: 12.1s\n",
      "270:\tlearn: 0.8967736\ttest: 0.8487457\tbest: 0.8487988 (267)\ttotal: 14.3s\tremaining: 12s\n",
      "271:\tlearn: 0.8967810\ttest: 0.8487569\tbest: 0.8487988 (267)\ttotal: 14.3s\tremaining: 12s\n",
      "272:\tlearn: 0.8968147\ttest: 0.8488264\tbest: 0.8488264 (272)\ttotal: 14.4s\tremaining: 11.9s\n",
      "273:\tlearn: 0.8969081\ttest: 0.8488511\tbest: 0.8488511 (273)\ttotal: 14.4s\tremaining: 11.9s\n",
      "274:\tlearn: 0.8969992\ttest: 0.8487704\tbest: 0.8488511 (273)\ttotal: 14.5s\tremaining: 11.8s\n",
      "275:\tlearn: 0.8970774\ttest: 0.8485208\tbest: 0.8488511 (273)\ttotal: 14.5s\tremaining: 11.8s\n",
      "276:\tlearn: 0.8971676\ttest: 0.8486164\tbest: 0.8488511 (273)\ttotal: 14.6s\tremaining: 11.7s\n",
      "277:\tlearn: 0.8972631\ttest: 0.8486859\tbest: 0.8488511 (273)\ttotal: 14.6s\tremaining: 11.7s\n",
      "278:\tlearn: 0.8972665\ttest: 0.8486837\tbest: 0.8488511 (273)\ttotal: 14.7s\tremaining: 11.6s\n",
      "279:\tlearn: 0.8974003\ttest: 0.8487248\tbest: 0.8488511 (273)\ttotal: 14.7s\tremaining: 11.6s\n",
      "280:\tlearn: 0.8974866\ttest: 0.8486605\tbest: 0.8488511 (273)\ttotal: 14.8s\tremaining: 11.5s\n",
      "281:\tlearn: 0.8975307\ttest: 0.8486568\tbest: 0.8488511 (273)\ttotal: 14.8s\tremaining: 11.5s\n",
      "282:\tlearn: 0.8975619\ttest: 0.8486150\tbest: 0.8488511 (273)\ttotal: 14.9s\tremaining: 11.4s\n",
      "283:\tlearn: 0.8976526\ttest: 0.8486060\tbest: 0.8488511 (273)\ttotal: 14.9s\tremaining: 11.4s\n",
      "284:\tlearn: 0.8977602\ttest: 0.8485432\tbest: 0.8488511 (273)\ttotal: 15s\tremaining: 11.3s\n"
     ]
    },
    {
     "name": "stdout",
     "output_type": "stream",
     "text": [
      "285:\tlearn: 0.8978595\ttest: 0.8485499\tbest: 0.8488511 (273)\ttotal: 15s\tremaining: 11.3s\n",
      "286:\tlearn: 0.8979971\ttest: 0.8485798\tbest: 0.8488511 (273)\ttotal: 15.1s\tremaining: 11.2s\n",
      "287:\tlearn: 0.8980568\ttest: 0.8485462\tbest: 0.8488511 (273)\ttotal: 15.1s\tremaining: 11.1s\n",
      "288:\tlearn: 0.8980880\ttest: 0.8486411\tbest: 0.8488511 (273)\ttotal: 15.2s\tremaining: 11.1s\n",
      "289:\tlearn: 0.8981756\ttest: 0.8485933\tbest: 0.8488511 (273)\ttotal: 15.2s\tremaining: 11s\n",
      "290:\tlearn: 0.8982982\ttest: 0.8487121\tbest: 0.8488511 (273)\ttotal: 15.3s\tremaining: 11s\n",
      "291:\tlearn: 0.8984141\ttest: 0.8488294\tbest: 0.8488511 (273)\ttotal: 15.3s\tremaining: 10.9s\n",
      "292:\tlearn: 0.8985170\ttest: 0.8488339\tbest: 0.8488511 (273)\ttotal: 15.4s\tremaining: 10.9s\n",
      "293:\tlearn: 0.8986108\ttest: 0.8488989\tbest: 0.8488989 (293)\ttotal: 15.4s\tremaining: 10.8s\n",
      "294:\tlearn: 0.8987259\ttest: 0.8487794\tbest: 0.8488989 (293)\ttotal: 15.5s\tremaining: 10.8s\n",
      "295:\tlearn: 0.8987812\ttest: 0.8487263\tbest: 0.8488989 (293)\ttotal: 15.6s\tremaining: 10.7s\n",
      "296:\tlearn: 0.8988433\ttest: 0.8487121\tbest: 0.8488989 (293)\ttotal: 15.6s\tremaining: 10.7s\n",
      "297:\tlearn: 0.8989459\ttest: 0.8486680\tbest: 0.8488989 (293)\ttotal: 15.7s\tremaining: 10.6s\n",
      "298:\tlearn: 0.8990391\ttest: 0.8485171\tbest: 0.8488989 (293)\ttotal: 15.7s\tremaining: 10.6s\n",
      "299:\tlearn: 0.8991078\ttest: 0.8485036\tbest: 0.8488989 (293)\ttotal: 15.8s\tremaining: 10.5s\n",
      "300:\tlearn: 0.8991687\ttest: 0.8485537\tbest: 0.8488989 (293)\ttotal: 15.8s\tremaining: 10.5s\n",
      "301:\tlearn: 0.8992176\ttest: 0.8484580\tbest: 0.8488989 (293)\ttotal: 15.9s\tremaining: 10.4s\n",
      "302:\tlearn: 0.8992600\ttest: 0.8485253\tbest: 0.8488989 (293)\ttotal: 15.9s\tremaining: 10.3s\n",
      "303:\tlearn: 0.8992753\ttest: 0.8485305\tbest: 0.8488989 (293)\ttotal: 16s\tremaining: 10.3s\n",
      "304:\tlearn: 0.8993519\ttest: 0.8484102\tbest: 0.8488989 (293)\ttotal: 16s\tremaining: 10.2s\n",
      "305:\tlearn: 0.8994744\ttest: 0.8484132\tbest: 0.8488989 (293)\ttotal: 16.1s\tremaining: 10.2s\n",
      "306:\tlearn: 0.8996112\ttest: 0.8483713\tbest: 0.8488989 (293)\ttotal: 16.1s\tremaining: 10.1s\n",
      "307:\tlearn: 0.8997422\ttest: 0.8483100\tbest: 0.8488989 (293)\ttotal: 16.2s\tremaining: 10.1s\n",
      "308:\tlearn: 0.8997738\ttest: 0.8483235\tbest: 0.8488989 (293)\ttotal: 16.2s\tremaining: 10s\n",
      "309:\tlearn: 0.8998298\ttest: 0.8482435\tbest: 0.8488989 (293)\ttotal: 16.3s\tremaining: 9.98s\n",
      "310:\tlearn: 0.9000548\ttest: 0.8482361\tbest: 0.8488989 (293)\ttotal: 16.3s\tremaining: 9.93s\n",
      "311:\tlearn: 0.9000662\ttest: 0.8482488\tbest: 0.8488989 (293)\ttotal: 16.4s\tremaining: 9.87s\n",
      "312:\tlearn: 0.9000707\ttest: 0.8482839\tbest: 0.8488989 (293)\ttotal: 16.4s\tremaining: 9.82s\n",
      "313:\tlearn: 0.9001522\ttest: 0.8483250\tbest: 0.8488989 (293)\ttotal: 16.5s\tremaining: 9.76s\n",
      "314:\tlearn: 0.9001992\ttest: 0.8483840\tbest: 0.8488989 (293)\ttotal: 16.5s\tremaining: 9.71s\n",
      "315:\tlearn: 0.9002425\ttest: 0.8483915\tbest: 0.8488989 (293)\ttotal: 16.6s\tremaining: 9.66s\n",
      "316:\tlearn: 0.9003197\ttest: 0.8484296\tbest: 0.8488989 (293)\ttotal: 16.6s\tremaining: 9.61s\n",
      "317:\tlearn: 0.9003736\ttest: 0.8483825\tbest: 0.8488989 (293)\ttotal: 16.7s\tremaining: 9.55s\n",
      "318:\tlearn: 0.9004055\ttest: 0.8483773\tbest: 0.8488989 (293)\ttotal: 16.7s\tremaining: 9.5s\n",
      "319:\tlearn: 0.9004616\ttest: 0.8483848\tbest: 0.8488989 (293)\ttotal: 16.8s\tremaining: 9.45s\n",
      "320:\tlearn: 0.9005264\ttest: 0.8484251\tbest: 0.8488989 (293)\ttotal: 16.9s\tremaining: 9.4s\n",
      "321:\tlearn: 0.9005700\ttest: 0.8484730\tbest: 0.8488989 (293)\ttotal: 16.9s\tremaining: 9.35s\n",
      "322:\tlearn: 0.9007466\ttest: 0.8483915\tbest: 0.8488989 (293)\ttotal: 17s\tremaining: 9.29s\n",
      "323:\tlearn: 0.9008264\ttest: 0.8484461\tbest: 0.8488989 (293)\ttotal: 17s\tremaining: 9.24s\n",
      "324:\tlearn: 0.9008688\ttest: 0.8484610\tbest: 0.8488989 (293)\ttotal: 17.1s\tremaining: 9.19s\n",
      "325:\tlearn: 0.9008895\ttest: 0.8485193\tbest: 0.8488989 (293)\ttotal: 17.1s\tremaining: 9.13s\n",
      "326:\tlearn: 0.9009537\ttest: 0.8484677\tbest: 0.8488989 (293)\ttotal: 17.2s\tremaining: 9.08s\n",
      "327:\tlearn: 0.9010468\ttest: 0.8484759\tbest: 0.8488989 (293)\ttotal: 17.2s\tremaining: 9.03s\n",
      "328:\tlearn: 0.9011354\ttest: 0.8482891\tbest: 0.8488989 (293)\ttotal: 17.3s\tremaining: 8.97s\n",
      "329:\tlearn: 0.9012152\ttest: 0.8484304\tbest: 0.8488989 (293)\ttotal: 17.3s\tremaining: 8.92s\n",
      "330:\tlearn: 0.9012600\ttest: 0.8484797\tbest: 0.8488989 (293)\ttotal: 17.4s\tremaining: 8.87s\n",
      "331:\tlearn: 0.9013258\ttest: 0.8485208\tbest: 0.8488989 (293)\ttotal: 17.4s\tremaining: 8.81s\n",
      "332:\tlearn: 0.9013700\ttest: 0.8484969\tbest: 0.8488989 (293)\ttotal: 17.5s\tremaining: 8.76s\n",
      "333:\tlearn: 0.9014097\ttest: 0.8485298\tbest: 0.8488989 (293)\ttotal: 17.5s\tremaining: 8.71s\n",
      "334:\tlearn: 0.9015518\ttest: 0.8485895\tbest: 0.8488989 (293)\ttotal: 17.6s\tremaining: 8.66s\n",
      "335:\tlearn: 0.9016386\ttest: 0.8485477\tbest: 0.8488989 (293)\ttotal: 17.6s\tremaining: 8.6s\n",
      "336:\tlearn: 0.9016803\ttest: 0.8484924\tbest: 0.8488989 (293)\ttotal: 17.7s\tremaining: 8.55s\n",
      "337:\tlearn: 0.9017456\ttest: 0.8484782\tbest: 0.8488989 (293)\ttotal: 17.7s\tremaining: 8.5s\n",
      "338:\tlearn: 0.9017669\ttest: 0.8485088\tbest: 0.8488989 (293)\ttotal: 17.8s\tremaining: 8.44s\n",
      "339:\tlearn: 0.9017551\ttest: 0.8485260\tbest: 0.8488989 (293)\ttotal: 17.8s\tremaining: 8.39s\n",
      "340:\tlearn: 0.9019056\ttest: 0.8484057\tbest: 0.8488989 (293)\ttotal: 17.9s\tremaining: 8.33s\n",
      "341:\tlearn: 0.9019640\ttest: 0.8483900\tbest: 0.8488989 (293)\ttotal: 17.9s\tremaining: 8.28s\n",
      "342:\tlearn: 0.9020637\ttest: 0.8484916\tbest: 0.8488989 (293)\ttotal: 18s\tremaining: 8.23s\n",
      "343:\tlearn: 0.9022541\ttest: 0.8484132\tbest: 0.8488989 (293)\ttotal: 18s\tremaining: 8.18s\n",
      "344:\tlearn: 0.9023001\ttest: 0.8484326\tbest: 0.8488989 (293)\ttotal: 18.1s\tremaining: 8.13s\n",
      "345:\tlearn: 0.9023868\ttest: 0.8483930\tbest: 0.8488989 (293)\ttotal: 18.1s\tremaining: 8.07s\n",
      "346:\tlearn: 0.9025271\ttest: 0.8482667\tbest: 0.8488989 (293)\ttotal: 18.2s\tremaining: 8.02s\n",
      "347:\tlearn: 0.9026091\ttest: 0.8483497\tbest: 0.8488989 (293)\ttotal: 18.3s\tremaining: 7.97s\n",
      "348:\tlearn: 0.9026771\ttest: 0.8484573\tbest: 0.8488989 (293)\ttotal: 18.3s\tremaining: 7.92s\n",
      "349:\tlearn: 0.9027440\ttest: 0.8484685\tbest: 0.8488989 (293)\ttotal: 18.4s\tremaining: 7.87s\n",
      "350:\tlearn: 0.9029430\ttest: 0.8484229\tbest: 0.8488989 (293)\ttotal: 18.4s\tremaining: 7.81s\n",
      "351:\tlearn: 0.9029878\ttest: 0.8484363\tbest: 0.8488989 (293)\ttotal: 18.5s\tremaining: 7.76s\n",
      "352:\tlearn: 0.9030352\ttest: 0.8485021\tbest: 0.8488989 (293)\ttotal: 18.5s\tremaining: 7.71s\n",
      "353:\tlearn: 0.9031814\ttest: 0.8486553\tbest: 0.8488989 (293)\ttotal: 18.6s\tremaining: 7.66s\n",
      "354:\tlearn: 0.9032335\ttest: 0.8486852\tbest: 0.8488989 (293)\ttotal: 18.6s\tremaining: 7.6s\n",
      "355:\tlearn: 0.9033113\ttest: 0.8487846\tbest: 0.8488989 (293)\ttotal: 18.7s\tremaining: 7.55s\n",
      "356:\tlearn: 0.9033909\ttest: 0.8488563\tbest: 0.8488989 (293)\ttotal: 18.7s\tremaining: 7.5s\n",
      "357:\tlearn: 0.9034032\ttest: 0.8488362\tbest: 0.8488989 (293)\ttotal: 18.8s\tremaining: 7.45s\n",
      "358:\tlearn: 0.9034952\ttest: 0.8488758\tbest: 0.8488989 (293)\ttotal: 18.8s\tremaining: 7.39s\n",
      "359:\tlearn: 0.9036053\ttest: 0.8489146\tbest: 0.8489146 (359)\ttotal: 18.9s\tremaining: 7.34s\n",
      "360:\tlearn: 0.9037114\ttest: 0.8488347\tbest: 0.8489146 (359)\ttotal: 18.9s\tremaining: 7.29s\n",
      "361:\tlearn: 0.9037969\ttest: 0.8488085\tbest: 0.8489146 (359)\ttotal: 19s\tremaining: 7.24s\n",
      "362:\tlearn: 0.9038309\ttest: 0.8488130\tbest: 0.8489146 (359)\ttotal: 19s\tremaining: 7.18s\n",
      "363:\tlearn: 0.9038477\ttest: 0.8488257\tbest: 0.8489146 (359)\ttotal: 19.1s\tremaining: 7.13s\n",
      "364:\tlearn: 0.9039226\ttest: 0.8488698\tbest: 0.8489146 (359)\ttotal: 19.1s\tremaining: 7.08s\n",
      "365:\tlearn: 0.9039278\ttest: 0.8488675\tbest: 0.8489146 (359)\ttotal: 19.2s\tremaining: 7.02s\n",
      "366:\tlearn: 0.9040157\ttest: 0.8489214\tbest: 0.8489214 (366)\ttotal: 19.2s\tremaining: 6.97s\n",
      "367:\tlearn: 0.9040776\ttest: 0.8488915\tbest: 0.8489214 (366)\ttotal: 19.3s\tremaining: 6.92s\n",
      "368:\tlearn: 0.9042364\ttest: 0.8489707\tbest: 0.8489707 (368)\ttotal: 19.3s\tremaining: 6.87s\n",
      "369:\tlearn: 0.9042703\ttest: 0.8489572\tbest: 0.8489707 (368)\ttotal: 19.4s\tremaining: 6.82s\n",
      "370:\tlearn: 0.9044103\ttest: 0.8489004\tbest: 0.8489707 (368)\ttotal: 19.4s\tremaining: 6.76s\n",
      "371:\tlearn: 0.9045222\ttest: 0.8488586\tbest: 0.8489707 (368)\ttotal: 19.5s\tremaining: 6.71s\n",
      "372:\tlearn: 0.9045963\ttest: 0.8489438\tbest: 0.8489707 (368)\ttotal: 19.6s\tremaining: 6.66s\n",
      "373:\tlearn: 0.9046706\ttest: 0.8488907\tbest: 0.8489707 (368)\ttotal: 19.6s\tremaining: 6.61s\n",
      "374:\tlearn: 0.9047912\ttest: 0.8489116\tbest: 0.8489707 (368)\ttotal: 19.7s\tremaining: 6.55s\n",
      "375:\tlearn: 0.9049081\ttest: 0.8488115\tbest: 0.8489707 (368)\ttotal: 19.7s\tremaining: 6.5s\n",
      "376:\tlearn: 0.9049536\ttest: 0.8488661\tbest: 0.8489707 (368)\ttotal: 19.8s\tremaining: 6.45s\n",
      "377:\tlearn: 0.9050181\ttest: 0.8489550\tbest: 0.8489707 (368)\ttotal: 19.8s\tremaining: 6.39s\n",
      "378:\tlearn: 0.9050731\ttest: 0.8488877\tbest: 0.8489707 (368)\ttotal: 19.9s\tremaining: 6.34s\n",
      "379:\tlearn: 0.9051385\ttest: 0.8488959\tbest: 0.8489707 (368)\ttotal: 19.9s\tremaining: 6.29s\n",
      "380:\tlearn: 0.9052080\ttest: 0.8488795\tbest: 0.8489707 (368)\ttotal: 20s\tremaining: 6.24s\n"
     ]
    },
    {
     "name": "stdout",
     "output_type": "stream",
     "text": [
      "381:\tlearn: 0.9052666\ttest: 0.8488421\tbest: 0.8489707 (368)\ttotal: 20s\tremaining: 6.19s\n",
      "382:\tlearn: 0.9053042\ttest: 0.8488421\tbest: 0.8489707 (368)\ttotal: 20.1s\tremaining: 6.13s\n",
      "383:\tlearn: 0.9053795\ttest: 0.8487831\tbest: 0.8489707 (368)\ttotal: 20.1s\tremaining: 6.08s\n",
      "384:\tlearn: 0.9055285\ttest: 0.8486501\tbest: 0.8489707 (368)\ttotal: 20.2s\tremaining: 6.03s\n",
      "385:\tlearn: 0.9055408\ttest: 0.8486000\tbest: 0.8489707 (368)\ttotal: 20.2s\tremaining: 5.97s\n",
      "386:\tlearn: 0.9056015\ttest: 0.8486374\tbest: 0.8489707 (368)\ttotal: 20.3s\tremaining: 5.92s\n",
      "387:\tlearn: 0.9057313\ttest: 0.8485245\tbest: 0.8489707 (368)\ttotal: 20.3s\tremaining: 5.87s\n",
      "388:\tlearn: 0.9058832\ttest: 0.8483990\tbest: 0.8489707 (368)\ttotal: 20.4s\tremaining: 5.82s\n",
      "389:\tlearn: 0.9059295\ttest: 0.8484348\tbest: 0.8489707 (368)\ttotal: 20.4s\tremaining: 5.76s\n",
      "390:\tlearn: 0.9059807\ttest: 0.8484132\tbest: 0.8489707 (368)\ttotal: 20.5s\tremaining: 5.71s\n",
      "391:\tlearn: 0.9061175\ttest: 0.8484887\tbest: 0.8489707 (368)\ttotal: 20.5s\tremaining: 5.66s\n",
      "392:\tlearn: 0.9061641\ttest: 0.8484386\tbest: 0.8489707 (368)\ttotal: 20.6s\tremaining: 5.61s\n",
      "393:\tlearn: 0.9062528\ttest: 0.8484625\tbest: 0.8489707 (368)\ttotal: 20.6s\tremaining: 5.55s\n",
      "394:\tlearn: 0.9063041\ttest: 0.8483885\tbest: 0.8489707 (368)\ttotal: 20.7s\tremaining: 5.5s\n",
      "395:\tlearn: 0.9064123\ttest: 0.8483706\tbest: 0.8489707 (368)\ttotal: 20.8s\tremaining: 5.45s\n",
      "396:\tlearn: 0.9064580\ttest: 0.8483848\tbest: 0.8489707 (368)\ttotal: 20.8s\tremaining: 5.4s\n",
      "397:\tlearn: 0.9064678\ttest: 0.8483975\tbest: 0.8489707 (368)\ttotal: 20.9s\tremaining: 5.34s\n",
      "398:\tlearn: 0.9065548\ttest: 0.8483519\tbest: 0.8489707 (368)\ttotal: 20.9s\tremaining: 5.29s\n",
      "399:\tlearn: 0.9066644\ttest: 0.8482181\tbest: 0.8489707 (368)\ttotal: 21s\tremaining: 5.24s\n",
      "400:\tlearn: 0.9067728\ttest: 0.8482390\tbest: 0.8489707 (368)\ttotal: 21s\tremaining: 5.19s\n",
      "401:\tlearn: 0.9067984\ttest: 0.8482286\tbest: 0.8489707 (368)\ttotal: 21.1s\tremaining: 5.14s\n",
      "402:\tlearn: 0.9068890\ttest: 0.8481374\tbest: 0.8489707 (368)\ttotal: 21.1s\tremaining: 5.08s\n",
      "403:\tlearn: 0.9069896\ttest: 0.8481598\tbest: 0.8489707 (368)\ttotal: 21.2s\tremaining: 5.03s\n",
      "404:\tlearn: 0.9070275\ttest: 0.8482241\tbest: 0.8489707 (368)\ttotal: 21.2s\tremaining: 4.98s\n",
      "405:\tlearn: 0.9070921\ttest: 0.8483123\tbest: 0.8489707 (368)\ttotal: 21.3s\tremaining: 4.93s\n",
      "406:\tlearn: 0.9072748\ttest: 0.8483840\tbest: 0.8489707 (368)\ttotal: 21.3s\tremaining: 4.88s\n",
      "407:\tlearn: 0.9073494\ttest: 0.8485118\tbest: 0.8489707 (368)\ttotal: 21.4s\tremaining: 4.82s\n",
      "408:\tlearn: 0.9074364\ttest: 0.8484685\tbest: 0.8489707 (368)\ttotal: 21.4s\tremaining: 4.77s\n",
      "409:\tlearn: 0.9074992\ttest: 0.8484483\tbest: 0.8489707 (368)\ttotal: 21.5s\tremaining: 4.72s\n",
      "410:\tlearn: 0.9075700\ttest: 0.8484124\tbest: 0.8489707 (368)\ttotal: 21.6s\tremaining: 4.67s\n",
      "411:\tlearn: 0.9076281\ttest: 0.8483108\tbest: 0.8489707 (368)\ttotal: 21.6s\tremaining: 4.61s\n",
      "412:\tlearn: 0.9076658\ttest: 0.8483392\tbest: 0.8489707 (368)\ttotal: 21.7s\tremaining: 4.56s\n",
      "413:\tlearn: 0.9077775\ttest: 0.8483616\tbest: 0.8489707 (368)\ttotal: 21.7s\tremaining: 4.51s\n",
      "414:\tlearn: 0.9078047\ttest: 0.8483930\tbest: 0.8489707 (368)\ttotal: 21.8s\tremaining: 4.46s\n",
      "415:\tlearn: 0.9078566\ttest: 0.8483728\tbest: 0.8489707 (368)\ttotal: 21.8s\tremaining: 4.4s\n",
      "416:\tlearn: 0.9078906\ttest: 0.8484147\tbest: 0.8489707 (368)\ttotal: 21.9s\tremaining: 4.35s\n",
      "417:\tlearn: 0.9079168\ttest: 0.8484199\tbest: 0.8489707 (368)\ttotal: 21.9s\tremaining: 4.3s\n",
      "418:\tlearn: 0.9079647\ttest: 0.8484692\tbest: 0.8489707 (368)\ttotal: 22s\tremaining: 4.25s\n",
      "419:\tlearn: 0.9081165\ttest: 0.8483975\tbest: 0.8489707 (368)\ttotal: 22s\tremaining: 4.19s\n",
      "420:\tlearn: 0.9081589\ttest: 0.8484296\tbest: 0.8489707 (368)\ttotal: 22.1s\tremaining: 4.14s\n",
      "421:\tlearn: 0.9082552\ttest: 0.8484715\tbest: 0.8489707 (368)\ttotal: 22.1s\tremaining: 4.09s\n",
      "422:\tlearn: 0.9083429\ttest: 0.8485522\tbest: 0.8489707 (368)\ttotal: 22.2s\tremaining: 4.04s\n",
      "423:\tlearn: 0.9084245\ttest: 0.8484550\tbest: 0.8489707 (368)\ttotal: 22.2s\tremaining: 3.98s\n",
      "424:\tlearn: 0.9084862\ttest: 0.8484991\tbest: 0.8489707 (368)\ttotal: 22.3s\tremaining: 3.93s\n",
      "425:\tlearn: 0.9085757\ttest: 0.8485761\tbest: 0.8489707 (368)\ttotal: 22.3s\tremaining: 3.88s\n",
      "426:\tlearn: 0.9086676\ttest: 0.8484677\tbest: 0.8489707 (368)\ttotal: 22.4s\tremaining: 3.83s\n",
      "427:\tlearn: 0.9087138\ttest: 0.8484767\tbest: 0.8489707 (368)\ttotal: 22.4s\tremaining: 3.78s\n",
      "428:\tlearn: 0.9088269\ttest: 0.8483691\tbest: 0.8489707 (368)\ttotal: 22.5s\tremaining: 3.72s\n",
      "429:\tlearn: 0.9088785\ttest: 0.8483990\tbest: 0.8489707 (368)\ttotal: 22.6s\tremaining: 3.67s\n",
      "430:\tlearn: 0.9090041\ttest: 0.8483713\tbest: 0.8489707 (368)\ttotal: 22.6s\tremaining: 3.62s\n",
      "431:\tlearn: 0.9090957\ttest: 0.8484281\tbest: 0.8489707 (368)\ttotal: 22.7s\tremaining: 3.57s\n",
      "432:\tlearn: 0.9091047\ttest: 0.8484341\tbest: 0.8489707 (368)\ttotal: 22.7s\tremaining: 3.51s\n",
      "433:\tlearn: 0.9091186\ttest: 0.8484035\tbest: 0.8489707 (368)\ttotal: 22.8s\tremaining: 3.46s\n",
      "434:\tlearn: 0.9091622\ttest: 0.8484677\tbest: 0.8489707 (368)\ttotal: 22.8s\tremaining: 3.41s\n",
      "435:\tlearn: 0.9092202\ttest: 0.8484416\tbest: 0.8489707 (368)\ttotal: 22.9s\tremaining: 3.36s\n",
      "436:\tlearn: 0.9092983\ttest: 0.8484177\tbest: 0.8489707 (368)\ttotal: 22.9s\tremaining: 3.3s\n",
      "437:\tlearn: 0.9093939\ttest: 0.8483280\tbest: 0.8489707 (368)\ttotal: 23s\tremaining: 3.25s\n",
      "438:\tlearn: 0.9094900\ttest: 0.8482704\tbest: 0.8489707 (368)\ttotal: 23s\tremaining: 3.2s\n",
      "439:\tlearn: 0.9095009\ttest: 0.8483085\tbest: 0.8489707 (368)\ttotal: 23.1s\tremaining: 3.15s\n",
      "440:\tlearn: 0.9095568\ttest: 0.8482607\tbest: 0.8489707 (368)\ttotal: 23.1s\tremaining: 3.1s\n",
      "441:\tlearn: 0.9096283\ttest: 0.8483332\tbest: 0.8489707 (368)\ttotal: 23.2s\tremaining: 3.04s\n",
      "442:\tlearn: 0.9096939\ttest: 0.8482585\tbest: 0.8489707 (368)\ttotal: 23.2s\tremaining: 2.99s\n",
      "443:\tlearn: 0.9097283\ttest: 0.8482510\tbest: 0.8489707 (368)\ttotal: 23.3s\tremaining: 2.94s\n",
      "444:\tlearn: 0.9098372\ttest: 0.8480208\tbest: 0.8489707 (368)\ttotal: 23.3s\tremaining: 2.88s\n",
      "445:\tlearn: 0.9099499\ttest: 0.8479865\tbest: 0.8489707 (368)\ttotal: 23.4s\tremaining: 2.83s\n",
      "446:\tlearn: 0.9099916\ttest: 0.8479476\tbest: 0.8489707 (368)\ttotal: 23.4s\tremaining: 2.78s\n",
      "447:\tlearn: 0.9100353\ttest: 0.8479573\tbest: 0.8489707 (368)\ttotal: 23.5s\tremaining: 2.73s\n",
      "448:\tlearn: 0.9100884\ttest: 0.8479850\tbest: 0.8489707 (368)\ttotal: 23.6s\tremaining: 2.67s\n",
      "449:\tlearn: 0.9101660\ttest: 0.8480074\tbest: 0.8489707 (368)\ttotal: 23.6s\tremaining: 2.62s\n",
      "450:\tlearn: 0.9102826\ttest: 0.8479917\tbest: 0.8489707 (368)\ttotal: 23.7s\tremaining: 2.57s\n",
      "451:\tlearn: 0.9102784\ttest: 0.8480388\tbest: 0.8489707 (368)\ttotal: 23.7s\tremaining: 2.52s\n",
      "452:\tlearn: 0.9103316\ttest: 0.8480971\tbest: 0.8489707 (368)\ttotal: 23.8s\tremaining: 2.46s\n",
      "453:\tlearn: 0.9103710\ttest: 0.8481314\tbest: 0.8489707 (368)\ttotal: 23.8s\tremaining: 2.41s\n",
      "454:\tlearn: 0.9104026\ttest: 0.8481636\tbest: 0.8489707 (368)\ttotal: 23.9s\tremaining: 2.36s\n",
      "455:\tlearn: 0.9104852\ttest: 0.8481247\tbest: 0.8489707 (368)\ttotal: 23.9s\tremaining: 2.31s\n",
      "456:\tlearn: 0.9105728\ttest: 0.8482577\tbest: 0.8489707 (368)\ttotal: 24s\tremaining: 2.25s\n",
      "457:\tlearn: 0.9105977\ttest: 0.8482510\tbest: 0.8489707 (368)\ttotal: 24s\tremaining: 2.2s\n",
      "458:\tlearn: 0.9106429\ttest: 0.8482189\tbest: 0.8489707 (368)\ttotal: 24.1s\tremaining: 2.15s\n",
      "459:\tlearn: 0.9106941\ttest: 0.8481255\tbest: 0.8489707 (368)\ttotal: 24.1s\tremaining: 2.1s\n",
      "460:\tlearn: 0.9107240\ttest: 0.8481113\tbest: 0.8489707 (368)\ttotal: 24.2s\tremaining: 2.04s\n",
      "461:\tlearn: 0.9107670\ttest: 0.8481397\tbest: 0.8489707 (368)\ttotal: 24.2s\tremaining: 1.99s\n",
      "462:\tlearn: 0.9108481\ttest: 0.8480776\tbest: 0.8489707 (368)\ttotal: 24.3s\tremaining: 1.94s\n",
      "463:\tlearn: 0.9108620\ttest: 0.8480679\tbest: 0.8489707 (368)\ttotal: 24.3s\tremaining: 1.89s\n",
      "464:\tlearn: 0.9109830\ttest: 0.8479790\tbest: 0.8489707 (368)\ttotal: 24.4s\tremaining: 1.83s\n",
      "465:\tlearn: 0.9110381\ttest: 0.8480246\tbest: 0.8489707 (368)\ttotal: 24.4s\tremaining: 1.78s\n",
      "466:\tlearn: 0.9110981\ttest: 0.8480918\tbest: 0.8489707 (368)\ttotal: 24.5s\tremaining: 1.73s\n",
      "467:\tlearn: 0.9111591\ttest: 0.8481142\tbest: 0.8489707 (368)\ttotal: 24.5s\tremaining: 1.68s\n",
      "468:\tlearn: 0.9112055\ttest: 0.8480193\tbest: 0.8489707 (368)\ttotal: 24.6s\tremaining: 1.63s\n",
      "469:\tlearn: 0.9113010\ttest: 0.8479947\tbest: 0.8489707 (368)\ttotal: 24.6s\tremaining: 1.57s\n",
      "470:\tlearn: 0.9113147\ttest: 0.8479782\tbest: 0.8489707 (368)\ttotal: 24.7s\tremaining: 1.52s\n",
      "471:\tlearn: 0.9114319\ttest: 0.8479140\tbest: 0.8489707 (368)\ttotal: 24.8s\tremaining: 1.47s\n",
      "472:\tlearn: 0.9114265\ttest: 0.8479349\tbest: 0.8489707 (368)\ttotal: 24.8s\tremaining: 1.42s\n",
      "473:\tlearn: 0.9115118\ttest: 0.8479842\tbest: 0.8489707 (368)\ttotal: 24.8s\tremaining: 1.36s\n",
      "474:\tlearn: 0.9115491\ttest: 0.8479042\tbest: 0.8489707 (368)\ttotal: 24.9s\tremaining: 1.31s\n"
     ]
    },
    {
     "name": "stdout",
     "output_type": "stream",
     "text": [
      "475:\tlearn: 0.9116393\ttest: 0.8477608\tbest: 0.8489707 (368)\ttotal: 25s\tremaining: 1.26s\n",
      "476:\tlearn: 0.9116850\ttest: 0.8477451\tbest: 0.8489707 (368)\ttotal: 25s\tremaining: 1.21s\n",
      "477:\tlearn: 0.9117291\ttest: 0.8476479\tbest: 0.8489707 (368)\ttotal: 25.1s\tremaining: 1.15s\n",
      "478:\tlearn: 0.9117498\ttest: 0.8477159\tbest: 0.8489707 (368)\ttotal: 25.1s\tremaining: 1.1s\n",
      "479:\tlearn: 0.9118369\ttest: 0.8477391\tbest: 0.8489707 (368)\ttotal: 25.2s\tremaining: 1.05s\n",
      "480:\tlearn: 0.9119442\ttest: 0.8476726\tbest: 0.8489707 (368)\ttotal: 25.2s\tremaining: 996ms\n",
      "481:\tlearn: 0.9120033\ttest: 0.8476449\tbest: 0.8489707 (368)\ttotal: 25.3s\tremaining: 943ms\n",
      "482:\tlearn: 0.9121655\ttest: 0.8475964\tbest: 0.8489707 (368)\ttotal: 25.3s\tremaining: 891ms\n",
      "483:\tlearn: 0.9122372\ttest: 0.8475605\tbest: 0.8489707 (368)\ttotal: 25.4s\tremaining: 839ms\n",
      "484:\tlearn: 0.9123235\ttest: 0.8475709\tbest: 0.8489707 (368)\ttotal: 25.4s\tremaining: 786ms\n",
      "485:\tlearn: 0.9123743\ttest: 0.8475687\tbest: 0.8489707 (368)\ttotal: 25.5s\tremaining: 734ms\n",
      "486:\tlearn: 0.9124356\ttest: 0.8475336\tbest: 0.8489707 (368)\ttotal: 25.5s\tremaining: 681ms\n",
      "487:\tlearn: 0.9124476\ttest: 0.8475388\tbest: 0.8489707 (368)\ttotal: 25.6s\tremaining: 629ms\n",
      "488:\tlearn: 0.9125504\ttest: 0.8476053\tbest: 0.8489707 (368)\ttotal: 25.6s\tremaining: 576ms\n",
      "489:\tlearn: 0.9126650\ttest: 0.8477099\tbest: 0.8489707 (368)\ttotal: 25.7s\tremaining: 524ms\n",
      "490:\tlearn: 0.9127043\ttest: 0.8477413\tbest: 0.8489707 (368)\ttotal: 25.7s\tremaining: 472ms\n",
      "491:\tlearn: 0.9127602\ttest: 0.8477406\tbest: 0.8489707 (368)\ttotal: 25.8s\tremaining: 419ms\n",
      "492:\tlearn: 0.9128010\ttest: 0.8477809\tbest: 0.8489707 (368)\ttotal: 25.8s\tremaining: 367ms\n",
      "493:\tlearn: 0.9128513\ttest: 0.8477443\tbest: 0.8489707 (368)\ttotal: 25.9s\tremaining: 314ms\n",
      "494:\tlearn: 0.9129161\ttest: 0.8476524\tbest: 0.8489707 (368)\ttotal: 25.9s\tremaining: 262ms\n",
      "495:\tlearn: 0.9131196\ttest: 0.8474521\tbest: 0.8489707 (368)\ttotal: 26s\tremaining: 210ms\n",
      "496:\tlearn: 0.9131693\ttest: 0.8473886\tbest: 0.8489707 (368)\ttotal: 26.1s\tremaining: 157ms\n",
      "497:\tlearn: 0.9131907\ttest: 0.8473340\tbest: 0.8489707 (368)\ttotal: 26.1s\tremaining: 105ms\n",
      "498:\tlearn: 0.9132164\ttest: 0.8473781\tbest: 0.8489707 (368)\ttotal: 26.2s\tremaining: 52.4ms\n",
      "499:\tlearn: 0.9132755\ttest: 0.8473520\tbest: 0.8489707 (368)\ttotal: 26.2s\tremaining: 0us\n",
      "\n",
      "bestTest = 0.8489706758\n",
      "bestIteration = 368\n",
      "\n",
      "Shrink model to first 369 iterations.\n"
     ]
    },
    {
     "data": {
      "text/plain": [
       "<catboost.core.CatBoostClassifier at 0xad5a4a8>"
      ]
     },
     "execution_count": 540,
     "metadata": {},
     "output_type": "execute_result"
    }
   ],
   "source": [
    "from catboost import CatBoostClassifier\n",
    "model = CatBoostClassifier(random_seed=7, iterations=500, verbose= True, use_best_model=True, eval_metric='AUC')\n",
    "model.fit(X_train, y_train, eval_set=(X_test, y_test))"
   ]
  },
  {
   "cell_type": "code",
   "execution_count": 541,
   "metadata": {},
   "outputs": [
    {
     "name": "stdout",
     "output_type": "stream",
     "text": [
      "CatBoostClassifier has confusion_matrix: \n",
      "[[8523    0]\n",
      " [ 157    0]]\n",
      "CatBoostClassifier has roc_auc_score: 0.8489706758258471\n"
     ]
    }
   ],
   "source": [
    "preds_cb = model.predict(X_test)\n",
    "print('{} has confusion_matrix: \\n{}'.format(model.__class__.__name__, confusion_matrix(y_test, preds_cb)))\n",
    "preds_cb = model.predict_proba(X_test)[:,1]\n",
    "print('{} has roc_auc_score: {}'.format(model.__class__.__name__, roc_auc_score(y_test, preds_cb)))\n",
    "preds_cb = model.predict_proba(test_df)[:,1]"
   ]
  },
  {
   "cell_type": "code",
   "execution_count": 550,
   "metadata": {
    "collapsed": true
   },
   "outputs": [],
   "source": [
    "preds = (preds1*0.55+preds_cb*0.45)"
   ]
  },
  {
   "cell_type": "code",
   "execution_count": 551,
   "metadata": {
    "collapsed": true
   },
   "outputs": [],
   "source": [
    "sub = pd.DataFrame()\n",
    "sub = pd.concat([test_ids, pd.Series(preds)], axis=1)\n",
    "sub = sub.rename(columns={0:'stroke'})\n",
    "sub[['stroke']] = sub[['stroke']].apply(pd.to_numeric)\n",
    "sub.to_csv('sub2.csv', index=False)"
   ]
  },
  {
   "cell_type": "code",
   "execution_count": null,
   "metadata": {
    "collapsed": true
   },
   "outputs": [],
   "source": []
  },
  {
   "cell_type": "code",
   "execution_count": null,
   "metadata": {
    "collapsed": true
   },
   "outputs": [],
   "source": []
  },
  {
   "cell_type": "code",
   "execution_count": null,
   "metadata": {
    "collapsed": true
   },
   "outputs": [],
   "source": []
  },
  {
   "cell_type": "code",
   "execution_count": null,
   "metadata": {
    "collapsed": true
   },
   "outputs": [],
   "source": []
  },
  {
   "cell_type": "code",
   "execution_count": null,
   "metadata": {
    "collapsed": true
   },
   "outputs": [],
   "source": []
  },
  {
   "cell_type": "code",
   "execution_count": null,
   "metadata": {
    "collapsed": true
   },
   "outputs": [],
   "source": []
  },
  {
   "cell_type": "code",
   "execution_count": null,
   "metadata": {
    "collapsed": true
   },
   "outputs": [],
   "source": []
  },
  {
   "cell_type": "code",
   "execution_count": null,
   "metadata": {
    "collapsed": true
   },
   "outputs": [],
   "source": []
  }
 ],
 "metadata": {
  "kernelspec": {
   "display_name": "Python 3",
   "language": "python",
   "name": "python3"
  },
  "language_info": {
   "codemirror_mode": {
    "name": "ipython",
    "version": 3
   },
   "file_extension": ".py",
   "mimetype": "text/x-python",
   "name": "python",
   "nbconvert_exporter": "python",
   "pygments_lexer": "ipython3",
   "version": "3.6.3"
  }
 },
 "nbformat": 4,
 "nbformat_minor": 2
}
